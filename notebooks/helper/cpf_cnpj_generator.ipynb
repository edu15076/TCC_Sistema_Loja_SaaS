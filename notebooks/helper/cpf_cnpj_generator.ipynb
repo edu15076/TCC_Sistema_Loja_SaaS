{
 "cells": [
  {
   "cell_type": "code",
   "id": "initial_id",
   "metadata": {
    "collapsed": true,
    "ExecuteTime": {
     "end_time": "2024-06-23T21:23:40.856850Z",
     "start_time": "2024-06-23T21:23:40.851663Z"
    }
   },
   "source": [
    "def complete_cnpj(inicio_cnpj):\n",
    "    if not inicio_cnpj or len(inicio_cnpj) != 12:\n",
    "        raise ValueError('Devem ser passados os primeiros 12 dígitos do cnpj')\n",
    "\n",
    "    pesos = [5, 4, 3, 2, 9, 8, 7, 6, 5, 4, 3, 2]\n",
    "\n",
    "    # Calcula o primeiro dígito verificador\n",
    "    soma = 0\n",
    "    for digito, peso in zip(inicio_cnpj, pesos):\n",
    "        soma += int(digito) * peso\n",
    "\n",
    "    resto = soma % 11\n",
    "    digito1 = 0 if resto < 2 else 11 - resto\n",
    "\n",
    "    inicio_cnpj += str(digito1)\n",
    "\n",
    "    pesos.insert(0, 6)\n",
    "\n",
    "    # Calcula o segundo dígito verificador\n",
    "    soma = 0\n",
    "    for digito, peso in zip(inicio_cnpj, pesos):\n",
    "        soma += int(digito) * peso\n",
    "\n",
    "    resto = soma % 11\n",
    "    digito2 = 0 if resto < 2 else 11 - resto\n",
    "    \n",
    "    inicio_cnpj += str(digito2)\n",
    "\n",
    "    return inicio_cnpj"
   ],
   "outputs": [],
   "execution_count": 1
  },
  {
   "metadata": {
    "ExecuteTime": {
     "end_time": "2024-06-23T21:23:42.673466Z",
     "start_time": "2024-06-23T21:23:42.669654Z"
    }
   },
   "cell_type": "code",
   "source": [
    "def complete_cpf(inicio_cpf):\n",
    "    if not inicio_cpf or len(inicio_cpf) != 9:\n",
    "        raise ValueError('Devem ser passados os primeiros 9 dígitos do cpf')\n",
    "\n",
    "    # Calculate the first check digit\n",
    "    sum = 0\n",
    "    for i, digito in enumerate(inicio_cpf):\n",
    "        sum += int(digito) * (i + 1)\n",
    "    check_digit1 = sum % 11\n",
    "    if check_digit1 == 10:\n",
    "        check_digit1 = 0\n",
    "    \n",
    "    inicio_cpf += str(check_digit1)\n",
    "\n",
    "    # Calculate the second check digit\n",
    "    sum = 0\n",
    "    for i, digito in enumerate(inicio_cpf):\n",
    "        sum += int(digito) * i\n",
    "    check_digit2 = sum % 11\n",
    "    if check_digit2 == 10:\n",
    "        check_digit2 = 0\n",
    "        \n",
    "    inicio_cpf += str(check_digit2)\n",
    "\n",
    "    return inicio_cpf"
   ],
   "id": "ed5adf214a8a0291",
   "outputs": [],
   "execution_count": 2
  },
  {
   "metadata": {
    "ExecuteTime": {
     "end_time": "2024-06-23T21:23:46.140404Z",
     "start_time": "2024-06-23T21:23:46.137203Z"
    }
   },
   "cell_type": "code",
   "source": [
    "def complete_with_zero(s: str, size: int):\n",
    "    zeros = ['0' for _ in range(size - len(s))]\n",
    "    zeros = ''.join(zeros)\n",
    "    return zeros + s"
   ],
   "id": "a06d75e4e1ac25ca",
   "outputs": [],
   "execution_count": 3
  },
  {
   "metadata": {
    "ExecuteTime": {
     "end_time": "2024-06-23T21:23:47.167920Z",
     "start_time": "2024-06-23T21:23:47.165394Z"
    }
   },
   "cell_type": "code",
   "source": "from random import randint",
   "id": "de229a4134c8d06",
   "outputs": [],
   "execution_count": 4
  },
  {
   "metadata": {
    "ExecuteTime": {
     "end_time": "2024-06-23T21:23:48.094861Z",
     "start_time": "2024-06-23T21:23:48.092312Z"
    }
   },
   "cell_type": "code",
   "source": [
    "def gerar_cnpj():\n",
    "    return complete_cnpj(complete_with_zero(str(randint(0, 999_999_999_999)), 12))"
   ],
   "id": "c962a60f0401ec14",
   "outputs": [],
   "execution_count": 5
  },
  {
   "metadata": {
    "ExecuteTime": {
     "end_time": "2024-06-23T21:23:49.733248Z",
     "start_time": "2024-06-23T21:23:49.729733Z"
    }
   },
   "cell_type": "code",
   "source": [
    "def gerar_cpf():\n",
    "    return complete_cpf(complete_with_zero(str(randint(0, 999_999_999)), 9))"
   ],
   "id": "32b42d2c3cd3af5",
   "outputs": [],
   "execution_count": 6
  },
  {
   "metadata": {},
   "cell_type": "markdown",
   "source": "### Gerador de CNPJ",
   "id": "24b097e56f3650b2"
  },
  {
   "metadata": {
    "ExecuteTime": {
     "end_time": "2024-06-23T21:23:52.550668Z",
     "start_time": "2024-06-23T21:23:52.545876Z"
    }
   },
   "cell_type": "code",
   "source": "gerar_cnpj()",
   "id": "118e3c3f07a19ef5",
   "outputs": [
    {
     "data": {
      "text/plain": [
       "'53354445291947'"
      ]
     },
     "execution_count": 7,
     "metadata": {},
     "output_type": "execute_result"
    }
   ],
   "execution_count": 7
  },
  {
   "metadata": {},
   "cell_type": "markdown",
   "source": "### Gerador de CPF",
   "id": "b20798e5bf3b837d"
  },
  {
   "metadata": {
    "ExecuteTime": {
     "end_time": "2024-05-30T04:38:32.460274Z",
     "start_time": "2024-05-30T04:38:32.456725Z"
    }
   },
   "cell_type": "code",
   "source": "gerar_cpf()",
   "id": "bc9e4c8acfcbf77f",
   "outputs": [
    {
     "data": {
      "text/plain": [
       "'20631528105'"
      ]
     },
     "execution_count": 8,
     "metadata": {},
     "output_type": "execute_result"
    }
   ],
   "execution_count": 8
  }
 ],
 "metadata": {
  "kernelspec": {
   "display_name": "Python 3",
   "language": "python",
   "name": "python3"
  },
  "language_info": {
   "codemirror_mode": {
    "name": "ipython",
    "version": 2
   },
   "file_extension": ".py",
   "mimetype": "text/x-python",
   "name": "python",
   "nbconvert_exporter": "python",
   "pygments_lexer": "ipython2",
   "version": "2.7.6"
  }
 },
 "nbformat": 4,
 "nbformat_minor": 5
}
