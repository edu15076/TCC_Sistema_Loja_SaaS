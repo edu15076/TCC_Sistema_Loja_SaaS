{
 "cells": [
  {
   "cell_type": "code",
   "id": "initial_id",
   "metadata": {
    "collapsed": true,
    "ExecuteTime": {
     "end_time": "2024-05-24T19:42:07.162629Z",
     "start_time": "2024-05-24T19:42:07.157665Z"
    }
   },
   "source": [
    "import sys\n",
    "\n",
    "from util.django import restart_django\n",
    "\n",
    "sys.path.append(r'../../src')\n",
    "\n",
    "restart_django(imprimir_versoes=True)"
   ],
   "execution_count": 5,
   "outputs": []
  },
  {
   "metadata": {
    "ExecuteTime": {
     "end_time": "2024-05-24T19:42:07.166005Z",
     "start_time": "2024-05-24T19:42:07.163634Z"
    }
   },
   "cell_type": "code",
   "source": [
    "from datetime import date, datetime\n",
    "import pandas as pd"
   ],
   "id": "d6bf8db41457fbc",
   "execution_count": 6,
   "outputs": []
  },
  {
   "metadata": {
    "ExecuteTime": {
     "end_time": "2024-05-24T19:42:07.169266Z",
     "start_time": "2024-05-24T19:42:07.167015Z"
    }
   },
   "cell_type": "code",
   "source": "from loja.models import Loja, Funcionario, Chefe",
   "id": "18d3bbbf895a98ac",
   "execution_count": 7,
   "outputs": []
  },
  {
   "metadata": {
    "ExecuteTime": {
     "end_time": "2024-05-24T19:42:07.183856Z",
     "start_time": "2024-05-24T19:42:07.170278Z"
    }
   },
   "cell_type": "code",
   "source": "loja = Loja.lojas.create()",
   "id": "fa3bf8ff79c3539",
   "execution_count": 8,
   "outputs": []
  },
  {
   "metadata": {
    "ExecuteTime": {
     "end_time": "2024-05-24T19:42:07.536477Z",
     "start_time": "2024-05-24T19:42:07.183856Z"
    }
   },
   "cell_type": "code",
   "source": [
    "chefe = Chefe.funcionarios.criar_funcionario(\n",
    "    cpf='85103333864',\n",
    "    loja=loja,\n",
    "    password='senha$#$doiasdf2345r',\n",
    "    email='hahahhahahah@gmail.com',\n",
    "    telefone='32999781209',\n",
    "    nome='Batman',\n",
    "    sobrenome=', O Mau'\n",
    ")"
   ],
   "id": "2bf3376706164064",
   "execution_count": 9,
   "outputs": []
  },
  {
   "metadata": {
    "ExecuteTime": {
     "end_time": "2024-05-24T19:42:07.877214Z",
     "start_time": "2024-05-24T19:42:07.537488Z"
    }
   },
   "cell_type": "code",
   "source": [
    "funcionario = Funcionario.funcionarios.criar_funcionario(\n",
    "    cpf='55508842080',\n",
    "    loja=loja,\n",
    "    password='senha$#$doiasdf2345r',\n",
    "    email='hahahhahahah@gmail.com',\n",
    "    telefone='32999781209',\n",
    "    nome='Coringa',\n",
    "    sobrenome=', O Bom'\n",
    ")"
   ],
   "id": "aa90fb28d357ffd",
   "execution_count": 10,
   "outputs": []
  },
  {
   "metadata": {},
   "cell_type": "markdown",
   "source": "Automaticamente marca como chefe",
   "id": "8a70ab84206c10c0"
  },
  {
   "metadata": {
    "ExecuteTime": {
     "end_time": "2024-05-24T19:42:07.885913Z",
     "start_time": "2024-05-24T19:42:07.878223Z"
    }
   },
   "cell_type": "code",
   "source": "chefe.groups.values_list('name', flat=True)",
   "id": "40f5806cf28462b6",
   "execution_count": 11,
   "outputs": []
  },
  {
   "metadata": {},
   "cell_type": "markdown",
   "source": "Crie um funcionário usando `Funcionario` e ele não exercerá nenhum papel ao ser criado",
   "id": "2c9eb07051042100"
  },
  {
   "metadata": {
    "ExecuteTime": {
     "end_time": "2024-05-24T19:42:07.891112Z",
     "start_time": "2024-05-24T19:42:07.885913Z"
    }
   },
   "cell_type": "code",
   "source": "funcionario.groups.values_list('name', flat=True)",
   "id": "5fe07382d877dcd2",
   "execution_count": 12,
   "outputs": []
  },
  {
   "metadata": {},
   "cell_type": "markdown",
   "source": "Adicione papéis a um funcionario com o método `adicionar_papel`, em desenvolvimento.",
   "id": "e0f1979beb055e68"
  },
  {
   "metadata": {
    "ExecuteTime": {
     "end_time": "2024-05-24T19:42:07.894663Z",
     "start_time": "2024-05-24T19:42:07.892122Z"
    }
   },
   "cell_type": "code",
   "source": "from django.contrib.auth.models import Group",
   "id": "5ea50d4a7022db40",
   "execution_count": 13,
   "outputs": []
  },
  {
   "metadata": {
    "ExecuteTime": {
     "end_time": "2024-05-24T19:42:07.905609Z",
     "start_time": "2024-05-24T19:42:07.896674Z"
    }
   },
   "cell_type": "code",
   "source": "funcionario.adicionar_papel(Group.objects.get(name='loja_caixeiros'))",
   "id": "b501186ec2cf4732",
   "execution_count": 14,
   "outputs": []
  },
  {
   "metadata": {
    "ExecuteTime": {
     "end_time": "2024-05-24T19:42:34.705602Z",
     "start_time": "2024-05-24T19:42:34.700420Z"
    }
   },
   "cell_type": "code",
   "source": "funcionario.groups.values_list('name', flat=True)",
   "id": "6e2c0fd53c16e764",
   "execution_count": 15,
   "outputs": []
  }
 ],
 "metadata": {
  "kernelspec": {
   "display_name": "Python 3",
   "language": "python",
   "name": "python3"
  },
  "language_info": {
   "codemirror_mode": {
    "name": "ipython",
    "version": 2
   },
   "file_extension": ".py",
   "mimetype": "text/x-python",
   "name": "python",
   "nbconvert_exporter": "python",
   "pygments_lexer": "ipython2",
   "version": "2.7.6"
  }
 },
 "nbformat": 4,
 "nbformat_minor": 5
}
