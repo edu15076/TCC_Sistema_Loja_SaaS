{
 "cells": [
  {
   "cell_type": "code",
   "id": "initial_id",
   "metadata": {
    "collapsed": true,
    "ExecuteTime": {
     "end_time": "2024-11-21T03:55:23.017442Z",
     "start_time": "2024-11-21T03:55:22.169124Z"
    }
   },
   "source": [
    "import sys\n",
    "\n",
    "from util.django import restart_django\n",
    "\n",
    "sys.path.append(r'../../src')\n",
    "\n",
    "restart_django(imprimir_versoes=True)"
   ],
   "outputs": [
    {
     "name": "stdout",
     "output_type": "stream",
     "text": [
      "Python 3.12.1 (tags/v3.12.1:2305ca5, Dec  7 2023, 22:03:25) [MSC v.1937 64 bit (AMD64)] on win32\n",
      "Django 5.0.4\n"
     ]
    }
   ],
   "execution_count": 1
  },
  {
   "metadata": {
    "ExecuteTime": {
     "end_time": "2024-11-21T03:55:26.156935Z",
     "start_time": "2024-11-21T03:55:25.801262Z"
    }
   },
   "cell_type": "code",
   "source": [
    "from datetime import date, datetime\n",
    "import pandas as pd"
   ],
   "id": "d6bf8db41457fbc",
   "outputs": [],
   "execution_count": 2
  },
  {
   "metadata": {
    "ExecuteTime": {
     "end_time": "2024-11-21T03:55:26.733435Z",
     "start_time": "2024-11-21T03:55:26.730519Z"
    }
   },
   "cell_type": "code",
   "source": [
    "from loja.models import Loja, Funcionario\n",
    "from django.contrib.auth.models import Group"
   ],
   "id": "18d3bbbf895a98ac",
   "outputs": [],
   "execution_count": 3
  },
  {
   "metadata": {
    "ExecuteTime": {
     "end_time": "2024-11-21T02:57:59.315818Z",
     "start_time": "2024-11-21T02:57:59.258218Z"
    }
   },
   "cell_type": "code",
   "source": "loja = Loja.lojas.create()",
   "id": "fa3bf8ff79c3539",
   "outputs": [],
   "execution_count": 4
  },
  {
   "metadata": {
    "ExecuteTime": {
     "end_time": "2024-11-21T02:58:01.609193Z",
     "start_time": "2024-11-21T02:58:01.261495Z"
    }
   },
   "cell_type": "code",
   "source": [
    "chefe = Funcionario.funcionarios.criar_funcionario(\n",
    "    cpf='85103333864',\n",
    "    loja=loja,\n",
    "    password='senha$#$doiasdf2345r',\n",
    "    email='hahahhahahah@gmail.com',\n",
    "    telefone='32999781209',\n",
    "    nome='Batman',\n",
    "    sobrenome=', O Mau'\n",
    ")"
   ],
   "id": "2bf3376706164064",
   "outputs": [],
   "execution_count": 5
  },
  {
   "metadata": {
    "ExecuteTime": {
     "end_time": "2024-11-21T02:58:04.047002Z",
     "start_time": "2024-11-21T02:58:03.702180Z"
    }
   },
   "cell_type": "code",
   "source": [
    "funcionario = Funcionario.funcionarios.criar_funcionario(\n",
    "    cpf='55508842080',\n",
    "    loja=loja,\n",
    "    password='senha$#$doiasdf2345r',\n",
    "    email='hahahhahahah@gmail.com',\n",
    "    telefone='32999781209',\n",
    "    nome='Coringa',\n",
    "    sobrenome=', O Bom'\n",
    ")"
   ],
   "id": "aa90fb28d357ffd",
   "outputs": [],
   "execution_count": 6
  },
  {
   "metadata": {
    "ExecuteTime": {
     "end_time": "2024-11-21T03:02:43.541408Z",
     "start_time": "2024-11-21T03:02:43.531084Z"
    }
   },
   "cell_type": "code",
   "source": "chefe.groups.add(Group.objects.get(name='loja_gerentes_de_rh'), Group.objects.get(name='loja_gerentes_financeiros'), Group.objects.get(name='loja_gerentes_de_estoque'), Group.objects.get(name='loja_caixeiros'), Group.objects.get(name='loja_vendedores'))",
   "id": "849cc7d5576b602b",
   "outputs": [],
   "execution_count": 9
  },
  {
   "metadata": {},
   "cell_type": "markdown",
   "source": "Automaticamente marca como chefe",
   "id": "8a70ab84206c10c0"
  },
  {
   "metadata": {
    "ExecuteTime": {
     "end_time": "2024-11-21T03:02:45.426498Z",
     "start_time": "2024-11-21T03:02:45.410588Z"
    }
   },
   "cell_type": "code",
   "outputs": [
    {
     "data": {
      "text/plain": [
       "                           0\n",
       "0        loja_gerentes_de_rh\n",
       "1   loja_gerentes_de_estoque\n",
       "2  loja_gerentes_financeiros\n",
       "3             loja_caixeiros\n",
       "4            loja_vendedores"
      ],
      "text/html": [
       "<div>\n",
       "<style scoped>\n",
       "    .dataframe tbody tr th:only-of-type {\n",
       "        vertical-align: middle;\n",
       "    }\n",
       "\n",
       "    .dataframe tbody tr th {\n",
       "        vertical-align: top;\n",
       "    }\n",
       "\n",
       "    .dataframe thead th {\n",
       "        text-align: right;\n",
       "    }\n",
       "</style>\n",
       "<table border=\"1\" class=\"dataframe\">\n",
       "  <thead>\n",
       "    <tr style=\"text-align: right;\">\n",
       "      <th></th>\n",
       "      <th>0</th>\n",
       "    </tr>\n",
       "  </thead>\n",
       "  <tbody>\n",
       "    <tr>\n",
       "      <th>0</th>\n",
       "      <td>loja_gerentes_de_rh</td>\n",
       "    </tr>\n",
       "    <tr>\n",
       "      <th>1</th>\n",
       "      <td>loja_gerentes_de_estoque</td>\n",
       "    </tr>\n",
       "    <tr>\n",
       "      <th>2</th>\n",
       "      <td>loja_gerentes_financeiros</td>\n",
       "    </tr>\n",
       "    <tr>\n",
       "      <th>3</th>\n",
       "      <td>loja_caixeiros</td>\n",
       "    </tr>\n",
       "    <tr>\n",
       "      <th>4</th>\n",
       "      <td>loja_vendedores</td>\n",
       "    </tr>\n",
       "  </tbody>\n",
       "</table>\n",
       "</div>"
      ]
     },
     "execution_count": 10,
     "metadata": {},
     "output_type": "execute_result"
    }
   ],
   "execution_count": 10,
   "source": "pd.DataFrame(chefe.groups.values_list('name', flat=True))",
   "id": "40f5806cf28462b6"
  },
  {
   "metadata": {},
   "cell_type": "markdown",
   "source": "Crie um funcionário usando `Funcionario` e ele não exercerá nenhum papel ao ser criado",
   "id": "2c9eb07051042100"
  },
  {
   "metadata": {
    "ExecuteTime": {
     "end_time": "2024-05-30T03:35:00.594640Z",
     "start_time": "2024-05-30T03:35:00.588645Z"
    }
   },
   "cell_type": "code",
   "source": "funcionario.groups.values_list('name', flat=True)",
   "id": "5fe07382d877dcd2",
   "outputs": [
    {
     "data": {
      "text/plain": [
       "<QuerySet []>"
      ]
     },
     "execution_count": 8,
     "metadata": {},
     "output_type": "execute_result"
    }
   ],
   "execution_count": 8
  },
  {
   "metadata": {},
   "cell_type": "markdown",
   "source": "Adicione papéis a um funcionario com o método `adicionar_papel`, em desenvolvimento.",
   "id": "e0f1979beb055e68"
  },
  {
   "metadata": {
    "ExecuteTime": {
     "end_time": "2024-11-21T03:04:49.913733Z",
     "start_time": "2024-11-21T03:04:49.902124Z"
    }
   },
   "cell_type": "code",
   "source": "funcionario.adicionar_papel(Group.objects.get(name='loja_caixeiros'))",
   "id": "b501186ec2cf4732",
   "outputs": [],
   "execution_count": 11
  },
  {
   "metadata": {
    "ExecuteTime": {
     "end_time": "2024-11-21T03:04:53.297781Z",
     "start_time": "2024-11-21T03:04:53.292420Z"
    }
   },
   "cell_type": "code",
   "source": "funcionario.groups.values_list('name', flat=True)",
   "id": "6e2c0fd53c16e764",
   "outputs": [
    {
     "data": {
      "text/plain": [
       "<QuerySet ['loja_caixeiros']>"
      ]
     },
     "execution_count": 12,
     "metadata": {},
     "output_type": "execute_result"
    }
   ],
   "execution_count": 12
  },
  {
   "metadata": {
    "ExecuteTime": {
     "end_time": "2024-11-21T03:55:35.989289Z",
     "start_time": "2024-11-21T03:55:35.986341Z"
    }
   },
   "cell_type": "code",
   "source": "from loja.models import GerenteDeRH, GerenteDeEstoque, GerenteFinanceiro, Caixeiro, Vendedor",
   "id": "7b325070e311d14e",
   "outputs": [],
   "execution_count": 4
  },
  {
   "metadata": {
    "ExecuteTime": {
     "end_time": "2024-11-21T03:05:09.171316Z",
     "start_time": "2024-11-21T03:05:09.147120Z"
    }
   },
   "cell_type": "code",
   "source": "Funcionario.cast_para_primeira_subclasse([GerenteDeRH, GerenteDeEstoque, GerenteFinanceiro, Caixeiro, Vendedor], funcionario)",
   "id": "127517fbae4ec390",
   "outputs": [
    {
     "data": {
      "text/plain": [
       "<Caixeiro: {codigo=55508842080, scope=LojaScope object (2)}>"
      ]
     },
     "execution_count": 15,
     "metadata": {},
     "output_type": "execute_result"
    }
   ],
   "execution_count": 15
  },
  {
   "metadata": {
    "ExecuteTime": {
     "end_time": "2024-11-21T03:07:04.116660Z",
     "start_time": "2024-11-21T03:07:04.096131Z"
    }
   },
   "cell_type": "code",
   "source": "Funcionario.cast_para_primeira_subclasse([GerenteDeRH, GerenteDeEstoque, GerenteFinanceiro, Caixeiro, Vendedor], chefe)",
   "id": "2198681bab1922b1",
   "outputs": [
    {
     "data": {
      "text/plain": [
       "<Funcionario: {codigo=85103333864, scope=Scope object (2)}>"
      ]
     },
     "execution_count": 29,
     "metadata": {},
     "output_type": "execute_result"
    }
   ],
   "execution_count": 29
  },
  {
   "metadata": {
    "ExecuteTime": {
     "end_time": "2024-11-21T03:07:33.873030Z",
     "start_time": "2024-11-21T03:07:33.867340Z"
    }
   },
   "cell_type": "code",
   "source": "chefe.groups.add(Group.objects.get(name='loja_vendedores'))",
   "id": "bcc95477d5de33f8",
   "outputs": [],
   "execution_count": 36
  },
  {
   "metadata": {
    "ExecuteTime": {
     "end_time": "2024-11-21T03:10:14.611010Z",
     "start_time": "2024-11-21T03:10:14.597188Z"
    }
   },
   "cell_type": "code",
   "source": "pd.DataFrame(Funcionario.funcionarios.all().values())",
   "id": "7c592e8ac83eb92c",
   "outputs": [
    {
     "data": {
      "text/plain": [
       "                                            password last_login  is_superuser  \\\n",
       "0  pbkdf2_sha256$720000$BY9keHMp7TfKTpiNRge2p6$Ay...       None         False   \n",
       "1  pbkdf2_sha256$720000$2P8sxX6KlMDVa19v36dMZv$pM...       None         False   \n",
       "\n",
       "   is_staff  is_active                      date_joined       codigo  \\\n",
       "0     False       True 2024-11-21 02:58:01.266503+00:00  85103333864   \n",
       "1     False       True 2024-11-21 02:58:03.712815+00:00  55508842080   \n",
       "\n",
       "      telefone                   email  pessoa_usuario_id  \\\n",
       "0  32999781209  hahahhahahah@gmail.com                  2   \n",
       "1  32999781209  hahahhahahah@gmail.com                  3   \n",
       "\n",
       "   usuariogenerico_ptr_id     nome sobrenome data_nascimento  usuario_id  \\\n",
       "0                       2   Batman   , O Mau            None           2   \n",
       "1                       3  Coringa   , O Bom            None           3   \n",
       "\n",
       "           cpf  scope  loja  \n",
       "0  85103333864      2     2  \n",
       "1  55508842080      2     2  "
      ],
      "text/html": [
       "<div>\n",
       "<style scoped>\n",
       "    .dataframe tbody tr th:only-of-type {\n",
       "        vertical-align: middle;\n",
       "    }\n",
       "\n",
       "    .dataframe tbody tr th {\n",
       "        vertical-align: top;\n",
       "    }\n",
       "\n",
       "    .dataframe thead th {\n",
       "        text-align: right;\n",
       "    }\n",
       "</style>\n",
       "<table border=\"1\" class=\"dataframe\">\n",
       "  <thead>\n",
       "    <tr style=\"text-align: right;\">\n",
       "      <th></th>\n",
       "      <th>password</th>\n",
       "      <th>last_login</th>\n",
       "      <th>is_superuser</th>\n",
       "      <th>is_staff</th>\n",
       "      <th>is_active</th>\n",
       "      <th>date_joined</th>\n",
       "      <th>codigo</th>\n",
       "      <th>telefone</th>\n",
       "      <th>email</th>\n",
       "      <th>pessoa_usuario_id</th>\n",
       "      <th>usuariogenerico_ptr_id</th>\n",
       "      <th>nome</th>\n",
       "      <th>sobrenome</th>\n",
       "      <th>data_nascimento</th>\n",
       "      <th>usuario_id</th>\n",
       "      <th>cpf</th>\n",
       "      <th>scope</th>\n",
       "      <th>loja</th>\n",
       "    </tr>\n",
       "  </thead>\n",
       "  <tbody>\n",
       "    <tr>\n",
       "      <th>0</th>\n",
       "      <td>pbkdf2_sha256$720000$BY9keHMp7TfKTpiNRge2p6$Ay...</td>\n",
       "      <td>None</td>\n",
       "      <td>False</td>\n",
       "      <td>False</td>\n",
       "      <td>True</td>\n",
       "      <td>2024-11-21 02:58:01.266503+00:00</td>\n",
       "      <td>85103333864</td>\n",
       "      <td>32999781209</td>\n",
       "      <td>hahahhahahah@gmail.com</td>\n",
       "      <td>2</td>\n",
       "      <td>2</td>\n",
       "      <td>Batman</td>\n",
       "      <td>, O Mau</td>\n",
       "      <td>None</td>\n",
       "      <td>2</td>\n",
       "      <td>85103333864</td>\n",
       "      <td>2</td>\n",
       "      <td>2</td>\n",
       "    </tr>\n",
       "    <tr>\n",
       "      <th>1</th>\n",
       "      <td>pbkdf2_sha256$720000$2P8sxX6KlMDVa19v36dMZv$pM...</td>\n",
       "      <td>None</td>\n",
       "      <td>False</td>\n",
       "      <td>False</td>\n",
       "      <td>True</td>\n",
       "      <td>2024-11-21 02:58:03.712815+00:00</td>\n",
       "      <td>55508842080</td>\n",
       "      <td>32999781209</td>\n",
       "      <td>hahahhahahah@gmail.com</td>\n",
       "      <td>3</td>\n",
       "      <td>3</td>\n",
       "      <td>Coringa</td>\n",
       "      <td>, O Bom</td>\n",
       "      <td>None</td>\n",
       "      <td>3</td>\n",
       "      <td>55508842080</td>\n",
       "      <td>2</td>\n",
       "      <td>2</td>\n",
       "    </tr>\n",
       "  </tbody>\n",
       "</table>\n",
       "</div>"
      ]
     },
     "execution_count": 47,
     "metadata": {},
     "output_type": "execute_result"
    }
   ],
   "execution_count": 47
  },
  {
   "metadata": {
    "ExecuteTime": {
     "end_time": "2024-11-21T03:55:39.386226Z",
     "start_time": "2024-11-21T03:55:39.328494Z"
    }
   },
   "cell_type": "code",
   "source": "pd.DataFrame(Vendedor.vendedores.all().values())",
   "id": "c5d5c320bff6c54c",
   "outputs": [
    {
     "data": {
      "text/plain": [
       "                                            password last_login  is_superuser  \\\n",
       "0  pbkdf2_sha256$720000$7sQfpoBynDxsZAsRrgiASL$3V...       None         False   \n",
       "1  pbkdf2_sha256$720000$bosS0t1I9GDx8kutE7Si5m$SF...       None         False   \n",
       "\n",
       "   is_staff  is_active                      date_joined       codigo  \\\n",
       "0     False       True 2024-11-21 03:30:05.461456+00:00  85103333864   \n",
       "1     False       True 2024-11-21 03:30:08.339148+00:00  55508842080   \n",
       "\n",
       "      telefone                   email  pessoa_usuario_id  \\\n",
       "0  32999781209  hahahhahahah@gmail.com                  2   \n",
       "1  32999781209  hahahhahahah@gmail.com                  3   \n",
       "\n",
       "   usuariogenerico_ptr_id     nome sobrenome data_nascimento  usuario_id  \\\n",
       "0                       2   Batman   , O Mau            None           2   \n",
       "1                       3  Coringa   , O Bom            None           3   \n",
       "\n",
       "  _porcentagem_comissao          cpf  scope  loja porcentagem_comissao  \n",
       "0                  None  85103333864      2     2                    0  \n",
       "1                  None  55508842080      2     2                    0  "
      ],
      "text/html": [
       "<div>\n",
       "<style scoped>\n",
       "    .dataframe tbody tr th:only-of-type {\n",
       "        vertical-align: middle;\n",
       "    }\n",
       "\n",
       "    .dataframe tbody tr th {\n",
       "        vertical-align: top;\n",
       "    }\n",
       "\n",
       "    .dataframe thead th {\n",
       "        text-align: right;\n",
       "    }\n",
       "</style>\n",
       "<table border=\"1\" class=\"dataframe\">\n",
       "  <thead>\n",
       "    <tr style=\"text-align: right;\">\n",
       "      <th></th>\n",
       "      <th>password</th>\n",
       "      <th>last_login</th>\n",
       "      <th>is_superuser</th>\n",
       "      <th>is_staff</th>\n",
       "      <th>is_active</th>\n",
       "      <th>date_joined</th>\n",
       "      <th>codigo</th>\n",
       "      <th>telefone</th>\n",
       "      <th>email</th>\n",
       "      <th>pessoa_usuario_id</th>\n",
       "      <th>usuariogenerico_ptr_id</th>\n",
       "      <th>nome</th>\n",
       "      <th>sobrenome</th>\n",
       "      <th>data_nascimento</th>\n",
       "      <th>usuario_id</th>\n",
       "      <th>_porcentagem_comissao</th>\n",
       "      <th>cpf</th>\n",
       "      <th>scope</th>\n",
       "      <th>loja</th>\n",
       "      <th>porcentagem_comissao</th>\n",
       "    </tr>\n",
       "  </thead>\n",
       "  <tbody>\n",
       "    <tr>\n",
       "      <th>0</th>\n",
       "      <td>pbkdf2_sha256$720000$7sQfpoBynDxsZAsRrgiASL$3V...</td>\n",
       "      <td>None</td>\n",
       "      <td>False</td>\n",
       "      <td>False</td>\n",
       "      <td>True</td>\n",
       "      <td>2024-11-21 03:30:05.461456+00:00</td>\n",
       "      <td>85103333864</td>\n",
       "      <td>32999781209</td>\n",
       "      <td>hahahhahahah@gmail.com</td>\n",
       "      <td>2</td>\n",
       "      <td>2</td>\n",
       "      <td>Batman</td>\n",
       "      <td>, O Mau</td>\n",
       "      <td>None</td>\n",
       "      <td>2</td>\n",
       "      <td>None</td>\n",
       "      <td>85103333864</td>\n",
       "      <td>2</td>\n",
       "      <td>2</td>\n",
       "      <td>0</td>\n",
       "    </tr>\n",
       "    <tr>\n",
       "      <th>1</th>\n",
       "      <td>pbkdf2_sha256$720000$bosS0t1I9GDx8kutE7Si5m$SF...</td>\n",
       "      <td>None</td>\n",
       "      <td>False</td>\n",
       "      <td>False</td>\n",
       "      <td>True</td>\n",
       "      <td>2024-11-21 03:30:08.339148+00:00</td>\n",
       "      <td>55508842080</td>\n",
       "      <td>32999781209</td>\n",
       "      <td>hahahhahahah@gmail.com</td>\n",
       "      <td>3</td>\n",
       "      <td>3</td>\n",
       "      <td>Coringa</td>\n",
       "      <td>, O Bom</td>\n",
       "      <td>None</td>\n",
       "      <td>3</td>\n",
       "      <td>None</td>\n",
       "      <td>55508842080</td>\n",
       "      <td>2</td>\n",
       "      <td>2</td>\n",
       "      <td>0</td>\n",
       "    </tr>\n",
       "  </tbody>\n",
       "</table>\n",
       "</div>"
      ]
     },
     "execution_count": 5,
     "metadata": {},
     "output_type": "execute_result"
    }
   ],
   "execution_count": 5
  },
  {
   "metadata": {
    "ExecuteTime": {
     "end_time": "2024-11-21T03:56:07.319922Z",
     "start_time": "2024-11-21T03:56:07.307190Z"
    }
   },
   "cell_type": "code",
   "source": "Vendedor.vendedores.first().porcentagem_comissao",
   "id": "82d71299450e72f",
   "outputs": [
    {
     "data": {
      "text/plain": [
       "Decimal('0')"
      ]
     },
     "execution_count": 7,
     "metadata": {},
     "output_type": "execute_result"
    }
   ],
   "execution_count": 7
  }
 ],
 "metadata": {
  "kernelspec": {
   "display_name": "Python 3",
   "language": "python",
   "name": "python3"
  },
  "language_info": {
   "codemirror_mode": {
    "name": "ipython",
    "version": 2
   },
   "file_extension": ".py",
   "mimetype": "text/x-python",
   "name": "python",
   "nbconvert_exporter": "python",
   "pygments_lexer": "ipython2",
   "version": "2.7.6"
  }
 },
 "nbformat": 4,
 "nbformat_minor": 5
}
