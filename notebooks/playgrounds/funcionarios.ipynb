{
 "cells": [
  {
   "cell_type": "code",
   "id": "initial_id",
   "metadata": {
    "collapsed": true,
    "ExecuteTime": {
     "end_time": "2024-05-30T03:34:59.424796Z",
     "start_time": "2024-05-30T03:34:59.027452Z"
    }
   },
   "source": [
    "import sys\n",
    "\n",
    "from util.django import restart_django\n",
    "\n",
    "sys.path.append(r'../../src')\n",
    "\n",
    "restart_django(imprimir_versoes=True)"
   ],
   "outputs": [
    {
     "name": "stdout",
     "output_type": "stream",
     "text": [
      "Python 3.12.1 (tags/v3.12.1:2305ca5, Dec  7 2023, 22:03:25) [MSC v.1937 64 bit (AMD64)] on win32\n",
      "Django 5.0.4\n"
     ]
    }
   ],
   "execution_count": 1
  },
  {
   "metadata": {
    "ExecuteTime": {
     "end_time": "2024-05-30T03:34:59.770020Z",
     "start_time": "2024-05-30T03:34:59.425803Z"
    }
   },
   "cell_type": "code",
   "source": [
    "from datetime import date, datetime\n",
    "import pandas as pd"
   ],
   "id": "d6bf8db41457fbc",
   "outputs": [],
   "execution_count": 2
  },
  {
   "metadata": {
    "ExecuteTime": {
     "end_time": "2024-05-30T03:34:59.773324Z",
     "start_time": "2024-05-30T03:34:59.770020Z"
    }
   },
   "cell_type": "code",
   "source": "from loja.models import Loja, Funcionario, Chefe",
   "id": "18d3bbbf895a98ac",
   "outputs": [],
   "execution_count": 3
  },
  {
   "metadata": {
    "ExecuteTime": {
     "end_time": "2024-05-30T03:34:59.840292Z",
     "start_time": "2024-05-30T03:34:59.773324Z"
    }
   },
   "cell_type": "code",
   "source": "loja = Loja.lojas.create()",
   "id": "fa3bf8ff79c3539",
   "outputs": [],
   "execution_count": 4
  },
  {
   "metadata": {
    "ExecuteTime": {
     "end_time": "2024-05-30T03:35:00.241802Z",
     "start_time": "2024-05-30T03:34:59.841300Z"
    }
   },
   "cell_type": "code",
   "source": [
    "chefe = Chefe.funcionarios.criar_funcionario(\n",
    "    cpf='85103333864',\n",
    "    loja=loja,\n",
    "    password='senha$#$doiasdf2345r',\n",
    "    email='hahahhahahah@gmail.com',\n",
    "    telefone='32999781209',\n",
    "    nome='Batman',\n",
    "    sobrenome=', O Mau'\n",
    ")"
   ],
   "id": "2bf3376706164064",
   "outputs": [],
   "execution_count": 5
  },
  {
   "metadata": {
    "ExecuteTime": {
     "end_time": "2024-05-30T03:35:00.577362Z",
     "start_time": "2024-05-30T03:35:00.242317Z"
    }
   },
   "cell_type": "code",
   "source": [
    "funcionario = Funcionario.funcionarios.criar_funcionario(\n",
    "    cpf='55508842080',\n",
    "    loja=loja,\n",
    "    password='senha$#$doiasdf2345r',\n",
    "    email='hahahhahahah@gmail.com',\n",
    "    telefone='32999781209',\n",
    "    nome='Coringa',\n",
    "    sobrenome=', O Bom'\n",
    ")"
   ],
   "id": "aa90fb28d357ffd",
   "outputs": [],
   "execution_count": 6
  },
  {
   "metadata": {},
   "cell_type": "markdown",
   "source": "Automaticamente marca como chefe",
   "id": "8a70ab84206c10c0"
  },
  {
   "metadata": {
    "ExecuteTime": {
     "end_time": "2024-05-30T03:35:00.588645Z",
     "start_time": "2024-05-30T03:35:00.577362Z"
    }
   },
   "cell_type": "code",
   "source": "pd.DataFrame(chefe.groups.values_list('name', flat=True))",
   "id": "40f5806cf28462b6",
   "outputs": [
    {
     "data": {
      "text/plain": [
       "             0\n",
       "0  loja_chefes"
      ],
      "text/html": [
       "<div>\n",
       "<style scoped>\n",
       "    .dataframe tbody tr th:only-of-type {\n",
       "        vertical-align: middle;\n",
       "    }\n",
       "\n",
       "    .dataframe tbody tr th {\n",
       "        vertical-align: top;\n",
       "    }\n",
       "\n",
       "    .dataframe thead th {\n",
       "        text-align: right;\n",
       "    }\n",
       "</style>\n",
       "<table border=\"1\" class=\"dataframe\">\n",
       "  <thead>\n",
       "    <tr style=\"text-align: right;\">\n",
       "      <th></th>\n",
       "      <th>0</th>\n",
       "    </tr>\n",
       "  </thead>\n",
       "  <tbody>\n",
       "    <tr>\n",
       "      <th>0</th>\n",
       "      <td>loja_chefes</td>\n",
       "    </tr>\n",
       "  </tbody>\n",
       "</table>\n",
       "</div>"
      ]
     },
     "execution_count": 7,
     "metadata": {},
     "output_type": "execute_result"
    }
   ],
   "execution_count": 7
  },
  {
   "metadata": {},
   "cell_type": "markdown",
   "source": "Crie um funcionário usando `Funcionario` e ele não exercerá nenhum papel ao ser criado",
   "id": "2c9eb07051042100"
  },
  {
   "metadata": {
    "ExecuteTime": {
     "end_time": "2024-05-30T03:35:00.594640Z",
     "start_time": "2024-05-30T03:35:00.588645Z"
    }
   },
   "cell_type": "code",
   "source": "funcionario.groups.values_list('name', flat=True)",
   "id": "5fe07382d877dcd2",
   "outputs": [
    {
     "data": {
      "text/plain": [
       "<QuerySet []>"
      ]
     },
     "execution_count": 8,
     "metadata": {},
     "output_type": "execute_result"
    }
   ],
   "execution_count": 8
  },
  {
   "metadata": {},
   "cell_type": "markdown",
   "source": "Adicione papéis a um funcionario com o método `adicionar_papel`, em desenvolvimento.",
   "id": "e0f1979beb055e68"
  },
  {
   "metadata": {
    "ExecuteTime": {
     "end_time": "2024-05-30T03:35:00.598118Z",
     "start_time": "2024-05-30T03:35:00.595659Z"
    }
   },
   "cell_type": "code",
   "source": "from django.contrib.auth.models import Group",
   "id": "5ea50d4a7022db40",
   "outputs": [],
   "execution_count": 9
  },
  {
   "metadata": {
    "ExecuteTime": {
     "end_time": "2024-05-30T03:35:00.624675Z",
     "start_time": "2024-05-30T03:35:00.598118Z"
    }
   },
   "cell_type": "code",
   "source": "funcionario.adicionar_papel(Group.objects.get(name='loja_caixeiros'))",
   "id": "b501186ec2cf4732",
   "outputs": [],
   "execution_count": 10
  },
  {
   "metadata": {
    "ExecuteTime": {
     "end_time": "2024-05-30T03:35:00.629968Z",
     "start_time": "2024-05-30T03:35:00.624675Z"
    }
   },
   "cell_type": "code",
   "source": "funcionario.groups.values_list('name', flat=True)",
   "id": "6e2c0fd53c16e764",
   "outputs": [
    {
     "data": {
      "text/plain": [
       "<QuerySet ['loja_caixeiros']>"
      ]
     },
     "execution_count": 11,
     "metadata": {},
     "output_type": "execute_result"
    }
   ],
   "execution_count": 11
  }
 ],
 "metadata": {
  "kernelspec": {
   "display_name": "Python 3",
   "language": "python",
   "name": "python3"
  },
  "language_info": {
   "codemirror_mode": {
    "name": "ipython",
    "version": 2
   },
   "file_extension": ".py",
   "mimetype": "text/x-python",
   "name": "python",
   "nbconvert_exporter": "python",
   "pygments_lexer": "ipython2",
   "version": "2.7.6"
  }
 },
 "nbformat": 4,
 "nbformat_minor": 5
}
