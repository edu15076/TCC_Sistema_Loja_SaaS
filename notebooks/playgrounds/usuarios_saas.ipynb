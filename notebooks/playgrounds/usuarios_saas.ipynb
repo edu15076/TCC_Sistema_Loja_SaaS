{
 "cells": [
  {
   "cell_type": "code",
   "id": "initial_id",
   "metadata": {
    "collapsed": true,
    "ExecuteTime": {
     "end_time": "2024-05-30T15:36:55.113687Z",
     "start_time": "2024-05-30T15:36:54.725076Z"
    }
   },
   "source": [
    "import sys\n",
    "\n",
    "from util.django import restart_django\n",
    "\n",
    "sys.path.append(r'../../src')\n",
    "\n",
    "restart_django(imprimir_versoes=True)"
   ],
   "outputs": [
    {
     "name": "stdout",
     "output_type": "stream",
     "text": [
      "Python 3.12.1 (tags/v3.12.1:2305ca5, Dec  7 2023, 22:03:25) [MSC v.1937 64 bit (AMD64)] on win32\n",
      "Django 5.0.4\n"
     ]
    }
   ],
   "execution_count": 1
  },
  {
   "metadata": {
    "ExecuteTime": {
     "end_time": "2024-05-30T15:36:55.498656Z",
     "start_time": "2024-05-30T15:36:55.114697Z"
    }
   },
   "cell_type": "code",
   "source": [
    "from datetime import date, datetime\n",
    "import pandas as pd"
   ],
   "id": "aee95bb92a01156d",
   "outputs": [],
   "execution_count": 2
  },
  {
   "metadata": {
    "ExecuteTime": {
     "end_time": "2024-05-30T15:36:55.502158Z",
     "start_time": "2024-05-30T15:36:55.499660Z"
    }
   },
   "cell_type": "code",
   "source": "from saas.models import GerenteDeContratos, ClienteContratante",
   "id": "3a7548bf8cc4d0c4",
   "outputs": [],
   "execution_count": 3
  },
  {
   "metadata": {
    "ExecuteTime": {
     "end_time": "2024-05-30T15:36:55.515238Z",
     "start_time": "2024-05-30T15:36:55.503163Z"
    }
   },
   "cell_type": "code",
   "source": "from common.data import DadosEmpresa",
   "id": "472858810ce416ef",
   "outputs": [],
   "execution_count": 4
  },
  {
   "metadata": {
    "ExecuteTime": {
     "end_time": "2024-05-30T15:36:55.646781Z",
     "start_time": "2024-05-30T15:36:55.516243Z"
    }
   },
   "cell_type": "code",
   "source": "GerenteDeContratos.instance",
   "id": "59315d5588984ddd",
   "outputs": [
    {
     "data": {
      "text/plain": [
       "<UsuarioGenerico: {codigo=97456911807888, scope=Scope object (1)}>"
      ]
     },
     "execution_count": 5,
     "metadata": {},
     "output_type": "execute_result"
    }
   ],
   "execution_count": 5
  },
  {
   "metadata": {
    "ExecuteTime": {
     "end_time": "2024-05-30T15:36:56.470093Z",
     "start_time": "2024-05-30T15:36:55.647788Z"
    }
   },
   "cell_type": "code",
   "source": [
    "GerenteDeContratos.gerente.criar_usuario_contratacao(\n",
    "    cnpj='34561499177486',\n",
    "    \n",
    ")"
   ],
   "id": "35e5ca19752a5530",
   "outputs": [
    {
     "ename": "ValidationError",
     "evalue": "{'_singleton': ['Gerente de contratos com este  singleton já existe.']}",
     "output_type": "error",
     "traceback": [
      "\u001B[1;31m---------------------------------------------------------------------------\u001B[0m",
      "\u001B[1;31mValidationError\u001B[0m                           Traceback (most recent call last)",
      "Cell \u001B[1;32mIn[6], line 1\u001B[0m\n\u001B[1;32m----> 1\u001B[0m \u001B[43mGerenteDeContratos\u001B[49m\u001B[38;5;241;43m.\u001B[39;49m\u001B[43mgerente\u001B[49m\u001B[38;5;241;43m.\u001B[39;49m\u001B[43mcriar_usuario_contratacao\u001B[49m\u001B[43m(\u001B[49m\n\u001B[0;32m      2\u001B[0m \u001B[43m    \u001B[49m\u001B[43mcnpj\u001B[49m\u001B[38;5;241;43m=\u001B[39;49m\u001B[38;5;124;43m'\u001B[39;49m\u001B[38;5;124;43m34561499177486\u001B[39;49m\u001B[38;5;124;43m'\u001B[39;49m\u001B[43m,\u001B[49m\n\u001B[0;32m      3\u001B[0m \u001B[43m    \u001B[49m\n\u001B[0;32m      4\u001B[0m \u001B[43m)\u001B[49m\n",
      "File \u001B[1;32mC:\\main\\Programs\\CEFETEPTNM\\TCC_Sistema_Loja_SaaS\\src\\saas\\models\\usuario_contratacao.py:23\u001B[0m, in \u001B[0;36mUsuarioContratacaoManager.criar_usuario_contratacao\u001B[1;34m(self, cnpj, password, email, telefone, **dados_pessoa)\u001B[0m\n\u001B[0;32m     19\u001B[0m \u001B[38;5;28;01mdef\u001B[39;00m \u001B[38;5;21mcriar_usuario_contratacao\u001B[39m(\n\u001B[0;32m     20\u001B[0m         \u001B[38;5;28mself\u001B[39m, cnpj: \u001B[38;5;28mstr\u001B[39m, password: \u001B[38;5;28mstr\u001B[39m \u001B[38;5;241m=\u001B[39m \u001B[38;5;28;01mNone\u001B[39;00m, email: \u001B[38;5;28mstr\u001B[39m \u001B[38;5;241m=\u001B[39m \u001B[38;5;28;01mNone\u001B[39;00m,\n\u001B[0;32m     21\u001B[0m         telefone: \u001B[38;5;28mstr\u001B[39m \u001B[38;5;241m=\u001B[39m \u001B[38;5;28;01mNone\u001B[39;00m, \u001B[38;5;241m*\u001B[39m\u001B[38;5;241m*\u001B[39mdados_pessoa\n\u001B[0;32m     22\u001B[0m ):\n\u001B[1;32m---> 23\u001B[0m     usuario \u001B[38;5;241m=\u001B[39m \u001B[38;5;28;43mself\u001B[39;49m\u001B[38;5;241;43m.\u001B[39;49m\u001B[43mcriar_usuario\u001B[49m\u001B[43m(\u001B[49m\n\u001B[0;32m     24\u001B[0m \u001B[43m        \u001B[49m\u001B[43mcnpj\u001B[49m\u001B[38;5;241;43m=\u001B[39;49m\u001B[43mcnpj\u001B[49m\u001B[43m,\u001B[49m\u001B[43m \u001B[49m\u001B[43mscope\u001B[49m\u001B[38;5;241;43m=\u001B[39;49m\u001B[43mContratosScope\u001B[49m\u001B[38;5;241;43m.\u001B[39;49m\u001B[43minstance\u001B[49m\u001B[43m,\u001B[49m\u001B[43m \u001B[49m\u001B[43mpassword\u001B[49m\u001B[38;5;241;43m=\u001B[39;49m\u001B[43mpassword\u001B[49m\u001B[43m,\u001B[49m\u001B[43m \u001B[49m\u001B[43memail\u001B[49m\u001B[38;5;241;43m=\u001B[39;49m\u001B[43memail\u001B[49m\u001B[43m,\u001B[49m\n\u001B[0;32m     25\u001B[0m \u001B[43m        \u001B[49m\u001B[43mtelefone\u001B[49m\u001B[38;5;241;43m=\u001B[39;49m\u001B[43mtelefone\u001B[49m\u001B[43m,\u001B[49m\u001B[43m \u001B[49m\u001B[38;5;241;43m*\u001B[39;49m\u001B[38;5;241;43m*\u001B[39;49m\u001B[43mdados_pessoa\u001B[49m\n\u001B[0;32m     26\u001B[0m \u001B[43m    \u001B[49m\u001B[43m)\u001B[49m\n\u001B[0;32m     27\u001B[0m     \u001B[38;5;28;01mif\u001B[39;00m \u001B[38;5;28mself\u001B[39m\u001B[38;5;241m.\u001B[39mmodel\u001B[38;5;241m.\u001B[39mpapel_group \u001B[38;5;129;01mis\u001B[39;00m \u001B[38;5;129;01mnot\u001B[39;00m \u001B[38;5;28;01mNone\u001B[39;00m:\n\u001B[0;32m     28\u001B[0m         usuario\u001B[38;5;241m.\u001B[39mgroups\u001B[38;5;241m.\u001B[39mset([\u001B[38;5;28mself\u001B[39m\u001B[38;5;241m.\u001B[39mmodel\u001B[38;5;241m.\u001B[39mpapel_group])\n",
      "File \u001B[1;32mC:\\main\\Programs\\CEFETEPTNM\\TCC_Sistema_Loja_SaaS\\src\\common\\models\\usuario_generico.py:474\u001B[0m, in \u001B[0;36mUsuarioGenericoPessoaJuridicaManager.criar_usuario\u001B[1;34m(self, cnpj, scope, password, email, telefone, **dados_pessoa)\u001B[0m\n\u001B[0;32m    470\u001B[0m \u001B[38;5;28;01mdef\u001B[39;00m \u001B[38;5;21mcriar_usuario\u001B[39m(\n\u001B[0;32m    471\u001B[0m         \u001B[38;5;28mself\u001B[39m, cnpj: \u001B[38;5;28mstr\u001B[39m, scope: Scope \u001B[38;5;241m=\u001B[39m \u001B[38;5;28;01mNone\u001B[39;00m, password: \u001B[38;5;28mstr\u001B[39m \u001B[38;5;241m=\u001B[39m \u001B[38;5;28;01mNone\u001B[39;00m,\n\u001B[0;32m    472\u001B[0m         email: \u001B[38;5;28mstr\u001B[39m \u001B[38;5;241m=\u001B[39m \u001B[38;5;28;01mNone\u001B[39;00m, telefone: \u001B[38;5;28mstr\u001B[39m \u001B[38;5;241m=\u001B[39m \u001B[38;5;28;01mNone\u001B[39;00m, \u001B[38;5;241m*\u001B[39m\u001B[38;5;241m*\u001B[39mdados_pessoa\n\u001B[0;32m    473\u001B[0m ):\n\u001B[1;32m--> 474\u001B[0m     \u001B[38;5;28;01mreturn\u001B[39;00m \u001B[38;5;28;43msuper\u001B[39;49m\u001B[43m(\u001B[49m\u001B[43m)\u001B[49m\u001B[38;5;241;43m.\u001B[39;49m\u001B[43mcriar_usuario\u001B[49m\u001B[43m(\u001B[49m\n\u001B[0;32m    475\u001B[0m \u001B[43m        \u001B[49m\u001B[43mcodigo\u001B[49m\u001B[38;5;241;43m=\u001B[39;49m\u001B[43mcnpj\u001B[49m\u001B[43m,\u001B[49m\u001B[43m \u001B[49m\u001B[43mscope\u001B[49m\u001B[38;5;241;43m=\u001B[39;49m\u001B[43mscope\u001B[49m\u001B[43m,\u001B[49m\u001B[43m \u001B[49m\u001B[43mpassword\u001B[49m\u001B[38;5;241;43m=\u001B[39;49m\u001B[43mpassword\u001B[49m\u001B[43m,\u001B[49m\u001B[43m \u001B[49m\u001B[43memail\u001B[49m\u001B[38;5;241;43m=\u001B[39;49m\u001B[43memail\u001B[49m\u001B[43m,\u001B[49m\u001B[43m \u001B[49m\u001B[43mtelefone\u001B[49m\u001B[38;5;241;43m=\u001B[39;49m\u001B[43mtelefone\u001B[49m\u001B[43m,\u001B[49m\n\u001B[0;32m    476\u001B[0m \u001B[43m        \u001B[49m\u001B[38;5;241;43m*\u001B[39;49m\u001B[38;5;241;43m*\u001B[39;49m\u001B[43mdados_pessoa\u001B[49m\n\u001B[0;32m    477\u001B[0m \u001B[43m    \u001B[49m\u001B[43m)\u001B[49m\n",
      "File \u001B[1;32mC:\\main\\Programs\\CEFETEPTNM\\TCC_Sistema_Loja_SaaS\\src\\common\\models\\usuario_generico.py:261\u001B[0m, in \u001B[0;36mUsuarioGenericoPessoaManager.criar_usuario\u001B[1;34m(self, codigo, scope, password, email, telefone, **dados_pessoa)\u001B[0m\n\u001B[0;32m    259\u001B[0m \u001B[38;5;28;01mif\u001B[39;00m created:\n\u001B[0;32m    260\u001B[0m     pessoa\u001B[38;5;241m.\u001B[39mdelete()\n\u001B[1;32m--> 261\u001B[0m \u001B[38;5;28;01mraise\u001B[39;00m e\n",
      "File \u001B[1;32mC:\\main\\Programs\\CEFETEPTNM\\TCC_Sistema_Loja_SaaS\\src\\common\\models\\usuario_generico.py:254\u001B[0m, in \u001B[0;36mUsuarioGenericoPessoaManager.criar_usuario\u001B[1;34m(self, codigo, scope, password, email, telefone, **dados_pessoa)\u001B[0m\n\u001B[0;32m    252\u001B[0m pessoa, created \u001B[38;5;241m=\u001B[39m \u001B[38;5;28mself\u001B[39m\u001B[38;5;241m.\u001B[39m_criar_pessoa(codigo, \u001B[38;5;241m*\u001B[39m\u001B[38;5;241m*\u001B[39mdados_pessoa)\n\u001B[0;32m    253\u001B[0m \u001B[38;5;28;01mtry\u001B[39;00m:\n\u001B[1;32m--> 254\u001B[0m     \u001B[38;5;28;01mreturn\u001B[39;00m \u001B[38;5;28;43mself\u001B[39;49m\u001B[38;5;241;43m.\u001B[39;49m\u001B[43mcreate_user_by_natural_key\u001B[49m\u001B[43m(\u001B[49m\n\u001B[0;32m    255\u001B[0m \u001B[43m        \u001B[49m\u001B[43mpessoa\u001B[49m\u001B[38;5;241;43m=\u001B[39;49m\u001B[43mcodigo\u001B[49m\u001B[43m,\u001B[49m\u001B[43m \u001B[49m\u001B[43mscope\u001B[49m\u001B[38;5;241;43m=\u001B[39;49m\u001B[43mscope\u001B[49m\u001B[43m,\u001B[49m\u001B[43m \u001B[49m\u001B[43mpassword\u001B[49m\u001B[38;5;241;43m=\u001B[39;49m\u001B[43mpassword\u001B[49m\u001B[43m,\u001B[49m\u001B[43m \u001B[49m\u001B[43memail\u001B[49m\u001B[38;5;241;43m=\u001B[39;49m\u001B[43memail\u001B[49m\u001B[43m,\u001B[49m\n\u001B[0;32m    256\u001B[0m \u001B[43m        \u001B[49m\u001B[43mtelefone\u001B[49m\u001B[38;5;241;43m=\u001B[39;49m\u001B[43mtelefone\u001B[49m\n\u001B[0;32m    257\u001B[0m \u001B[43m    \u001B[49m\u001B[43m)\u001B[49m\n\u001B[0;32m    258\u001B[0m \u001B[38;5;28;01mexcept\u001B[39;00m \u001B[38;5;167;01mException\u001B[39;00m \u001B[38;5;28;01mas\u001B[39;00m e:\n\u001B[0;32m    259\u001B[0m     \u001B[38;5;28;01mif\u001B[39;00m created:\n",
      "File \u001B[1;32mC:\\main\\Programs\\CEFETEPTNM\\TCC_Sistema_Loja_SaaS\\src\\scope_auth\\models\\user_per_scope.py:343\u001B[0m, in \u001B[0;36mUserPerScopeManager.create_user_by_natural_key\u001B[1;34m(self, **kwargs)\u001B[0m\n\u001B[0;32m    341\u001B[0m username \u001B[38;5;241m=\u001B[39m \u001B[38;5;28mself\u001B[39m\u001B[38;5;241m.\u001B[39m_create_username_per_scope_by_natural_key(kwargs)\u001B[38;5;241m.\u001B[39mpk\n\u001B[0;32m    342\u001B[0m kwargs[\u001B[38;5;28mself\u001B[39m\u001B[38;5;241m.\u001B[39mmodel\u001B[38;5;241m.\u001B[39mUSERNAME_PER_SCOPE_FIELD] \u001B[38;5;241m=\u001B[39m username\n\u001B[1;32m--> 343\u001B[0m \u001B[38;5;28;01mreturn\u001B[39;00m \u001B[38;5;28;43mself\u001B[39;49m\u001B[38;5;241;43m.\u001B[39;49m\u001B[43mcreate_user\u001B[49m\u001B[43m(\u001B[49m\u001B[38;5;241;43m*\u001B[39;49m\u001B[38;5;241;43m*\u001B[39;49m\u001B[43mkwargs\u001B[49m\u001B[43m)\u001B[49m\n",
      "File \u001B[1;32mC:\\main\\Programs\\CEFETEPTNM\\TCC_Sistema_Loja_SaaS\\src\\scope_auth\\models\\user_per_scope.py:238\u001B[0m, in \u001B[0;36mUserPerScopeManager.create_user\u001B[1;34m(self, **kwargs)\u001B[0m\n\u001B[0;32m    217\u001B[0m \u001B[38;5;250m\u001B[39m\u001B[38;5;124;03m\"\"\"\u001B[39;00m\n\u001B[0;32m    218\u001B[0m \u001B[38;5;124;03mCreate a new user with the provided parameters.\u001B[39;00m\n\u001B[0;32m    219\u001B[0m \n\u001B[1;32m   (...)\u001B[0m\n\u001B[0;32m    235\u001B[0m \u001B[38;5;124;03m    options are set or if the first username option is set but `scope` is not.\u001B[39;00m\n\u001B[0;32m    236\u001B[0m \u001B[38;5;124;03m\"\"\"\u001B[39;00m\n\u001B[0;32m    237\u001B[0m username, password, extra_fields \u001B[38;5;241m=\u001B[39m \u001B[38;5;28mself\u001B[39m\u001B[38;5;241m.\u001B[39m_get_cleaned_user(kwargs)\n\u001B[1;32m--> 238\u001B[0m \u001B[38;5;28;01mreturn\u001B[39;00m \u001B[38;5;28;43mself\u001B[39;49m\u001B[38;5;241;43m.\u001B[39;49m\u001B[43m_create_user\u001B[49m\u001B[43m(\u001B[49m\u001B[43musername\u001B[49m\u001B[43m,\u001B[49m\u001B[43m \u001B[49m\u001B[43mpassword\u001B[49m\u001B[43m,\u001B[49m\u001B[43m \u001B[49m\u001B[38;5;241;43m*\u001B[39;49m\u001B[38;5;241;43m*\u001B[39;49m\u001B[43mextra_fields\u001B[49m\u001B[43m)\u001B[49m\n",
      "File \u001B[1;32mC:\\main\\Programs\\CEFETEPTNM\\TCC_Sistema_Loja_SaaS\\src\\scope_auth\\models\\user_per_scope.py:470\u001B[0m, in \u001B[0;36mUserPerScopeWhitEmailManager._create_user\u001B[1;34m(self, username, password, **kwargs)\u001B[0m\n\u001B[0;32m    468\u001B[0m \u001B[38;5;28;01mdef\u001B[39;00m \u001B[38;5;21m_create_user\u001B[39m(\u001B[38;5;28mself\u001B[39m, username, password, \u001B[38;5;241m*\u001B[39m\u001B[38;5;241m*\u001B[39mkwargs):\n\u001B[0;32m    469\u001B[0m     kwargs[\u001B[38;5;124m'\u001B[39m\u001B[38;5;124memail\u001B[39m\u001B[38;5;124m'\u001B[39m] \u001B[38;5;241m=\u001B[39m \u001B[38;5;28mself\u001B[39m\u001B[38;5;241m.\u001B[39mnormalize_email(kwargs\u001B[38;5;241m.\u001B[39mget(\u001B[38;5;124m'\u001B[39m\u001B[38;5;124memail\u001B[39m\u001B[38;5;124m'\u001B[39m, \u001B[38;5;28;01mNone\u001B[39;00m))\n\u001B[1;32m--> 470\u001B[0m     \u001B[38;5;28;01mreturn\u001B[39;00m \u001B[38;5;28;43msuper\u001B[39;49m\u001B[43m(\u001B[49m\u001B[43m)\u001B[49m\u001B[38;5;241;43m.\u001B[39;49m\u001B[43m_create_user\u001B[49m\u001B[43m(\u001B[49m\u001B[43musername\u001B[49m\u001B[43m,\u001B[49m\u001B[43m \u001B[49m\u001B[43mpassword\u001B[49m\u001B[43m,\u001B[49m\u001B[43m \u001B[49m\u001B[38;5;241;43m*\u001B[39;49m\u001B[38;5;241;43m*\u001B[39;49m\u001B[43mkwargs\u001B[49m\u001B[43m)\u001B[49m\n",
      "File \u001B[1;32mC:\\main\\Programs\\CEFETEPTNM\\TCC_Sistema_Loja_SaaS\\src\\scope_auth\\models\\user_per_scope.py:154\u001B[0m, in \u001B[0;36mUserPerScopeManager._create_user\u001B[1;34m(self, username, password, **extra_fields)\u001B[0m\n\u001B[0;32m    152\u001B[0m \u001B[38;5;28;01mexcept\u001B[39;00m ValidationError \u001B[38;5;28;01mas\u001B[39;00m e:\n\u001B[0;32m    153\u001B[0m     username\u001B[38;5;241m.\u001B[39mdelete()\n\u001B[1;32m--> 154\u001B[0m     \u001B[38;5;28;01mraise\u001B[39;00m e\n\u001B[0;32m    156\u001B[0m \u001B[38;5;28;01mreturn\u001B[39;00m user\n",
      "File \u001B[1;32mC:\\main\\Programs\\CEFETEPTNM\\TCC_Sistema_Loja_SaaS\\src\\scope_auth\\models\\user_per_scope.py:150\u001B[0m, in \u001B[0;36mUserPerScopeManager._create_user\u001B[1;34m(self, username, password, **extra_fields)\u001B[0m\n\u001B[0;32m    148\u001B[0m     user \u001B[38;5;241m=\u001B[39m \u001B[38;5;28mself\u001B[39m\u001B[38;5;241m.\u001B[39mmodel(\u001B[38;5;241m*\u001B[39m\u001B[38;5;241m*\u001B[39m{\u001B[38;5;28mself\u001B[39m\u001B[38;5;241m.\u001B[39mmodel\u001B[38;5;241m.\u001B[39mUSERNAME_FIELD: username}, \u001B[38;5;241m*\u001B[39m\u001B[38;5;241m*\u001B[39mextra_fields)\n\u001B[0;32m    149\u001B[0m     user\u001B[38;5;241m.\u001B[39mpassword \u001B[38;5;241m=\u001B[39m make_password(password)\n\u001B[1;32m--> 150\u001B[0m     \u001B[43muser\u001B[49m\u001B[38;5;241;43m.\u001B[39;49m\u001B[43mfull_clean\u001B[49m\u001B[43m(\u001B[49m\u001B[43m)\u001B[49m\n\u001B[0;32m    151\u001B[0m     user\u001B[38;5;241m.\u001B[39msave(using\u001B[38;5;241m=\u001B[39m\u001B[38;5;28mself\u001B[39m\u001B[38;5;241m.\u001B[39m_db)\n\u001B[0;32m    152\u001B[0m \u001B[38;5;28;01mexcept\u001B[39;00m ValidationError \u001B[38;5;28;01mas\u001B[39;00m e:\n",
      "File \u001B[1;32mC:\\main\\Programs\\CEFETEPTNM\\TCC_Sistema_Loja_SaaS\\venv\\Lib\\site-packages\\django\\db\\models\\base.py:1552\u001B[0m, in \u001B[0;36mModel.full_clean\u001B[1;34m(self, exclude, validate_unique, validate_constraints)\u001B[0m\n\u001B[0;32m   1549\u001B[0m         errors \u001B[38;5;241m=\u001B[39m e\u001B[38;5;241m.\u001B[39mupdate_error_dict(errors)\n\u001B[0;32m   1551\u001B[0m \u001B[38;5;28;01mif\u001B[39;00m errors:\n\u001B[1;32m-> 1552\u001B[0m     \u001B[38;5;28;01mraise\u001B[39;00m ValidationError(errors)\n",
      "\u001B[1;31mValidationError\u001B[0m: {'_singleton': ['Gerente de contratos com este  singleton já existe.']}"
     ]
    }
   ],
   "execution_count": 6
  },
  {
   "metadata": {
    "ExecuteTime": {
     "end_time": "2024-05-30T15:37:07.686915Z",
     "start_time": "2024-05-30T15:37:07.351795Z"
    }
   },
   "cell_type": "code",
   "source": "ClienteContratante.contratantes.criar_usuario_contratacao(cnpj='34561499177486', password='bingosdingos123#af3%', email='bilu@gmail.com', razao_social='Bilu LTDA', nome_fantasia='Bilu vendass')",
   "id": "8993022315727d4c",
   "outputs": [
    {
     "data": {
      "text/plain": [
       "<UsuarioGenerico: {codigo=34561499177486, scope=Scope object (1)}>"
      ]
     },
     "execution_count": 7,
     "metadata": {},
     "output_type": "execute_result"
    }
   ],
   "execution_count": 7
  }
 ],
 "metadata": {
  "kernelspec": {
   "display_name": "Python 3",
   "language": "python",
   "name": "python3"
  },
  "language_info": {
   "codemirror_mode": {
    "name": "ipython",
    "version": 2
   },
   "file_extension": ".py",
   "mimetype": "text/x-python",
   "name": "python",
   "nbconvert_exporter": "python",
   "pygments_lexer": "ipython2",
   "version": "2.7.6"
  }
 },
 "nbformat": 4,
 "nbformat_minor": 5
}
