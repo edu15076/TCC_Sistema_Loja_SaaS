{
 "cells": [
  {
   "cell_type": "code",
   "execution_count": 1,
   "metadata": {},
   "outputs": [
    {
     "name": "stdout",
     "output_type": "stream",
     "text": [
      "Python 3.12.3 (main, Apr 27 2024, 19:00:21) [GCC 11.4.0] on linux\n",
      "Django 5.0.4\n"
     ]
    }
   ],
   "source": [
    "import sys\n",
    "\n",
    "sys.path.append(\"../../src\")\n",
    "\n",
    "from util.django import restart_django\n",
    "\n",
    "restart_django(imprimir_versoes=True)"
   ]
  },
  {
   "cell_type": "markdown",
   "metadata": {},
   "source": [
    "Este notebook tem o intuito de aprensentar como é a manipulação básica de endereços"
   ]
  },
  {
   "cell_type": "code",
   "execution_count": 2,
   "metadata": {},
   "outputs": [],
   "source": [
    "from common.models import Endereco"
   ]
  },
  {
   "cell_type": "markdown",
   "metadata": {},
   "source": [
    "Se necessário, é possivel apenas manipular endereços sem salvar, basta criar um objeto do tipo endereço"
   ]
  },
  {
   "cell_type": "code",
   "execution_count": 3,
   "metadata": {},
   "outputs": [],
   "source": [
    "cep = Endereco(cep='32013020', numero=69)"
   ]
  },
  {
   "cell_type": "code",
   "execution_count": 4,
   "metadata": {},
   "outputs": [
    {
     "data": {
      "text/plain": [
       "'32013020'"
      ]
     },
     "execution_count": 4,
     "metadata": {},
     "output_type": "execute_result"
    }
   ],
   "source": [
    "cep.cep"
   ]
  },
  {
   "cell_type": "markdown",
   "metadata": {},
   "source": [
    "Alguns campos são derivados, eles não ficam salvos no banco e de dados mas todos são mantidos no modelo quando o primeiro é acessado. Abaixo mostro `rua` e `bairro` que são campos derivados, bairro é obtido junto com rua e os demais campos."
   ]
  },
  {
   "cell_type": "code",
   "execution_count": 5,
   "metadata": {},
   "outputs": [
    {
     "data": {
      "text/plain": [
       "'Rua Penetração-3'"
      ]
     },
     "execution_count": 5,
     "metadata": {},
     "output_type": "execute_result"
    }
   ],
   "source": [
    "cep.rua"
   ]
  },
  {
   "cell_type": "code",
   "execution_count": 6,
   "metadata": {},
   "outputs": [
    {
     "data": {
      "text/plain": [
       "'Bernardo Monteiro'"
      ]
     },
     "execution_count": 6,
     "metadata": {},
     "output_type": "execute_result"
    }
   ],
   "source": [
    "cep.bairro"
   ]
  },
  {
   "cell_type": "code",
   "execution_count": 7,
   "metadata": {},
   "outputs": [
    {
     "data": {
      "text/plain": [
       "{'cep': '32013020',\n",
       " 'uf': 'MG',\n",
       " 'cidade': 'Contagem',\n",
       " 'bairro': 'Bernardo Monteiro',\n",
       " 'rua': 'Rua Penetração-3',\n",
       " 'numero': 69,\n",
       " 'complemento': ''}"
      ]
     },
     "execution_count": 7,
     "metadata": {},
     "output_type": "execute_result"
    }
   ],
   "source": [
    "cep.get_full_dict()"
   ]
  },
  {
   "cell_type": "code",
   "execution_count": 8,
   "metadata": {},
   "outputs": [
    {
     "data": {
      "text/plain": [
       "False"
      ]
     },
     "execution_count": 8,
     "metadata": {},
     "output_type": "execute_result"
    }
   ],
   "source": [
    "cep2 = Endereco(cep='12345678', numero=910)\n",
    "cep2.cep_exists()"
   ]
  },
  {
   "cell_type": "code",
   "execution_count": 9,
   "metadata": {},
   "outputs": [
    {
     "name": "stdout",
     "output_type": "stream",
     "text": [
      "cep 12345678 não foi salvo\n",
      "{'cep': [ValidationError(['CEP não existe'])]}\n"
     ]
    }
   ],
   "source": [
    "from django.core.exceptions import ValidationError\n",
    "\n",
    "try:\n",
    "    cep2.save()\n",
    "    print(f\"cep {cep2.cep} foi salvo\")\n",
    "except ValidationError as e:\n",
    "    print(f\"cep {cep2.cep} não foi salvo\")\n",
    "    print(e.args[0])"
   ]
  },
  {
   "cell_type": "code",
   "execution_count": 10,
   "metadata": {},
   "outputs": [
    {
     "name": "stdout",
     "output_type": "stream",
     "text": [
      "cep 32013020 foi salvo\n"
     ]
    }
   ],
   "source": [
    "try:\n",
    "    cep.save()\n",
    "    print(f\"cep {cep.cep} foi salvo\")\n",
    "except ValidationError as e:\n",
    "    print(f\"cep {cep.cep} não foi salvo\")\n",
    "    print(e.args[0])"
   ]
  },
  {
   "cell_type": "code",
   "execution_count": 11,
   "metadata": {},
   "outputs": [
    {
     "data": {
      "text/plain": [
       "<Endereco: Endereco object (8)>"
      ]
     },
     "execution_count": 11,
     "metadata": {},
     "output_type": "execute_result"
    }
   ],
   "source": [
    "Endereco.enderecos.create(cep=\"30421169\", numero=5253, complemento='laboratório de hosp')"
   ]
  },
  {
   "cell_type": "code",
   "execution_count": 12,
   "metadata": {},
   "outputs": [],
   "source": [
    "cep3 = Endereco.enderecos.filter(cep=\"30421169\").first()"
   ]
  },
  {
   "cell_type": "code",
   "execution_count": 13,
   "metadata": {},
   "outputs": [
    {
     "data": {
      "text/plain": [
       "'30421169'"
      ]
     },
     "execution_count": 13,
     "metadata": {},
     "output_type": "execute_result"
    }
   ],
   "source": [
    "cep3.cep"
   ]
  },
  {
   "cell_type": "code",
   "execution_count": 14,
   "metadata": {},
   "outputs": [
    {
     "data": {
      "text/plain": [
       "'Nova Suíssa'"
      ]
     },
     "execution_count": 14,
     "metadata": {},
     "output_type": "execute_result"
    }
   ],
   "source": [
    "cep3.bairro"
   ]
  },
  {
   "cell_type": "code",
   "execution_count": 15,
   "metadata": {},
   "outputs": [
    {
     "name": "stdout",
     "output_type": "stream",
     "text": [
      "RepublicaVirtualCEPProvider\n"
     ]
    }
   ],
   "source": [
    "for provider in Endereco.enderecos.get_installed_cep_providers():\n",
    "    print(provider.__class__.__name__)"
   ]
  },
  {
   "cell_type": "code",
   "execution_count": 16,
   "metadata": {},
   "outputs": [
    {
     "data": {
      "text/plain": [
       "{'cep': '30421169',\n",
       " 'uf': 'MG',\n",
       " 'cidade': 'Belo Horizonte',\n",
       " 'bairro': 'Nova Suíssa',\n",
       " 'rua': 'Avenida Amazonas - de 4201 a 5319 - lado ímpar',\n",
       " 'numero': 500,\n",
       " 'complemento': ''}"
      ]
     },
     "execution_count": 16,
     "metadata": {},
     "output_type": "execute_result"
    }
   ],
   "source": [
    "cep4 = Endereco.enderecos.create(cep=\"30421169\", numero=500)\n",
    "cep4.get_full_dict()"
   ]
  },
  {
   "cell_type": "code",
   "execution_count": 17,
   "metadata": {},
   "outputs": [
    {
     "data": {
      "text/plain": [
       "{'cep': '30421169',\n",
       " 'uf': 'MG',\n",
       " 'cidade': 'Belo Horizonte',\n",
       " 'bairro': 'Nova Suíssa',\n",
       " 'rua': 'Avenida Amazonas - de 4201 a 5319 - lado ímpar',\n",
       " 'numero': 200,\n",
       " 'complemento': ''}"
      ]
     },
     "execution_count": 17,
     "metadata": {},
     "output_type": "execute_result"
    }
   ],
   "source": [
    "cep4.numero = 200\n",
    "cep4.save()\n",
    "cep4.get_full_dict()"
   ]
  },
  {
   "cell_type": "code",
   "execution_count": 18,
   "metadata": {},
   "outputs": [
    {
     "data": {
      "text/plain": [
       "{'cep': '30421169',\n",
       " 'uf': 'MG',\n",
       " 'cidade': 'Belo Horizonte',\n",
       " 'bairro': 'Nova Suíssa',\n",
       " 'rua': 'Avenida Amazonas - de 4201 a 5319 - lado ímpar',\n",
       " 'numero': 200,\n",
       " 'complemento': ''}"
      ]
     },
     "execution_count": 18,
     "metadata": {},
     "output_type": "execute_result"
    }
   ],
   "source": [
    "cep4.cep = \"31235070\"\n",
    "cep4.get_full_dict()"
   ]
  }
 ],
 "metadata": {
  "kernelspec": {
   "display_name": "venv",
   "language": "python",
   "name": "python3"
  },
  "language_info": {
   "codemirror_mode": {
    "name": "ipython",
    "version": 3
   },
   "file_extension": ".py",
   "mimetype": "text/x-python",
   "name": "python",
   "nbconvert_exporter": "python",
   "pygments_lexer": "ipython3",
   "version": "3.12.3"
  }
 },
 "nbformat": 4,
 "nbformat_minor": 2
}
