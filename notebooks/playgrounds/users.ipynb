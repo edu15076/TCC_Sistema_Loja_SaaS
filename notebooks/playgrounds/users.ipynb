{
 "cells": [
  {
   "cell_type": "code",
   "id": "initial_id",
   "metadata": {
    "collapsed": true,
    "ExecuteTime": {
     "end_time": "2024-05-10T19:58:36.426587Z",
     "start_time": "2024-05-10T19:58:36.105244Z"
    }
   },
   "source": [
    "import sys\n",
    "\n",
    "from util.django import restart_django\n",
    "\n",
    "sys.path.append(\"../../src\")\n",
    "\n",
    "restart_django(imprimir_versoes=True)"
   ],
   "outputs": [
    {
     "name": "stdout",
     "output_type": "stream",
     "text": [
      "Python 3.12.1 (tags/v3.12.1:2305ca5, Dec  7 2023, 22:03:25) [MSC v.1937 64 bit (AMD64)] on win32\n",
      "Django 5.0.4\n"
     ]
    }
   ],
   "execution_count": 1
  },
  {
   "metadata": {
    "ExecuteTime": {
     "end_time": "2024-05-10T19:58:36.430633Z",
     "start_time": "2024-05-10T19:58:36.427596Z"
    }
   },
   "cell_type": "code",
   "source": "from common.models import *",
   "id": "d6b5c014975a1622",
   "outputs": [],
   "execution_count": 2
  },
  {
   "metadata": {
    "ExecuteTime": {
     "end_time": "2024-05-10T19:58:36.435721Z",
     "start_time": "2024-05-10T19:58:36.431643Z"
    }
   },
   "cell_type": "code",
   "source": "from scope_auth.models import Scope, DefaultScope",
   "id": "e700304a0d9afd5",
   "outputs": [],
   "execution_count": 3
  },
  {
   "metadata": {
    "ExecuteTime": {
     "end_time": "2024-05-10T19:58:36.820113Z",
     "start_time": "2024-05-10T19:58:36.436773Z"
    }
   },
   "cell_type": "code",
   "source": "UsuarioGenerico.usuarios.create_superuser(username='asdfasdfasdfas', email='bingo3s@email.org', password='not1234@pass4')",
   "id": "5ed6938bfb17357a",
   "outputs": [],
   "execution_count": 4
  },
  {
   "metadata": {
    "ExecuteTime": {
     "end_time": "2024-05-10T19:59:22.142046Z",
     "start_time": "2024-05-10T19:59:20.077604Z"
    }
   },
   "cell_type": "code",
   "source": "import pandas as pd",
   "id": "2238942ca1b5fd51",
   "outputs": [],
   "execution_count": 7
  },
  {
   "metadata": {
    "ExecuteTime": {
     "end_time": "2024-05-10T20:01:07.692904Z",
     "start_time": "2024-05-10T20:01:07.675051Z"
    }
   },
   "cell_type": "code",
   "source": "pd.DataFrame(UsuarioGenerico.usuarios.values())",
   "id": "2e4327e4235d901f",
   "outputs": [
    {
     "data": {
      "text/plain": [
       "   id nome sobrenome              email data_nascimento telefone  \\\n",
       "0   4                    asdf@asdf.asdf            None     None   \n",
       "1   5                 bingo3s@email.org            None     None   \n",
       "\n",
       "   codigo_escopo_pair_id                                           password  \\\n",
       "0                      9  pbkdf2_sha256$720000$Mt38b31m45N1OFXKemFaEV$iu...   \n",
       "1                     10  pbkdf2_sha256$720000$SK2sziiyunsyBmofkoy60e$Wf...   \n",
       "\n",
       "                        last_login  is_superuser  is_staff  is_active  \\\n",
       "0 2024-05-10 19:57:22.791139+00:00          True      True       True   \n",
       "1                              NaT          True      True       True   \n",
       "\n",
       "                       date_joined  pessoa_id  \n",
       "0 2024-05-10 19:40:13.725314+00:00          4  \n",
       "1 2024-05-10 19:58:36.494570+00:00          5  "
      ],
      "text/html": [
       "<div>\n",
       "<style scoped>\n",
       "    .dataframe tbody tr th:only-of-type {\n",
       "        vertical-align: middle;\n",
       "    }\n",
       "\n",
       "    .dataframe tbody tr th {\n",
       "        vertical-align: top;\n",
       "    }\n",
       "\n",
       "    .dataframe thead th {\n",
       "        text-align: right;\n",
       "    }\n",
       "</style>\n",
       "<table border=\"1\" class=\"dataframe\">\n",
       "  <thead>\n",
       "    <tr style=\"text-align: right;\">\n",
       "      <th></th>\n",
       "      <th>id</th>\n",
       "      <th>nome</th>\n",
       "      <th>sobrenome</th>\n",
       "      <th>email</th>\n",
       "      <th>data_nascimento</th>\n",
       "      <th>telefone</th>\n",
       "      <th>codigo_escopo_pair_id</th>\n",
       "      <th>password</th>\n",
       "      <th>last_login</th>\n",
       "      <th>is_superuser</th>\n",
       "      <th>is_staff</th>\n",
       "      <th>is_active</th>\n",
       "      <th>date_joined</th>\n",
       "      <th>pessoa_id</th>\n",
       "    </tr>\n",
       "  </thead>\n",
       "  <tbody>\n",
       "    <tr>\n",
       "      <th>0</th>\n",
       "      <td>4</td>\n",
       "      <td></td>\n",
       "      <td></td>\n",
       "      <td>asdf@asdf.asdf</td>\n",
       "      <td>None</td>\n",
       "      <td>None</td>\n",
       "      <td>9</td>\n",
       "      <td>pbkdf2_sha256$720000$Mt38b31m45N1OFXKemFaEV$iu...</td>\n",
       "      <td>2024-05-10 19:57:22.791139+00:00</td>\n",
       "      <td>True</td>\n",
       "      <td>True</td>\n",
       "      <td>True</td>\n",
       "      <td>2024-05-10 19:40:13.725314+00:00</td>\n",
       "      <td>4</td>\n",
       "    </tr>\n",
       "    <tr>\n",
       "      <th>1</th>\n",
       "      <td>5</td>\n",
       "      <td></td>\n",
       "      <td></td>\n",
       "      <td>bingo3s@email.org</td>\n",
       "      <td>None</td>\n",
       "      <td>None</td>\n",
       "      <td>10</td>\n",
       "      <td>pbkdf2_sha256$720000$SK2sziiyunsyBmofkoy60e$Wf...</td>\n",
       "      <td>NaT</td>\n",
       "      <td>True</td>\n",
       "      <td>True</td>\n",
       "      <td>True</td>\n",
       "      <td>2024-05-10 19:58:36.494570+00:00</td>\n",
       "      <td>5</td>\n",
       "    </tr>\n",
       "  </tbody>\n",
       "</table>\n",
       "</div>"
      ]
     },
     "execution_count": 9,
     "metadata": {},
     "output_type": "execute_result"
    }
   ],
   "execution_count": 9
  }
 ],
 "metadata": {
  "kernelspec": {
   "display_name": "Python 3",
   "language": "python",
   "name": "python3"
  },
  "language_info": {
   "codemirror_mode": {
    "name": "ipython",
    "version": 2
   },
   "file_extension": ".py",
   "mimetype": "text/x-python",
   "name": "python",
   "nbconvert_exporter": "python",
   "pygments_lexer": "ipython2",
   "version": "2.7.6"
  }
 },
 "nbformat": 4,
 "nbformat_minor": 5
}
