{
 "cells": [
  {
   "cell_type": "code",
   "id": "initial_id",
   "metadata": {
    "collapsed": true,
    "ExecuteTime": {
     "end_time": "2024-05-10T22:47:06.403310Z",
     "start_time": "2024-05-10T22:47:06.132446Z"
    }
   },
   "source": [
    "import sys\n",
    "\n",
    "from util.django import restart_django\n",
    "\n",
    "sys.path.append(\"../../src\")\n",
    "\n",
    "restart_django(imprimir_versoes=True)"
   ],
   "outputs": [
    {
     "name": "stdout",
     "output_type": "stream",
     "text": [
      "Python 3.12.1 (tags/v3.12.1:2305ca5, Dec  7 2023, 22:03:25) [MSC v.1937 64 bit (AMD64)] on win32\n",
      "Django 5.0.4\n"
     ]
    }
   ],
   "execution_count": 1
  },
  {
   "metadata": {
    "ExecuteTime": {
     "end_time": "2024-05-10T22:47:06.407336Z",
     "start_time": "2024-05-10T22:47:06.404330Z"
    }
   },
   "cell_type": "code",
   "source": "from common.models import *",
   "id": "d6b5c014975a1622",
   "outputs": [],
   "execution_count": 2
  },
  {
   "metadata": {
    "ExecuteTime": {
     "end_time": "2024-05-10T22:47:06.411138Z",
     "start_time": "2024-05-10T22:47:06.408350Z"
    }
   },
   "cell_type": "code",
   "source": "from scope_auth.models import Scope, DefaultScope",
   "id": "e700304a0d9afd5",
   "outputs": [],
   "execution_count": 3
  },
  {
   "metadata": {
    "ExecuteTime": {
     "end_time": "2024-05-10T22:47:06.787533Z",
     "start_time": "2024-05-10T22:47:06.411138Z"
    }
   },
   "cell_type": "code",
   "source": "UsuarioGenerico.usuarios.create_superuser(username='asdfasdfasdfas', email='bingo3s@email.org', password='not1234@pass4')",
   "id": "5ed6938bfb17357a",
   "outputs": [],
   "execution_count": 4
  },
  {
   "metadata": {
    "ExecuteTime": {
     "end_time": "2024-05-10T22:47:07.399830Z",
     "start_time": "2024-05-10T22:47:06.788868Z"
    }
   },
   "cell_type": "code",
   "source": "import pandas as pd",
   "id": "2238942ca1b5fd51",
   "outputs": [],
   "execution_count": 5
  },
  {
   "metadata": {
    "ExecuteTime": {
     "end_time": "2024-05-10T22:47:47.274696Z",
     "start_time": "2024-05-10T22:47:47.264348Z"
    }
   },
   "cell_type": "code",
   "source": "pd.DataFrame(UsuarioGenerico.usuarios.values())",
   "id": "2e4327e4235d901f",
   "outputs": [
    {
     "data": {
      "text/plain": [
       "   id nome sobrenome              email data_nascimento telefone  \\\n",
       "0   1                 bingo3s@email.org            None     None   \n",
       "1   2                    asdf@asdf.asdf            None     None   \n",
       "\n",
       "   codigo_escopo_pair_id                                           password  \\\n",
       "0                      1  pbkdf2_sha256$720000$yvirqERdK2QKRTqBjUuC4s$cv...   \n",
       "1                      2  pbkdf2_sha256$720000$2SlptSgUstQtgJJCdc2oBl$gk...   \n",
       "\n",
       "  last_login  is_superuser  is_staff  is_active  \\\n",
       "0       None          True      True       True   \n",
       "1       None          True      True       True   \n",
       "\n",
       "                       date_joined  pessoa_id  \n",
       "0 2024-05-10 22:47:06.469433+00:00          1  \n",
       "1 2024-05-10 22:47:43.470408+00:00          2  "
      ],
      "text/html": [
       "<div>\n",
       "<style scoped>\n",
       "    .dataframe tbody tr th:only-of-type {\n",
       "        vertical-align: middle;\n",
       "    }\n",
       "\n",
       "    .dataframe tbody tr th {\n",
       "        vertical-align: top;\n",
       "    }\n",
       "\n",
       "    .dataframe thead th {\n",
       "        text-align: right;\n",
       "    }\n",
       "</style>\n",
       "<table border=\"1\" class=\"dataframe\">\n",
       "  <thead>\n",
       "    <tr style=\"text-align: right;\">\n",
       "      <th></th>\n",
       "      <th>id</th>\n",
       "      <th>nome</th>\n",
       "      <th>sobrenome</th>\n",
       "      <th>email</th>\n",
       "      <th>data_nascimento</th>\n",
       "      <th>telefone</th>\n",
       "      <th>codigo_escopo_pair_id</th>\n",
       "      <th>password</th>\n",
       "      <th>last_login</th>\n",
       "      <th>is_superuser</th>\n",
       "      <th>is_staff</th>\n",
       "      <th>is_active</th>\n",
       "      <th>date_joined</th>\n",
       "      <th>pessoa_id</th>\n",
       "    </tr>\n",
       "  </thead>\n",
       "  <tbody>\n",
       "    <tr>\n",
       "      <th>0</th>\n",
       "      <td>1</td>\n",
       "      <td></td>\n",
       "      <td></td>\n",
       "      <td>bingo3s@email.org</td>\n",
       "      <td>None</td>\n",
       "      <td>None</td>\n",
       "      <td>1</td>\n",
       "      <td>pbkdf2_sha256$720000$yvirqERdK2QKRTqBjUuC4s$cv...</td>\n",
       "      <td>None</td>\n",
       "      <td>True</td>\n",
       "      <td>True</td>\n",
       "      <td>True</td>\n",
       "      <td>2024-05-10 22:47:06.469433+00:00</td>\n",
       "      <td>1</td>\n",
       "    </tr>\n",
       "    <tr>\n",
       "      <th>1</th>\n",
       "      <td>2</td>\n",
       "      <td></td>\n",
       "      <td></td>\n",
       "      <td>asdf@asdf.asdf</td>\n",
       "      <td>None</td>\n",
       "      <td>None</td>\n",
       "      <td>2</td>\n",
       "      <td>pbkdf2_sha256$720000$2SlptSgUstQtgJJCdc2oBl$gk...</td>\n",
       "      <td>None</td>\n",
       "      <td>True</td>\n",
       "      <td>True</td>\n",
       "      <td>True</td>\n",
       "      <td>2024-05-10 22:47:43.470408+00:00</td>\n",
       "      <td>2</td>\n",
       "    </tr>\n",
       "  </tbody>\n",
       "</table>\n",
       "</div>"
      ]
     },
     "execution_count": 7,
     "metadata": {},
     "output_type": "execute_result"
    }
   ],
   "execution_count": 7
  }
 ],
 "metadata": {
  "kernelspec": {
   "display_name": "Python 3",
   "language": "python",
   "name": "python3"
  },
  "language_info": {
   "codemirror_mode": {
    "name": "ipython",
    "version": 2
   },
   "file_extension": ".py",
   "mimetype": "text/x-python",
   "name": "python",
   "nbconvert_exporter": "python",
   "pygments_lexer": "ipython2",
   "version": "2.7.6"
  }
 },
 "nbformat": 4,
 "nbformat_minor": 5
}
