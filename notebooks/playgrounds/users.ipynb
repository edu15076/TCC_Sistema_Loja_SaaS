{
 "cells": [
  {
   "cell_type": "code",
   "id": "initial_id",
   "metadata": {
    "collapsed": true,
    "ExecuteTime": {
     "end_time": "2024-05-15T20:19:16.851700Z",
     "start_time": "2024-05-15T20:19:16.574112Z"
    }
   },
   "source": [
    "import sys\n",
    "\n",
    "from util.django import restart_django\n",
    "\n",
    "sys.path.append(\"../../src\")\n",
    "\n",
    "restart_django(imprimir_versoes=True)"
   ],
   "execution_count": 1,
   "outputs": []
  },
  {
   "metadata": {
    "ExecuteTime": {
     "end_time": "2024-05-15T20:19:16.856071Z",
     "start_time": "2024-05-15T20:19:16.852708Z"
    }
   },
   "cell_type": "code",
   "source": "from common.models import *",
   "id": "d6b5c014975a1622",
   "execution_count": 2,
   "outputs": []
  },
  {
   "metadata": {
    "ExecuteTime": {
     "end_time": "2024-05-15T20:19:51.750408Z",
     "start_time": "2024-05-15T20:19:51.744942Z"
    }
   },
   "cell_type": "code",
   "source": "CodigoScopePair.objects.get(pk=1).pk",
   "id": "69e20385bacb9187",
   "execution_count": 4,
   "outputs": []
  },
  {
   "metadata": {
    "ExecuteTime": {
     "end_time": "2024-05-10T22:47:06.411138Z",
     "start_time": "2024-05-10T22:47:06.408350Z"
    }
   },
   "cell_type": "code",
   "source": "from scope_auth.models import Scope, DefaultScope",
   "id": "e700304a0d9afd5",
   "execution_count": 3,
   "outputs": []
  },
  {
   "metadata": {
    "ExecuteTime": {
     "end_time": "2024-05-10T22:47:06.787533Z",
     "start_time": "2024-05-10T22:47:06.411138Z"
    }
   },
   "cell_type": "code",
   "source": "UsuarioGenerico.usuarios.create_superuser(username='asdfasdfasdfas', email='bingo3s@email.org', password='not1234@pass4')",
   "id": "5ed6938bfb17357a",
   "execution_count": 4,
   "outputs": []
  },
  {
   "metadata": {
    "ExecuteTime": {
     "end_time": "2024-05-10T22:47:07.399830Z",
     "start_time": "2024-05-10T22:47:06.788868Z"
    }
   },
   "cell_type": "code",
   "source": "import pandas as pd",
   "id": "2238942ca1b5fd51",
   "execution_count": 5,
   "outputs": []
  },
  {
   "metadata": {
    "ExecuteTime": {
     "end_time": "2024-05-10T22:47:47.274696Z",
     "start_time": "2024-05-10T22:47:47.264348Z"
    }
   },
   "cell_type": "code",
   "source": "pd.DataFrame(UsuarioGenerico.usuarios.values())",
   "id": "2e4327e4235d901f",
   "execution_count": 7,
   "outputs": []
  }
 ],
 "metadata": {
  "kernelspec": {
   "display_name": "Python 3",
   "language": "python",
   "name": "python3"
  },
  "language_info": {
   "codemirror_mode": {
    "name": "ipython",
    "version": 2
   },
   "file_extension": ".py",
   "mimetype": "text/x-python",
   "name": "python",
   "nbconvert_exporter": "python",
   "pygments_lexer": "ipython2",
   "version": "2.7.6"
  }
 },
 "nbformat": 4,
 "nbformat_minor": 5
}
