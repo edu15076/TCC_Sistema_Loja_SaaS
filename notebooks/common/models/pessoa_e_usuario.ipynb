{
 "cells": [
  {
   "metadata": {
    "ExecuteTime": {
     "end_time": "2024-05-24T22:09:48.329919Z",
     "start_time": "2024-05-24T22:09:47.889827Z"
    }
   },
   "cell_type": "code",
   "source": [
    "import sys\n",
    "\n",
    "from util.django import restart_django\n",
    "\n",
    "sys.path.append(\"../../src\")\n",
    "\n",
    "restart_django(imprimir_versoes=True)"
   ],
   "id": "initial_id",
   "execution_count": 1,
   "outputs": []
  },
  {
   "metadata": {},
   "cell_type": "markdown",
   "source": "Esse notebook tem como objetivo exemplificar o uso das classes de pessoas e usuários do app common",
   "id": "404e38323ec17956"
  },
  {
   "metadata": {
    "ExecuteTime": {
     "end_time": "2024-05-24T22:09:48.949272Z",
     "start_time": "2024-05-24T22:09:48.330926Z"
    }
   },
   "cell_type": "code",
   "source": [
    "from common.models import *\n",
    "from datetime import date\n",
    "import pandas as pd\n",
    "from django.core.exceptions import ValidationError"
   ],
   "id": "bf689ea02ee1bfaf",
   "execution_count": 2,
   "outputs": []
  },
  {
   "metadata": {},
   "cell_type": "markdown",
   "source": "## Pessoa",
   "id": "c01c89095e566e22"
  },
  {
   "metadata": {},
   "cell_type": "markdown",
   "source": [
    "Ao chamar o `save` de qualquer subclasse de pessoa `full_clean` é chamado, de forma que os campos sempre são validados antes de serem salvos. Nesse caso o príncipal campo sendo válidado é o `cpf`.\n",
    "\n",
    "Todos os campos de pessoa física são apresentados nesse exemplo."
   ],
   "id": "cbe4ec0f9708f759"
  },
  {
   "metadata": {
    "ExecuteTime": {
     "end_time": "2024-05-24T22:09:48.953954Z",
     "start_time": "2024-05-24T22:09:48.950278Z"
    }
   },
   "cell_type": "code",
   "source": [
    "bindo = PessoaFisica(cpf='11484174510', nome='Eduardo', sobrenome='C. de Souza', data_nascimento=date(2006, 7, 15))\n",
    "try:\n",
    "    bindo.save()\n",
    "    print('bindo foi salvo no banco de dados')\n",
    "except ValidationError as e:\n",
    "    print(f'bindo não foi salvo pois: {e.args[0]}')"
   ],
   "id": "432a60c1b970fc3a",
   "execution_count": 3,
   "outputs": []
  },
  {
   "metadata": {
    "ExecuteTime": {
     "end_time": "2024-05-24T22:09:48.995069Z",
     "start_time": "2024-05-24T22:09:48.953954Z"
    }
   },
   "cell_type": "code",
   "source": [
    "bindo = PessoaFisica(cpf='59247136170812', nome='Eduardo', sobrenome='C. de Souza', data_nascimento=date(2006, 7, 15))\n",
    "try:\n",
    "    bindo.save()\n",
    "    print('bindo foi salvo no banco de dados')\n",
    "except ValidationError as e:\n",
    "    print(f'bindo não foi salvo pois: {e.args[0]}')"
   ],
   "id": "3ecd07dfd0e7c294",
   "execution_count": 4,
   "outputs": []
  },
  {
   "metadata": {
    "ExecuteTime": {
     "end_time": "2024-05-24T22:09:49.009583Z",
     "start_time": "2024-05-24T22:09:48.996075Z"
    }
   },
   "cell_type": "code",
   "source": [
    "bindo = PessoaFisica(cpf='11484174518', nome='Eduardo', sobrenome='C. de Souza', data_nascimento=date(2006, 7, 15))\n",
    "try:\n",
    "    bindo.save()\n",
    "    print('bindo foi salvo no banco de dados')\n",
    "except ValidationError as e:\n",
    "    print(f'bindo não foi salvo pois: {e.args[0]}')"
   ],
   "id": "c44937344852b4d3",
   "execution_count": 5,
   "outputs": []
  },
  {
   "metadata": {},
   "cell_type": "markdown",
   "source": "Também podemos usar o método `create` para criar uma pessoa - naturalmente `full_clean` continua sendo chamado antes de salvar.",
   "id": "6955df37fd3fdf0f"
  },
  {
   "metadata": {
    "ExecuteTime": {
     "end_time": "2024-05-24T22:09:49.019508Z",
     "start_time": "2024-05-24T22:09:49.010594Z"
    }
   },
   "cell_type": "code",
   "source": "PessoaFisica.pessoas.create(cpf='66666666666', nome='Coisa', sobrenome='Ruim', data_nascimento=date(2006, 6, 6))",
   "id": "9f78bc9e24dcd41",
   "execution_count": 6,
   "outputs": []
  },
  {
   "metadata": {},
   "cell_type": "markdown",
   "source": "Podemos resgatar `bindo` por meio da chave primária de `Pessoa`, por consequência também chave primária das subclasses de `Pessoa`, `codigo`. Todavia para `PessoaFisica` podemos chamá-la por `cpf` na criação e na edição `cpf` sempre é um campo annotado, além disso `cpf` possuí métodos getter e setter que modificam o `codigo`.",
   "id": "d32b9ef742c6b001"
  },
  {
   "metadata": {
    "ExecuteTime": {
     "end_time": "2024-05-24T22:09:49.035009Z",
     "start_time": "2024-05-24T22:09:49.020516Z"
    }
   },
   "cell_type": "code",
   "source": "pd.DataFrame(PessoaFisica.pessoas.simple().filter(cpf='11484174518'))",
   "id": "2838817624d0c6da",
   "execution_count": 7,
   "outputs": []
  },
  {
   "metadata": {
    "ExecuteTime": {
     "end_time": "2024-05-24T22:09:49.043701Z",
     "start_time": "2024-05-24T22:09:49.036019Z"
    }
   },
   "cell_type": "code",
   "source": "pd.DataFrame(PessoaFisica.pessoas.filter(cpf='11484174518').values())",
   "id": "751dae8f3fae9b36",
   "execution_count": 8,
   "outputs": []
  },
  {
   "metadata": {},
   "cell_type": "markdown",
   "source": "Note que o método `simple` pode ser util, mas não retorna a instância de pessoa física, além de perder outros campos de relacionamentos. Talvez seja, em alguns casos em que a eficiência deve ser priorizada, utilizar o método `only`.",
   "id": "f7a02a61a964ad23"
  },
  {
   "metadata": {
    "ExecuteTime": {
     "end_time": "2024-05-24T22:09:49.049119Z",
     "start_time": "2024-05-24T22:09:49.044709Z"
    }
   },
   "cell_type": "code",
   "source": "isinstance(PessoaFisica.pessoas.simple().filter(cpf='11484174518')[0], dict)",
   "id": "ae0194c5a5d6b369",
   "execution_count": 9,
   "outputs": []
  },
  {
   "metadata": {
    "ExecuteTime": {
     "end_time": "2024-05-24T22:09:49.055358Z",
     "start_time": "2024-05-24T22:09:49.050132Z"
    }
   },
   "cell_type": "code",
   "source": "isinstance(PessoaFisica.pessoas.filter(cpf='11484174518')[0], PessoaFisica)",
   "id": "95b7aaf31c9777ce",
   "execution_count": 10,
   "outputs": []
  },
  {
   "metadata": {},
   "cell_type": "markdown",
   "source": "Note que `codigo` é `editable=False`, logo não deve ser alterado, embora exista essa possibilidade. Caso altere `codigo` outra linha de `Pessoa` será criada, isso ocasionará erros imprevisíveis e assustadores.",
   "id": "38e27869413e7b87"
  },
  {
   "metadata": {},
   "cell_type": "markdown",
   "source": "Trabalhar com `PessoaJuridica` é análogo a trabalhar com `PessoaFisica`, exceto que o codinome de `codigo` é `cnpj` e não possuí o campo `data_nascimento`, obviamente a verificação do `codigo` verifica se é um `cnpj` válido. Portanto, não será detalhado.",
   "id": "babb58de0243dc62"
  },
  {
   "metadata": {},
   "cell_type": "markdown",
   "source": [
    "## UsuarioGenerico\n",
    "\n",
    "O `UsuarioGenerico` estabelece uma relação com `PessoaUsuario` que define o escopo do usuário. De forma simplória, uma `Pessoa` pode estar associada a vários usuários, enquanto um usuário está associado a somente uma pessoa, pois o usuário pode existir em diferentes escopos sob mesmo `codigo`, ou seja, sendo a mesma `Pessoa`. No entanto, não é recomendado usar `UsuarioGenerico` em sua forma pura, mas sim com um proxy. O usuário que é uma pessoa jurídica deve usar `UsuarioGenericoPessoJuridica` e o que é uma pessoa física `UsuarioGenericoPessoaFisica`. Esses proxys visam simular a herança de pessoa, embora ela não exista, de modo a simplificar o trabalho."
   ],
   "id": "6dc240290a83b60d"
  },
  {
   "metadata": {},
   "cell_type": "markdown",
   "source": [
    "### Da criação de novos usuários\n",
    "\n",
    "A criação de novos usuários será pelas classes proxy de `UsuarioGenericoPessoaFisica` ou `UsuarioGenericoPessoaJuridica`, é altamente recomendado o uso do método `criar_usuario` e `criar_superusuario`, alternativamente é possível usar o builder. Isso quando feito em código, quando usando o form, deve herdar dos forms que serão feitos no common.\n",
    "\n",
    "Tanto no `criar_usuario` como como será no form, a senha é haseada e os dados inseridos validados. Portanto, não utilize métodos alternativos e mandrakes para a criação de usuários, pois eles podem não ser validados ou salvar a senha bruta, ambos seriam péssimos."
   ],
   "id": "9356598e6b532c96"
  },
  {
   "metadata": {
    "ExecuteTime": {
     "end_time": "2024-05-24T22:09:49.395954Z",
     "start_time": "2024-05-24T22:09:49.056364Z"
    }
   },
   "cell_type": "code",
   "source": [
    "escocesa_ltda = UsuarioGenericoPessoaJuridica.usuarios.criar_usuario(\n",
    "    cnpj='12911507000186',\n",
    "    password='espelho',\n",
    "    email='mr@gmail.com',\n",
    "    telefone='31984735439',\n",
    "    razao_social='Escocia LTDA',\n",
    "    nome_fantasia='Escocesa Especular'\n",
    ")"
   ],
   "id": "67efae257fbb0f09",
   "execution_count": 11,
   "outputs": []
  },
  {
   "metadata": {},
   "cell_type": "markdown",
   "source": "Ou",
   "id": "4ee3f77cb336e786"
  },
  {
   "metadata": {
    "ExecuteTime": {
     "end_time": "2024-05-24T22:09:49.770382Z",
     "start_time": "2024-05-24T22:09:49.395954Z"
    }
   },
   "cell_type": "code",
   "source": [
    "builder = UsuarioGenericoPessoaJuridica.usuarios.create_builder()\n",
    "builder.cnpj = '43694255431512'\n",
    "builder.password = 'bingos'\n",
    "builder.email = 'algum@gmail.com'\n",
    "builder.telefone = '32984735439'\n",
    "builder.razao_social = 'Bingos Dingos LTDA'\n",
    "builder.nome_fantasia = 'Bingos o Dingo'\n",
    "bingos_dingos = builder.build_usuario()"
   ],
   "id": "6c8f12562f549a0",
   "execution_count": 12,
   "outputs": []
  },
  {
   "metadata": {},
   "cell_type": "markdown",
   "source": "Criando um escopo para um grupo de usuários",
   "id": "9648d4639b84232c"
  },
  {
   "metadata": {
    "ExecuteTime": {
     "end_time": "2024-05-24T22:09:49.775523Z",
     "start_time": "2024-05-24T22:09:49.771394Z"
    }
   },
   "cell_type": "code",
   "source": "from scope_auth.models import Scope",
   "id": "3144cc423c0536fd",
   "execution_count": 13,
   "outputs": []
  },
  {
   "metadata": {
    "ExecuteTime": {
     "end_time": "2024-05-24T22:09:49.783847Z",
     "start_time": "2024-05-24T22:09:49.779536Z"
    }
   },
   "cell_type": "code",
   "source": "outro_escopo = Scope.scopes.create()",
   "id": "2e0c63702a9287d3",
   "execution_count": 14,
   "outputs": []
  },
  {
   "metadata": {
    "ExecuteTime": {
     "end_time": "2024-05-24T22:09:50.162929Z",
     "start_time": "2024-05-24T22:09:49.784859Z"
    }
   },
   "cell_type": "code",
   "source": [
    "bindo = UsuarioGenericoPessoaFisica.usuarios.criar_usuario(\n",
    "    cpf='51283834235',\n",
    "    scope=outro_escopo,\n",
    "    password='bingosdingos@1234',\n",
    "    email='bindo@gmail.com',\n",
    "    telefone='32999781209',\n",
    "    nome='Bindo',\n",
    "    sobrenome='Dingo'\n",
    ")"
   ],
   "id": "9f247943fe57a7f9",
   "execution_count": 15,
   "outputs": []
  },
  {
   "metadata": {},
   "cell_type": "markdown",
   "source": "Alterando o usuário `bindo`, modificando os dados de pessoa e os dados de usuário utilizando o proxy",
   "id": "9dc155dec62ef006"
  },
  {
   "metadata": {
    "ExecuteTime": {
     "end_time": "2024-05-24T22:09:50.170337Z",
     "start_time": "2024-05-24T22:09:50.163936Z"
    }
   },
   "cell_type": "code",
   "source": [
    "bindo.nome = 'Bingo'\n",
    "bindo.email = 'dem@hotmail.com'\n",
    "bindo.save()"
   ],
   "id": "ac63cb6f6273c6a5",
   "execution_count": 16,
   "outputs": []
  },
  {
   "metadata": {},
   "cell_type": "markdown",
   "source": "Somente criando outro usuário em mais um escopo",
   "id": "b8e6b5b8cdf6154b"
  },
  {
   "metadata": {
    "ExecuteTime": {
     "end_time": "2024-05-24T22:09:50.498003Z",
     "start_time": "2024-05-24T22:09:50.171343Z"
    }
   },
   "cell_type": "code",
   "source": [
    "mais_um_escopo = Scope.scopes.create()\n",
    "\n",
    "coringa = UsuarioGenericoPessoaFisica.usuarios.criar_usuario(\n",
    "    cpf='37705858797',\n",
    "    scope=mais_um_escopo,\n",
    "    password='senha$#$doiasdf2345',\n",
    "    email='coringa@gmail.com',\n",
    "    telefone='32999781209',\n",
    "    nome='Coringa',\n",
    "    sobrenome=', O Brincalhão'\n",
    ")"
   ],
   "id": "7201d7ebc7af7faa",
   "execution_count": 17,
   "outputs": []
  },
  {
   "metadata": {},
   "cell_type": "markdown",
   "source": [
    "### Resgatando usuários do banco de dados\n",
    "\n",
    "Ao resgatar usuários do banco de dados nem sempre será possível recuperá-lo como instância de um dos `proxy`, ou não será possível recuperar um queryset dessa maneira. Portanto, mostraremos como resgatar os dados pelos `proxy` e como realizar a coerção de um queryset da classe base ou de uma instância da classe base para os proxys."
   ],
   "id": "381b49cb18abdf6a"
  },
  {
   "metadata": {},
   "cell_type": "markdown",
   "source": [
    "É importante saber que os proxys já filtram pelos usuários de pessoa física e de pessoa jurídica.\n",
    "\n",
    "Os campos de pessoa física e pessoa jurídica são anotados no queryset logo após ser criado, os campos de scope e pessoa são anotados nas superclasses. Também são fornecidas properties e setters para membros de pessoa. Os métodos de `clean` e `save` chamam tambem os de pessoa e pessoa_usuario, conforme em:\n",
    "\n",
    "```python\n",
    "bindo.nome = 'Bingo'\n",
    "bindo.email = 'dem@hotmail.com'\n",
    "bindo.save()\n",
    "```"
   ],
   "id": "cbeeb3744d3035ea"
  },
  {
   "metadata": {
    "ExecuteTime": {
     "end_time": "2024-05-24T22:09:50.508262Z",
     "start_time": "2024-05-24T22:09:50.499010Z"
    }
   },
   "cell_type": "code",
   "source": "pd.DataFrame(UsuarioGenericoPessoaJuridica.usuarios.simple())",
   "id": "1b8d1fad5ce1d901",
   "execution_count": 18,
   "outputs": []
  },
  {
   "metadata": {},
   "cell_type": "markdown",
   "source": "Filtrando por escopo",
   "id": "9c2a062418c6d25c"
  },
  {
   "metadata": {
    "ExecuteTime": {
     "end_time": "2024-05-24T22:09:50.521958Z",
     "start_time": "2024-05-24T22:09:50.509269Z"
    }
   },
   "cell_type": "code",
   "source": "pd.DataFrame(UsuarioGenericoPessoa.usuarios.filter(scope=outro_escopo).values())",
   "id": "deac49434026f7c5",
   "execution_count": 19,
   "outputs": []
  },
  {
   "metadata": {},
   "cell_type": "markdown",
   "source": "Pegando uma instância por `cnpj` e `scope`",
   "id": "2c17a7eefb3de7ce"
  },
  {
   "metadata": {
    "ExecuteTime": {
     "end_time": "2024-05-24T22:09:50.532217Z",
     "start_time": "2024-05-24T22:09:50.522964Z"
    }
   },
   "cell_type": "code",
   "source": "UsuarioGenericoPessoaJuridica.usuarios.get(cnpj='43694255431512', scope=Scope.scopes.default_scope()).__dict__",
   "id": "d4edf34227d8d30a",
   "execution_count": 20,
   "outputs": []
  },
  {
   "metadata": {},
   "cell_type": "markdown",
   "source": "Imagine você tem um queryset de `UsuarioGenerico` mas não te interessam as pessoas jurídicas, somente as físicas. Todavia, para punir os que tentaram burlar o sistema, você quer saber quais são as pessoas jurídicas que estavam no queryset e não deveriam estar ali.",
   "id": "22314282ce53f9b"
  },
  {
   "metadata": {
    "ExecuteTime": {
     "end_time": "2024-05-24T22:09:50.535753Z",
     "start_time": "2024-05-24T22:09:50.533227Z"
    }
   },
   "cell_type": "code",
   "source": "qs = UsuarioGenerico.usuarios.all()",
   "id": "2eb3c220a6eecd87",
   "execution_count": 21,
   "outputs": []
  },
  {
   "metadata": {
    "ExecuteTime": {
     "end_time": "2024-05-24T22:09:50.546256Z",
     "start_time": "2024-05-24T22:09:50.536763Z"
    }
   },
   "cell_type": "code",
   "source": [
    "pessoas_fisicas = qs.as_usuarios_pessoa_fisica()\n",
    "pd.DataFrame(pessoas_fisicas.simple())"
   ],
   "id": "fc5f0c90735cf471",
   "execution_count": 22,
   "outputs": []
  },
  {
   "metadata": {
    "ExecuteTime": {
     "end_time": "2024-05-24T22:09:50.555693Z",
     "start_time": "2024-05-24T22:09:50.547267Z"
    }
   },
   "cell_type": "code",
   "source": [
    "pessoas_juridicas = qs.as_usuarios_pessoa_juridica()\n",
    "pd.DataFrame(pessoas_juridicas.simple())"
   ],
   "id": "4d950ffa18544ebd",
   "execution_count": 23,
   "outputs": []
  },
  {
   "metadata": {},
   "cell_type": "markdown",
   "source": "Alternativamente",
   "id": "d72512876f90d3c1"
  },
  {
   "metadata": {
    "ExecuteTime": {
     "end_time": "2024-05-24T22:09:50.565531Z",
     "start_time": "2024-05-24T22:09:50.556700Z"
    }
   },
   "cell_type": "code",
   "source": [
    "pessoas_fisicas = UsuarioGenericoPessoaFisica.usuarios.from_usuarios_queryset(qs)\n",
    "pd.DataFrame(pessoas_fisicas.simple())"
   ],
   "id": "6a11ab461acfd469",
   "execution_count": 24,
   "outputs": []
  },
  {
   "metadata": {
    "ExecuteTime": {
     "end_time": "2024-05-24T22:09:50.571839Z",
     "start_time": "2024-05-24T22:09:50.566539Z"
    }
   },
   "cell_type": "code",
   "source": [
    "try:\n",
    "    print(qs[0].as_usuario_pessoa_fisica())\n",
    "except TypeError as e:\n",
    "    print(e)"
   ],
   "id": "ae3ef8caa8b2f58d",
   "execution_count": 25,
   "outputs": []
  },
  {
   "metadata": {
    "ExecuteTime": {
     "end_time": "2024-05-24T22:09:50.578771Z",
     "start_time": "2024-05-24T22:09:50.572853Z"
    }
   },
   "cell_type": "code",
   "source": [
    "try:\n",
    "    print(qs[0].as_usuario_pessoa_juridica())\n",
    "except TypeError as e:\n",
    "    print(e)"
   ],
   "id": "13603b24043f0d3b",
   "execution_count": 26,
   "outputs": []
  },
  {
   "metadata": {},
   "cell_type": "markdown",
   "source": "Basicamente isso exemplifica como trabalhar com um usuário. Em caso de herança o manager e queryset também deverão ser herdados. ",
   "id": "5ec7b5f5d9a6096"
  }
 ],
 "metadata": {
  "kernelspec": {
   "display_name": "Python 3",
   "language": "python",
   "name": "python3"
  },
  "language_info": {
   "codemirror_mode": {
    "name": "ipython",
    "version": 2
   },
   "file_extension": ".py",
   "mimetype": "text/x-python",
   "name": "python",
   "nbconvert_exporter": "python",
   "pygments_lexer": "ipython2",
   "version": "2.7.6"
  }
 },
 "nbformat": 4,
 "nbformat_minor": 5
}
