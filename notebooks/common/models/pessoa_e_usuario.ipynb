{
 "cells": [
  {
   "metadata": {
    "ExecuteTime": {
     "end_time": "2024-05-30T15:37:59.910822Z",
     "start_time": "2024-05-30T15:37:59.510048Z"
    }
   },
   "cell_type": "code",
   "source": [
    "import sys\n",
    "\n",
    "from util.django import restart_django\n",
    "\n",
    "sys.path.append(\"../../src\")\n",
    "\n",
    "restart_django(imprimir_versoes=True)"
   ],
   "id": "initial_id",
   "outputs": [
    {
     "name": "stdout",
     "output_type": "stream",
     "text": [
      "Python 3.12.1 (tags/v3.12.1:2305ca5, Dec  7 2023, 22:03:25) [MSC v.1937 64 bit (AMD64)] on win32\n",
      "Django 5.0.4\n"
     ]
    }
   ],
   "execution_count": 1
  },
  {
   "metadata": {},
   "cell_type": "markdown",
   "source": "Esse notebook tem como objetivo exemplificar o uso das classes de pessoas e usuários do app common",
   "id": "404e38323ec17956"
  },
  {
   "metadata": {
    "ExecuteTime": {
     "end_time": "2024-05-30T15:38:00.294108Z",
     "start_time": "2024-05-30T15:37:59.911884Z"
    }
   },
   "cell_type": "code",
   "source": [
    "from common.models import *\n",
    "from datetime import date\n",
    "import pandas as pd\n",
    "from django.core.exceptions import ValidationError"
   ],
   "id": "bf689ea02ee1bfaf",
   "outputs": [],
   "execution_count": 2
  },
  {
   "metadata": {},
   "cell_type": "markdown",
   "source": "## Pessoa",
   "id": "c01c89095e566e22"
  },
  {
   "metadata": {},
   "cell_type": "markdown",
   "source": [
    "Ao chamar o `save` de qualquer subclasse de pessoa `full_clean` é chamado, de forma que os campos sempre são validados antes de serem salvos. Nesse caso o príncipal campo sendo válidado é o `cpf`.\n",
    "\n",
    "Todos os campos de pessoa física são apresentados nesse exemplo."
   ],
   "id": "cbe4ec0f9708f759"
  },
  {
   "metadata": {
    "ExecuteTime": {
     "end_time": "2024-05-30T15:38:00.305950Z",
     "start_time": "2024-05-30T15:38:00.295136Z"
    }
   },
   "cell_type": "code",
   "source": [
    "bindo = PessoaFisica(cpf='11484174510', nome='Eduardo', sobrenome='C. de Souza', data_nascimento=date(2006, 7, 15))\n",
    "try:\n",
    "    bindo.save()\n",
    "    print('bindo foi salvo no banco de dados')\n",
    "except ValidationError as e:\n",
    "    print(f'bindo não foi salvo pois: {e.args[0]}')"
   ],
   "id": "432a60c1b970fc3a",
   "outputs": [
    {
     "name": "stdout",
     "output_type": "stream",
     "text": [
      "bindo não foi salvo pois: {'codigo': [ValidationError(['CPF inválido'])]}\n"
     ]
    }
   ],
   "execution_count": 3
  },
  {
   "metadata": {
    "ExecuteTime": {
     "end_time": "2024-05-30T15:38:00.360832Z",
     "start_time": "2024-05-30T15:38:00.306958Z"
    }
   },
   "cell_type": "code",
   "source": [
    "bindo = PessoaFisica(cpf='59247136170812', nome='Eduardo', sobrenome='C. de Souza', data_nascimento=date(2006, 7, 15))\n",
    "try:\n",
    "    bindo.save()\n",
    "    print('bindo foi salvo no banco de dados')\n",
    "except ValidationError as e:\n",
    "    print(f'bindo não foi salvo pois: {e.args[0]}')"
   ],
   "id": "3ecd07dfd0e7c294",
   "outputs": [
    {
     "name": "stdout",
     "output_type": "stream",
     "text": [
      "bindo não foi salvo pois: {'__all__': [ValidationError(['O codigo de PessoaFisica deve ser um cpf'])]}\n"
     ]
    }
   ],
   "execution_count": 4
  },
  {
   "metadata": {
    "ExecuteTime": {
     "end_time": "2024-05-30T15:38:00.376202Z",
     "start_time": "2024-05-30T15:38:00.362194Z"
    }
   },
   "cell_type": "code",
   "source": [
    "bindo = PessoaFisica(cpf='11484174518', nome='Eduardo', sobrenome='C. de Souza', data_nascimento=date(2006, 7, 15))\n",
    "try:\n",
    "    bindo.save()\n",
    "    print('bindo foi salvo no banco de dados')\n",
    "except ValidationError as e:\n",
    "    print(f'bindo não foi salvo pois: {e.args[0]}')"
   ],
   "id": "c44937344852b4d3",
   "outputs": [
    {
     "name": "stdout",
     "output_type": "stream",
     "text": [
      "bindo foi salvo no banco de dados\n"
     ]
    }
   ],
   "execution_count": 5
  },
  {
   "metadata": {},
   "cell_type": "markdown",
   "source": "Também podemos usar o método `create` para criar uma pessoa - naturalmente `full_clean` continua sendo chamado antes de salvar.",
   "id": "6955df37fd3fdf0f"
  },
  {
   "metadata": {
    "ExecuteTime": {
     "end_time": "2024-05-30T15:38:00.386569Z",
     "start_time": "2024-05-30T15:38:00.377213Z"
    }
   },
   "cell_type": "code",
   "source": "PessoaFisica.pessoas.create(cpf='66666666666', nome='Coisa', sobrenome='Ruim', data_nascimento=date(2006, 6, 6))",
   "id": "9f78bc9e24dcd41",
   "outputs": [
    {
     "data": {
      "text/plain": [
       "66666666666"
      ]
     },
     "execution_count": 6,
     "metadata": {},
     "output_type": "execute_result"
    }
   ],
   "execution_count": 6
  },
  {
   "metadata": {},
   "cell_type": "markdown",
   "source": "Podemos resgatar `bindo` por meio da chave primária de `Pessoa`, por consequência também chave primária das subclasses de `Pessoa`, `codigo`. Todavia para `PessoaFisica` podemos chamá-la por `cpf` na criação e na edição `cpf` sempre é um campo annotado, além disso `cpf` possuí métodos getter e setter que modificam o `codigo`.",
   "id": "d32b9ef742c6b001"
  },
  {
   "metadata": {
    "ExecuteTime": {
     "end_time": "2024-05-30T15:38:00.400681Z",
     "start_time": "2024-05-30T15:38:00.387663Z"
    }
   },
   "cell_type": "code",
   "source": "pd.DataFrame(PessoaFisica.pessoas.simple().filter(cpf='11484174518'))",
   "id": "2838817624d0c6da",
   "outputs": [
    {
     "data": {
      "text/plain": [
       "      nome    sobrenome data_nascimento          cpf\n",
       "0  Eduardo  C. de Souza      2006-07-15  11484174518"
      ],
      "text/html": [
       "<div>\n",
       "<style scoped>\n",
       "    .dataframe tbody tr th:only-of-type {\n",
       "        vertical-align: middle;\n",
       "    }\n",
       "\n",
       "    .dataframe tbody tr th {\n",
       "        vertical-align: top;\n",
       "    }\n",
       "\n",
       "    .dataframe thead th {\n",
       "        text-align: right;\n",
       "    }\n",
       "</style>\n",
       "<table border=\"1\" class=\"dataframe\">\n",
       "  <thead>\n",
       "    <tr style=\"text-align: right;\">\n",
       "      <th></th>\n",
       "      <th>nome</th>\n",
       "      <th>sobrenome</th>\n",
       "      <th>data_nascimento</th>\n",
       "      <th>cpf</th>\n",
       "    </tr>\n",
       "  </thead>\n",
       "  <tbody>\n",
       "    <tr>\n",
       "      <th>0</th>\n",
       "      <td>Eduardo</td>\n",
       "      <td>C. de Souza</td>\n",
       "      <td>2006-07-15</td>\n",
       "      <td>11484174518</td>\n",
       "    </tr>\n",
       "  </tbody>\n",
       "</table>\n",
       "</div>"
      ]
     },
     "execution_count": 7,
     "metadata": {},
     "output_type": "execute_result"
    }
   ],
   "execution_count": 7
  },
  {
   "metadata": {
    "ExecuteTime": {
     "end_time": "2024-05-30T15:38:00.409161Z",
     "start_time": "2024-05-30T15:38:00.401689Z"
    }
   },
   "cell_type": "code",
   "source": "pd.DataFrame(PessoaFisica.pessoas.filter(cpf='11484174518').values())",
   "id": "751dae8f3fae9b36",
   "outputs": [
    {
     "data": {
      "text/plain": [
       "        codigo    pessoa_id     nome    sobrenome data_nascimento          cpf\n",
       "0  11484174518  11484174518  Eduardo  C. de Souza      2006-07-15  11484174518"
      ],
      "text/html": [
       "<div>\n",
       "<style scoped>\n",
       "    .dataframe tbody tr th:only-of-type {\n",
       "        vertical-align: middle;\n",
       "    }\n",
       "\n",
       "    .dataframe tbody tr th {\n",
       "        vertical-align: top;\n",
       "    }\n",
       "\n",
       "    .dataframe thead th {\n",
       "        text-align: right;\n",
       "    }\n",
       "</style>\n",
       "<table border=\"1\" class=\"dataframe\">\n",
       "  <thead>\n",
       "    <tr style=\"text-align: right;\">\n",
       "      <th></th>\n",
       "      <th>codigo</th>\n",
       "      <th>pessoa_id</th>\n",
       "      <th>nome</th>\n",
       "      <th>sobrenome</th>\n",
       "      <th>data_nascimento</th>\n",
       "      <th>cpf</th>\n",
       "    </tr>\n",
       "  </thead>\n",
       "  <tbody>\n",
       "    <tr>\n",
       "      <th>0</th>\n",
       "      <td>11484174518</td>\n",
       "      <td>11484174518</td>\n",
       "      <td>Eduardo</td>\n",
       "      <td>C. de Souza</td>\n",
       "      <td>2006-07-15</td>\n",
       "      <td>11484174518</td>\n",
       "    </tr>\n",
       "  </tbody>\n",
       "</table>\n",
       "</div>"
      ]
     },
     "execution_count": 8,
     "metadata": {},
     "output_type": "execute_result"
    }
   ],
   "execution_count": 8
  },
  {
   "metadata": {},
   "cell_type": "markdown",
   "source": "Note que o método `simple` pode ser util, mas não retorna a instância de pessoa física, além de perder outros campos de relacionamentos. Talvez seja, em alguns casos em que a eficiência deve ser priorizada, utilizar o método `only`.",
   "id": "f7a02a61a964ad23"
  },
  {
   "metadata": {
    "ExecuteTime": {
     "end_time": "2024-05-30T15:38:00.414730Z",
     "start_time": "2024-05-30T15:38:00.410170Z"
    }
   },
   "cell_type": "code",
   "source": "isinstance(PessoaFisica.pessoas.simple().filter(cpf='11484174518')[0], dict)",
   "id": "ae0194c5a5d6b369",
   "outputs": [
    {
     "data": {
      "text/plain": [
       "True"
      ]
     },
     "execution_count": 9,
     "metadata": {},
     "output_type": "execute_result"
    }
   ],
   "execution_count": 9
  },
  {
   "metadata": {
    "ExecuteTime": {
     "end_time": "2024-05-30T15:38:00.421021Z",
     "start_time": "2024-05-30T15:38:00.415738Z"
    }
   },
   "cell_type": "code",
   "source": "isinstance(PessoaFisica.pessoas.filter(cpf='11484174518')[0], PessoaFisica)",
   "id": "95b7aaf31c9777ce",
   "outputs": [
    {
     "data": {
      "text/plain": [
       "True"
      ]
     },
     "execution_count": 10,
     "metadata": {},
     "output_type": "execute_result"
    }
   ],
   "execution_count": 10
  },
  {
   "metadata": {},
   "cell_type": "markdown",
   "source": "Note que `codigo` é `editable=False`, logo não deve ser alterado, embora exista essa possibilidade. Caso altere `codigo` outra linha de `Pessoa` será criada, isso ocasionará erros imprevisíveis e assustadores.",
   "id": "38e27869413e7b87"
  },
  {
   "metadata": {},
   "cell_type": "markdown",
   "source": "Trabalhar com `PessoaJuridica` é análogo a trabalhar com `PessoaFisica`, exceto que o codinome de `codigo` é `cnpj` e não possuí o campo `data_nascimento`, obviamente a verificação do `codigo` verifica se é um `cnpj` válido. Portanto, não será detalhado.",
   "id": "babb58de0243dc62"
  },
  {
   "metadata": {},
   "cell_type": "markdown",
   "source": [
    "## UsuarioGenerico\n",
    "\n",
    "O `UsuarioGenerico` estabelece uma relação com `PessoaUsuario` que define o escopo do usuário. De forma simplória, uma `Pessoa` pode estar associada a vários usuários, enquanto um usuário está associado a somente uma pessoa, pois o usuário pode existir em diferentes escopos sob mesmo `codigo`, ou seja, sendo a mesma `Pessoa`. No entanto, não é recomendado usar `UsuarioGenerico` em sua forma pura, mas sim com um proxy. O usuário que é uma pessoa jurídica deve usar `UsuarioGenericoPessoJuridica` e o que é uma pessoa física `UsuarioGenericoPessoaFisica`. Esses proxys visam simular a herança de pessoa, embora ela não exista, de modo a simplificar o trabalho."
   ],
   "id": "6dc240290a83b60d"
  },
  {
   "metadata": {},
   "cell_type": "markdown",
   "source": [
    "### Da criação de novos usuários\n",
    "\n",
    "A criação de novos usuários será pelas classes proxy de `UsuarioGenericoPessoaFisica` ou `UsuarioGenericoPessoaJuridica`, é altamente recomendado o uso do método `criar_usuario` e `criar_superusuario`, alternativamente é possível usar o builder. Isso quando feito em código, quando usando o form, deve herdar dos forms que serão feitos no common.\n",
    "\n",
    "Tanto no `criar_usuario` como como será no form, a senha é haseada e os dados inseridos validados. Portanto, não utilize métodos alternativos e mandrakes para a criação de usuários, pois eles podem não ser validados ou salvar a senha bruta, ambos seriam péssimos."
   ],
   "id": "9356598e6b532c96"
  },
  {
   "metadata": {
    "ExecuteTime": {
     "end_time": "2024-05-30T15:38:00.750936Z",
     "start_time": "2024-05-30T15:38:00.422095Z"
    }
   },
   "cell_type": "code",
   "source": [
    "escocesa_ltda = UsuarioGenericoPessoaJuridica.usuarios.criar_usuario(\n",
    "    cnpj='12911507000186',\n",
    "    password='espelho',\n",
    "    email='mr@gmail.com',\n",
    "    telefone='31984735439',\n",
    "    razao_social='Escocia LTDA',\n",
    "    nome_fantasia='Escocesa Especular'\n",
    ")"
   ],
   "id": "67efae257fbb0f09",
   "outputs": [],
   "execution_count": 11
  },
  {
   "metadata": {},
   "cell_type": "markdown",
   "source": "Ou",
   "id": "4ee3f77cb336e786"
  },
  {
   "metadata": {
    "ExecuteTime": {
     "end_time": "2024-05-30T15:38:01.108098Z",
     "start_time": "2024-05-30T15:38:00.751996Z"
    }
   },
   "cell_type": "code",
   "source": [
    "builder = UsuarioGenericoPessoaJuridica.usuarios.create_builder()\n",
    "builder.cnpj = '43694255431512'\n",
    "builder.password = 'bingos'\n",
    "builder.email = 'algum@gmail.com'\n",
    "builder.telefone = '32984735439'\n",
    "builder.razao_social = 'Bingos Dingos LTDA'\n",
    "builder.nome_fantasia = 'Bingos o Dingo'\n",
    "bingos_dingos = builder.build_usuario()"
   ],
   "id": "6c8f12562f549a0",
   "outputs": [],
   "execution_count": 12
  },
  {
   "metadata": {},
   "cell_type": "markdown",
   "source": "Criando um escopo para um grupo de usuários",
   "id": "9648d4639b84232c"
  },
  {
   "metadata": {
    "ExecuteTime": {
     "end_time": "2024-05-30T15:38:01.112114Z",
     "start_time": "2024-05-30T15:38:01.109105Z"
    }
   },
   "cell_type": "code",
   "source": "from scope_auth.models import Scope",
   "id": "3144cc423c0536fd",
   "outputs": [],
   "execution_count": 13
  },
  {
   "metadata": {
    "ExecuteTime": {
     "end_time": "2024-05-30T15:38:01.117961Z",
     "start_time": "2024-05-30T15:38:01.114653Z"
    }
   },
   "cell_type": "code",
   "source": "outro_escopo = Scope.scopes.create()",
   "id": "2e0c63702a9287d3",
   "outputs": [],
   "execution_count": 14
  },
  {
   "metadata": {
    "ExecuteTime": {
     "end_time": "2024-05-30T15:38:01.473748Z",
     "start_time": "2024-05-30T15:38:01.118973Z"
    }
   },
   "cell_type": "code",
   "source": [
    "bindo = UsuarioGenericoPessoaFisica.usuarios.criar_usuario(\n",
    "    cpf='51283834235',\n",
    "    scope=outro_escopo,\n",
    "    password='bingosdingos@1234',\n",
    "    email='bindo@gmail.com',\n",
    "    telefone='32999781209',\n",
    "    nome='Bindo',\n",
    "    sobrenome='Dingo'\n",
    ")"
   ],
   "id": "9f247943fe57a7f9",
   "outputs": [],
   "execution_count": 15
  },
  {
   "metadata": {},
   "cell_type": "markdown",
   "source": "Alterando o usuário `bindo`, modificando os dados de pessoa e os dados de usuário utilizando o proxy",
   "id": "9dc155dec62ef006"
  },
  {
   "metadata": {
    "ExecuteTime": {
     "end_time": "2024-05-30T15:38:01.480366Z",
     "start_time": "2024-05-30T15:38:01.474761Z"
    }
   },
   "cell_type": "code",
   "source": [
    "bindo.nome = 'Bingo'\n",
    "bindo.email = 'dem@hotmail.com'\n",
    "bindo.save()"
   ],
   "id": "ac63cb6f6273c6a5",
   "outputs": [],
   "execution_count": 16
  },
  {
   "metadata": {},
   "cell_type": "markdown",
   "source": "Somente criando outro usuário em mais um escopo",
   "id": "b8e6b5b8cdf6154b"
  },
  {
   "metadata": {
    "ExecuteTime": {
     "end_time": "2024-05-30T15:38:01.824219Z",
     "start_time": "2024-05-30T15:38:01.481424Z"
    }
   },
   "cell_type": "code",
   "source": [
    "mais_um_escopo = Scope.scopes.create()\n",
    "\n",
    "coringa = UsuarioGenericoPessoaFisica.usuarios.criar_usuario(\n",
    "    cpf='37705858797',\n",
    "    scope=mais_um_escopo,\n",
    "    password='senha$#$doiasdf2345',\n",
    "    email='coringa@gmail.com',\n",
    "    telefone='32999781209',\n",
    "    nome='Coringa',\n",
    "    sobrenome=', O Brincalhão'\n",
    ")"
   ],
   "id": "7201d7ebc7af7faa",
   "outputs": [],
   "execution_count": 17
  },
  {
   "metadata": {},
   "cell_type": "markdown",
   "source": [
    "### Resgatando usuários do banco de dados\n",
    "\n",
    "Ao resgatar usuários do banco de dados nem sempre será possível recuperá-lo como instância de um dos `proxy`, ou não será possível recuperar um queryset dessa maneira. Portanto, mostraremos como resgatar os dados pelos `proxy` e como realizar a coerção de um queryset da classe base ou de uma instância da classe base para os proxys."
   ],
   "id": "381b49cb18abdf6a"
  },
  {
   "metadata": {},
   "cell_type": "markdown",
   "source": [
    "É importante saber que os proxys já filtram pelos usuários de pessoa física e de pessoa jurídica.\n",
    "\n",
    "Os campos de pessoa física e pessoa jurídica são anotados no queryset logo após ser criado, os campos de scope e pessoa são anotados nas superclasses. Também são fornecidas properties e setters para membros de pessoa. Os métodos de `clean` e `save` chamam tambem os de pessoa e pessoa_usuario, conforme em:\n",
    "\n",
    "```python\n",
    "bindo.nome = 'Bingo'\n",
    "bindo.email = 'dem@hotmail.com'\n",
    "bindo.save()\n",
    "```"
   ],
   "id": "cbeeb3744d3035ea"
  },
  {
   "metadata": {
    "ExecuteTime": {
     "end_time": "2024-05-30T15:38:01.838775Z",
     "start_time": "2024-05-30T15:38:01.824732Z"
    }
   },
   "cell_type": "code",
   "source": "pd.DataFrame(UsuarioGenericoPessoaJuridica.usuarios.simple())",
   "id": "1b8d1fad5ce1d901",
   "outputs": [
    {
     "data": {
      "text/plain": [
       "      telefone                      email  scope                 razao_social  \\\n",
       "0  32999781209  sistemalojasaas@gmail.com      1  Sistema Loja SaaS CEFET INF   \n",
       "1         None             bilu@gmail.com      1                    Bilu LTDA   \n",
       "2  31984735439               mr@gmail.com      1                 Escocia LTDA   \n",
       "3  32984735439            algum@gmail.com      1           Bingos Dingos LTDA   \n",
       "\n",
       "        nome_fantasia            cnpj  \n",
       "0   Sistema Loja SaaS  97456911807888  \n",
       "1        Bilu vendass  34561499177486  \n",
       "2  Escocesa Especular  12911507000186  \n",
       "3      Bingos o Dingo  43694255431512  "
      ],
      "text/html": [
       "<div>\n",
       "<style scoped>\n",
       "    .dataframe tbody tr th:only-of-type {\n",
       "        vertical-align: middle;\n",
       "    }\n",
       "\n",
       "    .dataframe tbody tr th {\n",
       "        vertical-align: top;\n",
       "    }\n",
       "\n",
       "    .dataframe thead th {\n",
       "        text-align: right;\n",
       "    }\n",
       "</style>\n",
       "<table border=\"1\" class=\"dataframe\">\n",
       "  <thead>\n",
       "    <tr style=\"text-align: right;\">\n",
       "      <th></th>\n",
       "      <th>telefone</th>\n",
       "      <th>email</th>\n",
       "      <th>scope</th>\n",
       "      <th>razao_social</th>\n",
       "      <th>nome_fantasia</th>\n",
       "      <th>cnpj</th>\n",
       "    </tr>\n",
       "  </thead>\n",
       "  <tbody>\n",
       "    <tr>\n",
       "      <th>0</th>\n",
       "      <td>32999781209</td>\n",
       "      <td>sistemalojasaas@gmail.com</td>\n",
       "      <td>1</td>\n",
       "      <td>Sistema Loja SaaS CEFET INF</td>\n",
       "      <td>Sistema Loja SaaS</td>\n",
       "      <td>97456911807888</td>\n",
       "    </tr>\n",
       "    <tr>\n",
       "      <th>1</th>\n",
       "      <td>None</td>\n",
       "      <td>bilu@gmail.com</td>\n",
       "      <td>1</td>\n",
       "      <td>Bilu LTDA</td>\n",
       "      <td>Bilu vendass</td>\n",
       "      <td>34561499177486</td>\n",
       "    </tr>\n",
       "    <tr>\n",
       "      <th>2</th>\n",
       "      <td>31984735439</td>\n",
       "      <td>mr@gmail.com</td>\n",
       "      <td>1</td>\n",
       "      <td>Escocia LTDA</td>\n",
       "      <td>Escocesa Especular</td>\n",
       "      <td>12911507000186</td>\n",
       "    </tr>\n",
       "    <tr>\n",
       "      <th>3</th>\n",
       "      <td>32984735439</td>\n",
       "      <td>algum@gmail.com</td>\n",
       "      <td>1</td>\n",
       "      <td>Bingos Dingos LTDA</td>\n",
       "      <td>Bingos o Dingo</td>\n",
       "      <td>43694255431512</td>\n",
       "    </tr>\n",
       "  </tbody>\n",
       "</table>\n",
       "</div>"
      ]
     },
     "execution_count": 18,
     "metadata": {},
     "output_type": "execute_result"
    }
   ],
   "execution_count": 18
  },
  {
   "metadata": {},
   "cell_type": "markdown",
   "source": "Filtrando por escopo",
   "id": "9c2a062418c6d25c"
  },
  {
   "metadata": {
    "ExecuteTime": {
     "end_time": "2024-05-30T15:38:01.855953Z",
     "start_time": "2024-05-30T15:38:01.838775Z"
    }
   },
   "cell_type": "code",
   "source": "pd.DataFrame(UsuarioGenericoPessoa.usuarios.filter(scope=outro_escopo).values())",
   "id": "deac49434026f7c5",
   "outputs": [
    {
     "data": {
      "text/plain": [
       "   id                                           password last_login  \\\n",
       "0   5  pbkdf2_sha256$720000$T4TGZWhzyTaVSeRJX3aLZ3$wd...       None   \n",
       "\n",
       "   is_superuser  is_staff  is_active                      date_joined  \\\n",
       "0         False     False       True 2024-05-30 15:38:01.125103+00:00   \n",
       "\n",
       "   pessoa_usuario_id     telefone            email       codigo  scope  \\\n",
       "0                  6  32999781209  dem@hotmail.com  51283834235      3   \n",
       "\n",
       "        pessoa  \n",
       "0  51283834235  "
      ],
      "text/html": [
       "<div>\n",
       "<style scoped>\n",
       "    .dataframe tbody tr th:only-of-type {\n",
       "        vertical-align: middle;\n",
       "    }\n",
       "\n",
       "    .dataframe tbody tr th {\n",
       "        vertical-align: top;\n",
       "    }\n",
       "\n",
       "    .dataframe thead th {\n",
       "        text-align: right;\n",
       "    }\n",
       "</style>\n",
       "<table border=\"1\" class=\"dataframe\">\n",
       "  <thead>\n",
       "    <tr style=\"text-align: right;\">\n",
       "      <th></th>\n",
       "      <th>id</th>\n",
       "      <th>password</th>\n",
       "      <th>last_login</th>\n",
       "      <th>is_superuser</th>\n",
       "      <th>is_staff</th>\n",
       "      <th>is_active</th>\n",
       "      <th>date_joined</th>\n",
       "      <th>pessoa_usuario_id</th>\n",
       "      <th>telefone</th>\n",
       "      <th>email</th>\n",
       "      <th>codigo</th>\n",
       "      <th>scope</th>\n",
       "      <th>pessoa</th>\n",
       "    </tr>\n",
       "  </thead>\n",
       "  <tbody>\n",
       "    <tr>\n",
       "      <th>0</th>\n",
       "      <td>5</td>\n",
       "      <td>pbkdf2_sha256$720000$T4TGZWhzyTaVSeRJX3aLZ3$wd...</td>\n",
       "      <td>None</td>\n",
       "      <td>False</td>\n",
       "      <td>False</td>\n",
       "      <td>True</td>\n",
       "      <td>2024-05-30 15:38:01.125103+00:00</td>\n",
       "      <td>6</td>\n",
       "      <td>32999781209</td>\n",
       "      <td>dem@hotmail.com</td>\n",
       "      <td>51283834235</td>\n",
       "      <td>3</td>\n",
       "      <td>51283834235</td>\n",
       "    </tr>\n",
       "  </tbody>\n",
       "</table>\n",
       "</div>"
      ]
     },
     "execution_count": 19,
     "metadata": {},
     "output_type": "execute_result"
    }
   ],
   "execution_count": 19
  },
  {
   "metadata": {},
   "cell_type": "markdown",
   "source": "Pegando uma instância por `cnpj` e `scope`",
   "id": "2c17a7eefb3de7ce"
  },
  {
   "metadata": {
    "ExecuteTime": {
     "end_time": "2024-05-30T15:38:01.865086Z",
     "start_time": "2024-05-30T15:38:01.855953Z"
    }
   },
   "cell_type": "code",
   "source": "UsuarioGenericoPessoaJuridica.usuarios.get(cnpj='43694255431512', scope=Scope.scopes.default_scope()).__dict__",
   "id": "d4edf34227d8d30a",
   "outputs": [
    {
     "data": {
      "text/plain": [
       "{'_state': <django.db.models.base.ModelState at 0x283875226f0>,\n",
       " 'id': 4,\n",
       " 'password': 'pbkdf2_sha256$720000$jMeYtGrV3oF0E4GCKiwucC$1CkoOgoAI5LoEyFKKSt2ZN80ryRucgpj+DVpdGpyDHY=',\n",
       " 'last_login': None,\n",
       " 'is_superuser': False,\n",
       " 'is_staff': False,\n",
       " 'is_active': True,\n",
       " 'date_joined': datetime.datetime(2024, 5, 30, 15, 38, 0, 758007, tzinfo=datetime.timezone.utc),\n",
       " 'pessoa_usuario_id': 5,\n",
       " 'telefone': '32984735439',\n",
       " 'email': 'algum@gmail.com'}"
      ]
     },
     "execution_count": 20,
     "metadata": {},
     "output_type": "execute_result"
    }
   ],
   "execution_count": 20
  },
  {
   "metadata": {},
   "cell_type": "markdown",
   "source": "Imagine você tem um queryset de `UsuarioGenerico` mas não te interessam as pessoas jurídicas, somente as físicas. Todavia, para punir os que tentaram burlar o sistema, você quer saber quais são as pessoas jurídicas que estavam no queryset e não deveriam estar ali.",
   "id": "22314282ce53f9b"
  },
  {
   "metadata": {
    "ExecuteTime": {
     "end_time": "2024-05-30T15:38:01.868551Z",
     "start_time": "2024-05-30T15:38:01.866099Z"
    }
   },
   "cell_type": "code",
   "source": "qs = UsuarioGenerico.usuarios.all()",
   "id": "2eb3c220a6eecd87",
   "outputs": [],
   "execution_count": 21
  },
  {
   "metadata": {
    "ExecuteTime": {
     "end_time": "2024-05-30T15:38:01.878918Z",
     "start_time": "2024-05-30T15:38:01.868551Z"
    }
   },
   "cell_type": "code",
   "source": [
    "pessoas_fisicas = qs.as_usuarios_pessoa_fisica()\n",
    "pd.DataFrame(pessoas_fisicas.simple())"
   ],
   "id": "fc5f0c90735cf471",
   "outputs": [
    {
     "data": {
      "text/plain": [
       "      telefone              email  scope     nome       sobrenome  \\\n",
       "0  32999781209    dem@hotmail.com      3    Bingo           Dingo   \n",
       "1  32999781209  coringa@gmail.com      4  Coringa  , O Brincalhão   \n",
       "\n",
       "  data_nascimento          cpf  \n",
       "0            None  51283834235  \n",
       "1            None  37705858797  "
      ],
      "text/html": [
       "<div>\n",
       "<style scoped>\n",
       "    .dataframe tbody tr th:only-of-type {\n",
       "        vertical-align: middle;\n",
       "    }\n",
       "\n",
       "    .dataframe tbody tr th {\n",
       "        vertical-align: top;\n",
       "    }\n",
       "\n",
       "    .dataframe thead th {\n",
       "        text-align: right;\n",
       "    }\n",
       "</style>\n",
       "<table border=\"1\" class=\"dataframe\">\n",
       "  <thead>\n",
       "    <tr style=\"text-align: right;\">\n",
       "      <th></th>\n",
       "      <th>telefone</th>\n",
       "      <th>email</th>\n",
       "      <th>scope</th>\n",
       "      <th>nome</th>\n",
       "      <th>sobrenome</th>\n",
       "      <th>data_nascimento</th>\n",
       "      <th>cpf</th>\n",
       "    </tr>\n",
       "  </thead>\n",
       "  <tbody>\n",
       "    <tr>\n",
       "      <th>0</th>\n",
       "      <td>32999781209</td>\n",
       "      <td>dem@hotmail.com</td>\n",
       "      <td>3</td>\n",
       "      <td>Bingo</td>\n",
       "      <td>Dingo</td>\n",
       "      <td>None</td>\n",
       "      <td>51283834235</td>\n",
       "    </tr>\n",
       "    <tr>\n",
       "      <th>1</th>\n",
       "      <td>32999781209</td>\n",
       "      <td>coringa@gmail.com</td>\n",
       "      <td>4</td>\n",
       "      <td>Coringa</td>\n",
       "      <td>, O Brincalhão</td>\n",
       "      <td>None</td>\n",
       "      <td>37705858797</td>\n",
       "    </tr>\n",
       "  </tbody>\n",
       "</table>\n",
       "</div>"
      ]
     },
     "execution_count": 22,
     "metadata": {},
     "output_type": "execute_result"
    }
   ],
   "execution_count": 22
  },
  {
   "metadata": {
    "ExecuteTime": {
     "end_time": "2024-05-30T15:38:01.888921Z",
     "start_time": "2024-05-30T15:38:01.879930Z"
    }
   },
   "cell_type": "code",
   "source": [
    "pessoas_juridicas = qs.as_usuarios_pessoa_juridica()\n",
    "pd.DataFrame(pessoas_juridicas.simple())"
   ],
   "id": "4d950ffa18544ebd",
   "outputs": [
    {
     "data": {
      "text/plain": [
       "      telefone                      email  scope                 razao_social  \\\n",
       "0  32999781209  sistemalojasaas@gmail.com      1  Sistema Loja SaaS CEFET INF   \n",
       "1         None             bilu@gmail.com      1                    Bilu LTDA   \n",
       "2  31984735439               mr@gmail.com      1                 Escocia LTDA   \n",
       "3  32984735439            algum@gmail.com      1           Bingos Dingos LTDA   \n",
       "\n",
       "        nome_fantasia            cnpj  \n",
       "0   Sistema Loja SaaS  97456911807888  \n",
       "1        Bilu vendass  34561499177486  \n",
       "2  Escocesa Especular  12911507000186  \n",
       "3      Bingos o Dingo  43694255431512  "
      ],
      "text/html": [
       "<div>\n",
       "<style scoped>\n",
       "    .dataframe tbody tr th:only-of-type {\n",
       "        vertical-align: middle;\n",
       "    }\n",
       "\n",
       "    .dataframe tbody tr th {\n",
       "        vertical-align: top;\n",
       "    }\n",
       "\n",
       "    .dataframe thead th {\n",
       "        text-align: right;\n",
       "    }\n",
       "</style>\n",
       "<table border=\"1\" class=\"dataframe\">\n",
       "  <thead>\n",
       "    <tr style=\"text-align: right;\">\n",
       "      <th></th>\n",
       "      <th>telefone</th>\n",
       "      <th>email</th>\n",
       "      <th>scope</th>\n",
       "      <th>razao_social</th>\n",
       "      <th>nome_fantasia</th>\n",
       "      <th>cnpj</th>\n",
       "    </tr>\n",
       "  </thead>\n",
       "  <tbody>\n",
       "    <tr>\n",
       "      <th>0</th>\n",
       "      <td>32999781209</td>\n",
       "      <td>sistemalojasaas@gmail.com</td>\n",
       "      <td>1</td>\n",
       "      <td>Sistema Loja SaaS CEFET INF</td>\n",
       "      <td>Sistema Loja SaaS</td>\n",
       "      <td>97456911807888</td>\n",
       "    </tr>\n",
       "    <tr>\n",
       "      <th>1</th>\n",
       "      <td>None</td>\n",
       "      <td>bilu@gmail.com</td>\n",
       "      <td>1</td>\n",
       "      <td>Bilu LTDA</td>\n",
       "      <td>Bilu vendass</td>\n",
       "      <td>34561499177486</td>\n",
       "    </tr>\n",
       "    <tr>\n",
       "      <th>2</th>\n",
       "      <td>31984735439</td>\n",
       "      <td>mr@gmail.com</td>\n",
       "      <td>1</td>\n",
       "      <td>Escocia LTDA</td>\n",
       "      <td>Escocesa Especular</td>\n",
       "      <td>12911507000186</td>\n",
       "    </tr>\n",
       "    <tr>\n",
       "      <th>3</th>\n",
       "      <td>32984735439</td>\n",
       "      <td>algum@gmail.com</td>\n",
       "      <td>1</td>\n",
       "      <td>Bingos Dingos LTDA</td>\n",
       "      <td>Bingos o Dingo</td>\n",
       "      <td>43694255431512</td>\n",
       "    </tr>\n",
       "  </tbody>\n",
       "</table>\n",
       "</div>"
      ]
     },
     "execution_count": 23,
     "metadata": {},
     "output_type": "execute_result"
    }
   ],
   "execution_count": 23
  },
  {
   "metadata": {},
   "cell_type": "markdown",
   "source": "Alternativamente",
   "id": "d72512876f90d3c1"
  },
  {
   "metadata": {
    "ExecuteTime": {
     "end_time": "2024-05-30T15:38:01.899461Z",
     "start_time": "2024-05-30T15:38:01.890044Z"
    }
   },
   "cell_type": "code",
   "source": [
    "pessoas_fisicas = UsuarioGenericoPessoaFisica.usuarios.from_usuarios_queryset(qs)\n",
    "pd.DataFrame(pessoas_fisicas.simple())"
   ],
   "id": "6a11ab461acfd469",
   "outputs": [
    {
     "data": {
      "text/plain": [
       "      telefone              email  scope     nome       sobrenome  \\\n",
       "0  32999781209    dem@hotmail.com      3    Bingo           Dingo   \n",
       "1  32999781209  coringa@gmail.com      4  Coringa  , O Brincalhão   \n",
       "\n",
       "  data_nascimento          cpf  \n",
       "0            None  51283834235  \n",
       "1            None  37705858797  "
      ],
      "text/html": [
       "<div>\n",
       "<style scoped>\n",
       "    .dataframe tbody tr th:only-of-type {\n",
       "        vertical-align: middle;\n",
       "    }\n",
       "\n",
       "    .dataframe tbody tr th {\n",
       "        vertical-align: top;\n",
       "    }\n",
       "\n",
       "    .dataframe thead th {\n",
       "        text-align: right;\n",
       "    }\n",
       "</style>\n",
       "<table border=\"1\" class=\"dataframe\">\n",
       "  <thead>\n",
       "    <tr style=\"text-align: right;\">\n",
       "      <th></th>\n",
       "      <th>telefone</th>\n",
       "      <th>email</th>\n",
       "      <th>scope</th>\n",
       "      <th>nome</th>\n",
       "      <th>sobrenome</th>\n",
       "      <th>data_nascimento</th>\n",
       "      <th>cpf</th>\n",
       "    </tr>\n",
       "  </thead>\n",
       "  <tbody>\n",
       "    <tr>\n",
       "      <th>0</th>\n",
       "      <td>32999781209</td>\n",
       "      <td>dem@hotmail.com</td>\n",
       "      <td>3</td>\n",
       "      <td>Bingo</td>\n",
       "      <td>Dingo</td>\n",
       "      <td>None</td>\n",
       "      <td>51283834235</td>\n",
       "    </tr>\n",
       "    <tr>\n",
       "      <th>1</th>\n",
       "      <td>32999781209</td>\n",
       "      <td>coringa@gmail.com</td>\n",
       "      <td>4</td>\n",
       "      <td>Coringa</td>\n",
       "      <td>, O Brincalhão</td>\n",
       "      <td>None</td>\n",
       "      <td>37705858797</td>\n",
       "    </tr>\n",
       "  </tbody>\n",
       "</table>\n",
       "</div>"
      ]
     },
     "execution_count": 24,
     "metadata": {},
     "output_type": "execute_result"
    }
   ],
   "execution_count": 24
  },
  {
   "metadata": {
    "ExecuteTime": {
     "end_time": "2024-05-30T15:38:01.905943Z",
     "start_time": "2024-05-30T15:38:01.900470Z"
    }
   },
   "cell_type": "code",
   "source": [
    "try:\n",
    "    print(qs[0].as_usuario_pessoa_fisica())\n",
    "except TypeError as e:\n",
    "    print(e)"
   ],
   "id": "ae3ef8caa8b2f58d",
   "outputs": [
    {
     "name": "stdout",
     "output_type": "stream",
     "text": [
      "O usuário não pode ser convertido pois a pessoa 97456911807888 não é uma pessoa física.\n"
     ]
    }
   ],
   "execution_count": 25
  },
  {
   "metadata": {
    "ExecuteTime": {
     "end_time": "2024-05-30T15:38:01.913423Z",
     "start_time": "2024-05-30T15:38:01.906953Z"
    }
   },
   "cell_type": "code",
   "source": [
    "try:\n",
    "    print(qs[0].as_usuario_pessoa_juridica())\n",
    "except TypeError as e:\n",
    "    print(e)"
   ],
   "id": "13603b24043f0d3b",
   "outputs": [
    {
     "name": "stdout",
     "output_type": "stream",
     "text": [
      "<UsuarioGenerico: {codigo=97456911807888, scope=Scope object (1)}>\n"
     ]
    }
   ],
   "execution_count": 26
  },
  {
   "metadata": {},
   "cell_type": "markdown",
   "source": "Basicamente isso exemplifica como trabalhar com um usuário. Em caso de herança o manager e queryset também deverão ser herdados.",
   "id": "5ec7b5f5d9a6096"
  }
 ],
 "metadata": {
  "kernelspec": {
   "display_name": "Python 3",
   "language": "python",
   "name": "python3"
  },
  "language_info": {
   "codemirror_mode": {
    "name": "ipython",
    "version": 2
   },
   "file_extension": ".py",
   "mimetype": "text/x-python",
   "name": "python",
   "nbconvert_exporter": "python",
   "pygments_lexer": "ipython2",
   "version": "2.7.6"
  }
 },
 "nbformat": 4,
 "nbformat_minor": 5
}
