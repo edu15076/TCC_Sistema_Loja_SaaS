{
 "cells": [
  {
   "metadata": {
    "ExecuteTime": {
     "end_time": "2024-07-16T21:55:06.280978Z",
     "start_time": "2024-07-16T21:55:05.905907Z"
    }
   },
   "cell_type": "code",
   "source": [
    "import sys\n",
    "\n",
    "from util.django import restart_django\n",
    "\n",
    "sys.path.append(\"../../src\")\n",
    "\n",
    "restart_django(imprimir_versoes=True)"
   ],
   "id": "initial_id",
   "outputs": [
    {
     "name": "stdout",
     "output_type": "stream",
     "text": [
      "Python 3.12.1 (tags/v3.12.1:2305ca5, Dec  7 2023, 22:03:25) [MSC v.1937 64 bit (AMD64)] on win32\n",
      "Django 5.0.4\n"
     ]
    }
   ],
   "execution_count": 1
  },
  {
   "metadata": {},
   "cell_type": "markdown",
   "source": "Esse notebook tem como objetivo exemplificar o uso das classes de pessoas e usuários do app common",
   "id": "404e38323ec17956"
  },
  {
   "metadata": {
    "ExecuteTime": {
     "end_time": "2024-07-16T21:55:06.647217Z",
     "start_time": "2024-07-16T21:55:06.282309Z"
    }
   },
   "cell_type": "code",
   "source": [
    "from common.models import *\n",
    "from datetime import date\n",
    "import pandas as pd\n",
    "from django.core.exceptions import ValidationError"
   ],
   "id": "bf689ea02ee1bfaf",
   "outputs": [],
   "execution_count": 2
  },
  {
   "metadata": {
    "ExecuteTime": {
     "end_time": "2024-07-16T21:55:06.650659Z",
     "start_time": "2024-07-16T21:55:06.648229Z"
    }
   },
   "cell_type": "code",
   "source": "",
   "id": "76d5c07e94d46b71",
   "outputs": [],
   "execution_count": 2
  },
  {
   "metadata": {},
   "cell_type": "markdown",
   "source": "## Pessoa",
   "id": "c01c89095e566e22"
  },
  {
   "metadata": {},
   "cell_type": "markdown",
   "source": [
    "Pessoa é uma classe abstrata, veremos ela sendo usada em conjunto com `UsuarioGenerico`. Ao criar um usuário é chamado o método `clean` de todas suas superclasses, inclusive de pessoa. Dessa maneira, o `cpf`, no caso da herança de `PessoaFisica`, é validado.\n",
    "\n",
    "Os campos de pessoa física são apresentados abaixo, dois quais se excluí apenas `password` que é atributo do usuário."
   ],
   "id": "e67edb88677e8d0"
  },
  {
   "metadata": {
    "ExecuteTime": {
     "end_time": "2024-07-16T21:55:07.040438Z",
     "start_time": "2024-07-16T21:55:06.651665Z"
    }
   },
   "cell_type": "code",
   "source": [
    "try:\n",
    "    bindo = UsuarioGenericoPessoaFisica.usuarios.criar_usuario(\n",
    "        cpf='11484174510',\n",
    "        password='bingosdingos@1234',\n",
    "        email='eduardocdesouza@gmail.com',\n",
    "        telefone='32999781208',\n",
    "        nome='Eduardo',\n",
    "        sobrenome='C. de Souza',\n",
    "        data_nascimento=date(2006, 7, 15),\n",
    "    )\n",
    "    print('bindo foi salvo no banco de dados')\n",
    "except ValidationError as e:\n",
    "    print(f'bindo não foi salvo pois: {e.args[0]}')"
   ],
   "id": "432a60c1b970fc3a",
   "outputs": [
    {
     "name": "stdout",
     "output_type": "stream",
     "text": [
      "bindo não foi salvo pois: {'codigo': [ValidationError(['CPF inválido'])]}\n"
     ]
    }
   ],
   "execution_count": 3
  },
  {
   "metadata": {
    "ExecuteTime": {
     "end_time": "2024-07-16T21:55:07.376058Z",
     "start_time": "2024-07-16T21:55:07.041452Z"
    }
   },
   "cell_type": "code",
   "source": [
    "try:\n",
    "    bindo = UsuarioGenericoPessoaFisica.usuarios.criar_usuario(\n",
    "        cpf='59247136170812',\n",
    "        password='bingosdingos@1234',\n",
    "        email='eduardocdesouza@gmail.com',\n",
    "        telefone='32999781208',\n",
    "        nome='Eduardo',\n",
    "        sobrenome='C. de Souza',\n",
    "        data_nascimento=date(2006, 7, 15),\n",
    "    )\n",
    "    print('bindo foi salvo no banco de dados')\n",
    "except ValidationError as e:\n",
    "    print(f'bindo não foi salvo pois: {e.args[0]}')"
   ],
   "id": "3ecd07dfd0e7c294",
   "outputs": [
    {
     "name": "stdout",
     "output_type": "stream",
     "text": [
      "bindo não foi salvo pois: {'__all__': [ValidationError(['O codigo de PessoaFisica deve ser um cpf'])]}\n"
     ]
    }
   ],
   "execution_count": 4
  },
  {
   "metadata": {
    "ExecuteTime": {
     "end_time": "2024-07-16T21:55:07.712429Z",
     "start_time": "2024-07-16T21:55:07.377067Z"
    }
   },
   "cell_type": "code",
   "source": [
    "try:\n",
    "    bindo = UsuarioGenericoPessoaFisica.usuarios.criar_usuario(\n",
    "        cpf='11484174518',\n",
    "        password='bingosdingos@1234',\n",
    "        email='eduardocdesouza@gmail.com',\n",
    "        telefone='32999781208',\n",
    "        nome='Eduardo',\n",
    "        sobrenome='C. de Souza',\n",
    "        data_nascimento=date(2006, 7, 15),\n",
    "    )\n",
    "    print('bindo foi salvo no banco de dados')\n",
    "except ValidationError as e:\n",
    "    print(f'bindo não foi salvo pois: {e.args[0]}')"
   ],
   "id": "c44937344852b4d3",
   "outputs": [
    {
     "name": "stdout",
     "output_type": "stream",
     "text": [
      "bindo foi salvo no banco de dados\n"
     ]
    }
   ],
   "execution_count": 5
  },
  {
   "metadata": {},
   "cell_type": "markdown",
   "source": "Não é possível ter dois usuários com o mesmo `cpf` em um mesmo escopo (o escopo assumido quando não é passado é o escopo padrão), conforme podemos ver abaixo:",
   "id": "386ee07faa1e563b"
  },
  {
   "metadata": {
    "ExecuteTime": {
     "end_time": "2024-07-16T21:55:07.717943Z",
     "start_time": "2024-07-16T21:55:07.712429Z"
    }
   },
   "cell_type": "code",
   "source": [
    "try:\n",
    "    hihihiha = UsuarioGenericoPessoaFisica.usuarios.criar_usuario(\n",
    "        cpf='11484174518',\n",
    "        password='nom@1234',\n",
    "        email='kainocah@gmail.com',\n",
    "        telefone='32999781205',\n",
    "        nome='Eduardo 3',\n",
    "        sobrenome='C. de S2ouza',\n",
    "        data_nascimento=date(2006, 7, 14),\n",
    "    )\n",
    "except Exception as e:\n",
    "    print(f'{type(e).__name__}: {e}')"
   ],
   "id": "6c75dd7e3594e351",
   "outputs": [
    {
     "name": "stdout",
     "output_type": "stream",
     "text": [
      "IntegrityError: duplicate key value violates unique constraint \"common_pessoausuario_codigo_scope_id_0d069aa4_uniq\"\n",
      "DETAIL:  Key (codigo, scope_id)=(11484174518, 1) already exists.\n",
      "\n"
     ]
    }
   ],
   "execution_count": 6
  },
  {
   "metadata": {},
   "cell_type": "markdown",
   "source": "Podemos resgatar usuários com o mesmo `cpf` filtrando pelo `cpf` da `PessoaFisica`, todavia o atributo `cpf` não existe de fato, mas é uma outra forma de acessar o atributo `codigo`, mais genérico de `Pessoa`, que também pode ser usado.",
   "id": "d32b9ef742c6b001"
  },
  {
   "metadata": {
    "ExecuteTime": {
     "end_time": "2024-07-16T21:55:07.732372Z",
     "start_time": "2024-07-16T21:55:07.717943Z"
    }
   },
   "cell_type": "code",
   "source": "pd.DataFrame(UsuarioGenericoPessoaFisica.usuarios.simple().filter(cpf='11484174518'))",
   "id": "2838817624d0c6da",
   "outputs": [
    {
     "data": {
      "text/plain": [
       "      telefone                      email     nome    sobrenome  \\\n",
       "0  32999781208  eduardocdesouza@gmail.com  Eduardo  C. de Souza   \n",
       "\n",
       "  data_nascimento  scope          cpf  \n",
       "0      2006-07-15      1  11484174518  "
      ],
      "text/html": [
       "<div>\n",
       "<style scoped>\n",
       "    .dataframe tbody tr th:only-of-type {\n",
       "        vertical-align: middle;\n",
       "    }\n",
       "\n",
       "    .dataframe tbody tr th {\n",
       "        vertical-align: top;\n",
       "    }\n",
       "\n",
       "    .dataframe thead th {\n",
       "        text-align: right;\n",
       "    }\n",
       "</style>\n",
       "<table border=\"1\" class=\"dataframe\">\n",
       "  <thead>\n",
       "    <tr style=\"text-align: right;\">\n",
       "      <th></th>\n",
       "      <th>telefone</th>\n",
       "      <th>email</th>\n",
       "      <th>nome</th>\n",
       "      <th>sobrenome</th>\n",
       "      <th>data_nascimento</th>\n",
       "      <th>scope</th>\n",
       "      <th>cpf</th>\n",
       "    </tr>\n",
       "  </thead>\n",
       "  <tbody>\n",
       "    <tr>\n",
       "      <th>0</th>\n",
       "      <td>32999781208</td>\n",
       "      <td>eduardocdesouza@gmail.com</td>\n",
       "      <td>Eduardo</td>\n",
       "      <td>C. de Souza</td>\n",
       "      <td>2006-07-15</td>\n",
       "      <td>1</td>\n",
       "      <td>11484174518</td>\n",
       "    </tr>\n",
       "  </tbody>\n",
       "</table>\n",
       "</div>"
      ]
     },
     "execution_count": 7,
     "metadata": {},
     "output_type": "execute_result"
    }
   ],
   "execution_count": 7
  },
  {
   "metadata": {
    "ExecuteTime": {
     "end_time": "2024-07-16T21:55:07.744055Z",
     "start_time": "2024-07-16T21:55:07.732372Z"
    }
   },
   "cell_type": "code",
   "source": "pd.DataFrame(UsuarioGenericoPessoaFisica.usuarios.filter(cpf='11484174518').values())",
   "id": "751dae8f3fae9b36",
   "outputs": [
    {
     "data": {
      "text/plain": [
       "                                            password last_login  is_superuser  \\\n",
       "0  pbkdf2_sha256$720000$MyhkVDNdeyOSxVj0Frjreo$+F...       None         False   \n",
       "\n",
       "   is_staff  is_active                      date_joined       codigo  \\\n",
       "0     False       True 2024-07-16 21:55:07.380072+00:00  11484174518   \n",
       "\n",
       "      telefone                      email  pessoa_usuario_id  \\\n",
       "0  32999781208  eduardocdesouza@gmail.com                  3   \n",
       "\n",
       "   usuariogenerico_ptr_id     nome    sobrenome data_nascimento          cpf  \\\n",
       "0                       3  Eduardo  C. de Souza      2006-07-15  11484174518   \n",
       "\n",
       "   scope  \n",
       "0      1  "
      ],
      "text/html": [
       "<div>\n",
       "<style scoped>\n",
       "    .dataframe tbody tr th:only-of-type {\n",
       "        vertical-align: middle;\n",
       "    }\n",
       "\n",
       "    .dataframe tbody tr th {\n",
       "        vertical-align: top;\n",
       "    }\n",
       "\n",
       "    .dataframe thead th {\n",
       "        text-align: right;\n",
       "    }\n",
       "</style>\n",
       "<table border=\"1\" class=\"dataframe\">\n",
       "  <thead>\n",
       "    <tr style=\"text-align: right;\">\n",
       "      <th></th>\n",
       "      <th>password</th>\n",
       "      <th>last_login</th>\n",
       "      <th>is_superuser</th>\n",
       "      <th>is_staff</th>\n",
       "      <th>is_active</th>\n",
       "      <th>date_joined</th>\n",
       "      <th>codigo</th>\n",
       "      <th>telefone</th>\n",
       "      <th>email</th>\n",
       "      <th>pessoa_usuario_id</th>\n",
       "      <th>usuariogenerico_ptr_id</th>\n",
       "      <th>nome</th>\n",
       "      <th>sobrenome</th>\n",
       "      <th>data_nascimento</th>\n",
       "      <th>cpf</th>\n",
       "      <th>scope</th>\n",
       "    </tr>\n",
       "  </thead>\n",
       "  <tbody>\n",
       "    <tr>\n",
       "      <th>0</th>\n",
       "      <td>pbkdf2_sha256$720000$MyhkVDNdeyOSxVj0Frjreo$+F...</td>\n",
       "      <td>None</td>\n",
       "      <td>False</td>\n",
       "      <td>False</td>\n",
       "      <td>True</td>\n",
       "      <td>2024-07-16 21:55:07.380072+00:00</td>\n",
       "      <td>11484174518</td>\n",
       "      <td>32999781208</td>\n",
       "      <td>eduardocdesouza@gmail.com</td>\n",
       "      <td>3</td>\n",
       "      <td>3</td>\n",
       "      <td>Eduardo</td>\n",
       "      <td>C. de Souza</td>\n",
       "      <td>2006-07-15</td>\n",
       "      <td>11484174518</td>\n",
       "      <td>1</td>\n",
       "    </tr>\n",
       "  </tbody>\n",
       "</table>\n",
       "</div>"
      ]
     },
     "execution_count": 8,
     "metadata": {},
     "output_type": "execute_result"
    }
   ],
   "execution_count": 8
  },
  {
   "metadata": {},
   "cell_type": "markdown",
   "source": "Note que o método `simple` pode ser util, mas não retorna a instância de pessoa física, além de perder outros campos de relacionamentos.",
   "id": "f7a02a61a964ad23"
  },
  {
   "metadata": {
    "ExecuteTime": {
     "end_time": "2024-07-16T21:55:07.749783Z",
     "start_time": "2024-07-16T21:55:07.745067Z"
    }
   },
   "cell_type": "code",
   "source": "isinstance(UsuarioGenericoPessoaFisica.usuarios.simple().filter(cpf='11484174518')[0], dict)",
   "id": "ae0194c5a5d6b369",
   "outputs": [
    {
     "data": {
      "text/plain": [
       "True"
      ]
     },
     "execution_count": 9,
     "metadata": {},
     "output_type": "execute_result"
    }
   ],
   "execution_count": 9
  },
  {
   "metadata": {
    "ExecuteTime": {
     "end_time": "2024-07-16T21:55:07.756610Z",
     "start_time": "2024-07-16T21:55:07.750798Z"
    }
   },
   "cell_type": "code",
   "source": "isinstance(UsuarioGenericoPessoaFisica.usuarios.filter(cpf='11484174518')[0], UsuarioGenericoPessoaFisica)",
   "id": "95b7aaf31c9777ce",
   "outputs": [
    {
     "data": {
      "text/plain": [
       "True"
      ]
     },
     "execution_count": 10,
     "metadata": {},
     "output_type": "execute_result"
    }
   ],
   "execution_count": 10
  },
  {
   "metadata": {},
   "cell_type": "markdown",
   "source": "Note que `codigo` é `editable=False`, logo não deve ser alterado, embora exista essa possibilidade. Caso altere `codigo` outra linha de `Pessoa` será criada, isso ocasionará erros imprevisíveis e assustadores.",
   "id": "38e27869413e7b87"
  },
  {
   "metadata": {},
   "cell_type": "markdown",
   "source": "Trabalhar com `PessoaJuridica` é análogo a trabalhar com `PessoaFisica`, exceto que o codinome de `codigo` é `cnpj` e não possuí o campo `data_nascimento`, obviamente a verificação do `codigo` verifica se é um `cnpj` válido. Portanto, não será detalhado.",
   "id": "babb58de0243dc62"
  },
  {
   "metadata": {},
   "cell_type": "markdown",
   "source": [
    "## UsuarioGenerico\n",
    "\n",
    "O `UsuarioGenerico` estabelece uma relação com `PessoaUsuario` que define o escopo do usuário e garante que existe somente um usuário com o mesmo `codigo` em cada escopo. De forma simplória, cada usuário é uma pessoa e está em um escopo e é a única pessoa com aquele código naquele escopo, o model `PessoaUsuario` serve como ferramenta para garantir isso, além de ser, no sentido do django, o username do usuário, estando em uma relação de 1 para 1, além de ser chave primária de `UsuarioGenerico`. A interface das classes que herdam de `UsuarioGenerico` não se faz prejudicada, no entanto, em relação às default do django. Apesar de não ser abstrata, a classe `UsuarioGenerico` não deve ter instâncias que não estejam associadas com uma de suas subclasses `UsuarioGenericoPessoaFisica` ou `UsuarioGenericoPessoJuridica`, o único motivo de não ser abstrata é a necessidade de definir uma classe não abstrata como sendo a de usuários nas configurações do django.\n",
    "\n",
    "As classes `UsuarioGenericoPessoaFisica` e `UsuarioGenericoPessoJuridica` herdam, respectivamente, de `PessoaFisica` e `PessoaJuridica`, além de `UsuarioGenericoPessoa` a qual ambas herdam. Por sua vez, `UsuarioGenericoPessoa` herda de `UsuarioGenericoSimple` que herda de `UsuarioGenerico`. Usuário genérico herda de `AbstractUsuarioGenerico` que herda de `AbstractUserPerScopeWithEmail` e de `Pessoa`. Dessa maneira temos uma estrutura em formato de diamante, todavia não encontramos problemas nessa estrutura pois `PessoaFisica` e `PessoaJuridica` herdam de `Pessoa` e todas as três são abstratas."
   ],
   "id": "6dc240290a83b60d"
  },
  {
   "metadata": {},
   "cell_type": "markdown",
   "source": [
    "### Da criação de novos usuários\n",
    "\n",
    "A criação de novos usuários será pelas classes `UsuarioGenericoPessoaFisica` ou `UsuarioGenericoPessoaJuridica`, é altamente recomendado o uso do método `criar_usuario` e `criar_superusuario`, alternativamente é possível usar o builder. Isso quando feito em código, quando usando o form, deve herdar dos forms que serão feitos no common.\n",
    "\n",
    "Tanto no `criar_usuario` como será no form, a senha é hasheada e os dados inseridos validados. Portanto, não utilize métodos alternativos e mandrakes para a criação de usuários, pois eles podem não ser validados ou salvar a senha bruta, ambos seriam péssimos."
   ],
   "id": "9356598e6b532c96"
  },
  {
   "metadata": {
    "ExecuteTime": {
     "end_time": "2024-07-16T21:55:08.101496Z",
     "start_time": "2024-07-16T21:55:07.756610Z"
    }
   },
   "cell_type": "code",
   "source": [
    "escocesa_ltda = UsuarioGenericoPessoaJuridica.usuarios.criar_usuario(\n",
    "    cnpj='12911507000186',\n",
    "    password='espelho',\n",
    "    email='mr@gmail.com',\n",
    "    telefone='31984735439',\n",
    "    razao_social='Escocia LTDA',\n",
    "    nome_fantasia='Escocesa Especular'\n",
    ")"
   ],
   "id": "67efae257fbb0f09",
   "outputs": [],
   "execution_count": 11
  },
  {
   "metadata": {},
   "cell_type": "markdown",
   "source": "Ou",
   "id": "4ee3f77cb336e786"
  },
  {
   "metadata": {
    "ExecuteTime": {
     "end_time": "2024-07-16T21:55:08.508118Z",
     "start_time": "2024-07-16T21:55:08.102010Z"
    }
   },
   "cell_type": "code",
   "source": [
    "builder = UsuarioGenericoPessoaJuridica.usuarios.create_builder()\n",
    "builder.cnpj = '43694255431512'\n",
    "builder.password = 'bingos'\n",
    "builder.email = 'algum@gmail.com'\n",
    "builder.telefone = '32984735439'\n",
    "builder.razao_social = 'Bingos Dingos LTDA'\n",
    "builder.nome_fantasia = 'Bingos o Dingo'\n",
    "bingos_dingos = builder.build_usuario()"
   ],
   "id": "6c8f12562f549a0",
   "outputs": [],
   "execution_count": 12
  },
  {
   "metadata": {},
   "cell_type": "markdown",
   "source": "Criando um escopo para um grupo de usuários",
   "id": "9648d4639b84232c"
  },
  {
   "metadata": {
    "ExecuteTime": {
     "end_time": "2024-07-16T21:55:08.514539Z",
     "start_time": "2024-07-16T21:55:08.511485Z"
    }
   },
   "cell_type": "code",
   "source": "from scope_auth.models import Scope",
   "id": "3144cc423c0536fd",
   "outputs": [],
   "execution_count": 13
  },
  {
   "metadata": {
    "ExecuteTime": {
     "end_time": "2024-07-16T21:55:08.519146Z",
     "start_time": "2024-07-16T21:55:08.514539Z"
    }
   },
   "cell_type": "code",
   "source": "outro_escopo = Scope.scopes.create()",
   "id": "2e0c63702a9287d3",
   "outputs": [],
   "execution_count": 14
  },
  {
   "metadata": {
    "ExecuteTime": {
     "end_time": "2024-07-16T21:55:08.891456Z",
     "start_time": "2024-07-16T21:55:08.520154Z"
    }
   },
   "cell_type": "code",
   "source": [
    "bindo = UsuarioGenericoPessoaFisica.usuarios.criar_usuario(\n",
    "    cpf='51283834235',\n",
    "    scope=outro_escopo,\n",
    "    password='bingosdingos@1234',\n",
    "    email='bindo@gmail.com',\n",
    "    telefone='32999781209',\n",
    "    nome='Bindo',\n",
    "    sobrenome='Dingo'\n",
    ")"
   ],
   "id": "9f247943fe57a7f9",
   "outputs": [],
   "execution_count": 15
  },
  {
   "metadata": {},
   "cell_type": "markdown",
   "source": "Alterando o usuário `bindo`, modificando os dados de pessoa e os dados de usuário",
   "id": "9dc155dec62ef006"
  },
  {
   "metadata": {
    "ExecuteTime": {
     "end_time": "2024-07-16T21:55:08.899353Z",
     "start_time": "2024-07-16T21:55:08.892464Z"
    }
   },
   "cell_type": "code",
   "source": [
    "bindo.nome = 'Bingo'\n",
    "bindo.email = 'dem@hotmail.com'\n",
    "bindo.save()"
   ],
   "id": "ac63cb6f6273c6a5",
   "outputs": [],
   "execution_count": 16
  },
  {
   "metadata": {},
   "cell_type": "markdown",
   "source": "Somente criando outro usuário em mais um escopo",
   "id": "b8e6b5b8cdf6154b"
  },
  {
   "metadata": {
    "ExecuteTime": {
     "end_time": "2024-07-16T21:55:09.246497Z",
     "start_time": "2024-07-16T21:55:08.900359Z"
    }
   },
   "cell_type": "code",
   "source": [
    "mais_um_escopo = Scope.scopes.create()\n",
    "\n",
    "coringa = UsuarioGenericoPessoaFisica.usuarios.criar_usuario(\n",
    "    cpf='37705858797',\n",
    "    scope=mais_um_escopo,\n",
    "    password='senha$#$doiasdf2345',\n",
    "    email='coringa@gmail.com',\n",
    "    telefone='32999781209',\n",
    "    nome='Coringa',\n",
    "    sobrenome=', O Brincalhão'\n",
    ")"
   ],
   "id": "7201d7ebc7af7faa",
   "outputs": [],
   "execution_count": 17
  },
  {
   "metadata": {},
   "cell_type": "markdown",
   "source": [
    "### Resgatando usuários do banco de dados\n",
    "\n",
    "Ao resgatar usuários do banco de dados nem sempre será possível recuperá-lo como instância de `UsuarioGenericoPessoaFisica` ou `UsuarioGenericoPessoJuridica`, ou não será possível recuperar um queryset dessa maneira. Portanto, mostraremos como resgatar os dados por essas classes e como realizar a coerção de um queryset da classe base ou de uma instância da classe base para as classes desejadas."
   ],
   "id": "381b49cb18abdf6a"
  },
  {
   "metadata": {},
   "cell_type": "markdown",
   "source": [
    "Os campos de `cpf` ou `cnpj` são anotados em todo query set, `scope` também é anotado. Também são fornecidas properties e setters para membros de pessoa. Os métodos de `clean` e `save` chamam tambem os de pessoa e pessoa_usuario, conforme em:\n",
    "\n",
    "```python\n",
    "bindo.nome = 'Bingo'\n",
    "bindo.email = 'dem@hotmail.com'\n",
    "bindo.save()\n",
    "```"
   ],
   "id": "cbeeb3744d3035ea"
  },
  {
   "metadata": {
    "ExecuteTime": {
     "end_time": "2024-07-16T21:55:09.255179Z",
     "start_time": "2024-07-16T21:55:09.247557Z"
    }
   },
   "cell_type": "code",
   "source": "pd.DataFrame(UsuarioGenericoPessoaJuridica.usuarios.simple())",
   "id": "1b8d1fad5ce1d901",
   "outputs": [
    {
     "data": {
      "text/plain": [
       "      telefone            email        razao_social       nome_fantasia  \\\n",
       "0  31984735439     mr@gmail.com        Escocia LTDA  Escocesa Especular   \n",
       "1  32984735439  algum@gmail.com  Bingos Dingos LTDA      Bingos o Dingo   \n",
       "\n",
       "   scope            cnpj  \n",
       "0      1  12911507000186  \n",
       "1      1  43694255431512  "
      ],
      "text/html": [
       "<div>\n",
       "<style scoped>\n",
       "    .dataframe tbody tr th:only-of-type {\n",
       "        vertical-align: middle;\n",
       "    }\n",
       "\n",
       "    .dataframe tbody tr th {\n",
       "        vertical-align: top;\n",
       "    }\n",
       "\n",
       "    .dataframe thead th {\n",
       "        text-align: right;\n",
       "    }\n",
       "</style>\n",
       "<table border=\"1\" class=\"dataframe\">\n",
       "  <thead>\n",
       "    <tr style=\"text-align: right;\">\n",
       "      <th></th>\n",
       "      <th>telefone</th>\n",
       "      <th>email</th>\n",
       "      <th>razao_social</th>\n",
       "      <th>nome_fantasia</th>\n",
       "      <th>scope</th>\n",
       "      <th>cnpj</th>\n",
       "    </tr>\n",
       "  </thead>\n",
       "  <tbody>\n",
       "    <tr>\n",
       "      <th>0</th>\n",
       "      <td>31984735439</td>\n",
       "      <td>mr@gmail.com</td>\n",
       "      <td>Escocia LTDA</td>\n",
       "      <td>Escocesa Especular</td>\n",
       "      <td>1</td>\n",
       "      <td>12911507000186</td>\n",
       "    </tr>\n",
       "    <tr>\n",
       "      <th>1</th>\n",
       "      <td>32984735439</td>\n",
       "      <td>algum@gmail.com</td>\n",
       "      <td>Bingos Dingos LTDA</td>\n",
       "      <td>Bingos o Dingo</td>\n",
       "      <td>1</td>\n",
       "      <td>43694255431512</td>\n",
       "    </tr>\n",
       "  </tbody>\n",
       "</table>\n",
       "</div>"
      ]
     },
     "execution_count": 18,
     "metadata": {},
     "output_type": "execute_result"
    }
   ],
   "execution_count": 18
  },
  {
   "metadata": {},
   "cell_type": "markdown",
   "source": "Filtrando por escopo",
   "id": "9c2a062418c6d25c"
  },
  {
   "metadata": {
    "ExecuteTime": {
     "end_time": "2024-07-16T21:55:09.265198Z",
     "start_time": "2024-07-16T21:55:09.256189Z"
    }
   },
   "cell_type": "code",
   "source": "pd.DataFrame(UsuarioGenericoPessoa.usuarios.filter(scope=outro_escopo).values())",
   "id": "deac49434026f7c5",
   "outputs": [
    {
     "data": {
      "text/plain": [
       "                                            password last_login  is_superuser  \\\n",
       "0  pbkdf2_sha256$720000$CaXwxDGu2rpZIpqWfCSRiK$Yw...       None         False   \n",
       "\n",
       "   is_staff  is_active                      date_joined       codigo  \\\n",
       "0     False       True 2024-07-16 21:55:08.523157+00:00  51283834235   \n",
       "\n",
       "      telefone            email  pessoa_usuario_id  scope  \n",
       "0  32999781209  dem@hotmail.com                  7      2  "
      ],
      "text/html": [
       "<div>\n",
       "<style scoped>\n",
       "    .dataframe tbody tr th:only-of-type {\n",
       "        vertical-align: middle;\n",
       "    }\n",
       "\n",
       "    .dataframe tbody tr th {\n",
       "        vertical-align: top;\n",
       "    }\n",
       "\n",
       "    .dataframe thead th {\n",
       "        text-align: right;\n",
       "    }\n",
       "</style>\n",
       "<table border=\"1\" class=\"dataframe\">\n",
       "  <thead>\n",
       "    <tr style=\"text-align: right;\">\n",
       "      <th></th>\n",
       "      <th>password</th>\n",
       "      <th>last_login</th>\n",
       "      <th>is_superuser</th>\n",
       "      <th>is_staff</th>\n",
       "      <th>is_active</th>\n",
       "      <th>date_joined</th>\n",
       "      <th>codigo</th>\n",
       "      <th>telefone</th>\n",
       "      <th>email</th>\n",
       "      <th>pessoa_usuario_id</th>\n",
       "      <th>scope</th>\n",
       "    </tr>\n",
       "  </thead>\n",
       "  <tbody>\n",
       "    <tr>\n",
       "      <th>0</th>\n",
       "      <td>pbkdf2_sha256$720000$CaXwxDGu2rpZIpqWfCSRiK$Yw...</td>\n",
       "      <td>None</td>\n",
       "      <td>False</td>\n",
       "      <td>False</td>\n",
       "      <td>True</td>\n",
       "      <td>2024-07-16 21:55:08.523157+00:00</td>\n",
       "      <td>51283834235</td>\n",
       "      <td>32999781209</td>\n",
       "      <td>dem@hotmail.com</td>\n",
       "      <td>7</td>\n",
       "      <td>2</td>\n",
       "    </tr>\n",
       "  </tbody>\n",
       "</table>\n",
       "</div>"
      ]
     },
     "execution_count": 19,
     "metadata": {},
     "output_type": "execute_result"
    }
   ],
   "execution_count": 19
  },
  {
   "metadata": {},
   "cell_type": "markdown",
   "source": "Pegando uma instância por `cnpj` e `scope`",
   "id": "2c17a7eefb3de7ce"
  },
  {
   "metadata": {
    "ExecuteTime": {
     "end_time": "2024-07-16T21:55:09.272570Z",
     "start_time": "2024-07-16T21:55:09.266204Z"
    }
   },
   "cell_type": "code",
   "source": "UsuarioGenericoPessoaJuridica.usuarios.get(cnpj='43694255431512', scope=Scope.scopes.default_scope()).__dict__",
   "id": "d4edf34227d8d30a",
   "outputs": [
    {
     "data": {
      "text/plain": [
       "{'_state': <django.db.models.base.ModelState at 0x1e3ffc9aa80>,\n",
       " 'password': 'pbkdf2_sha256$720000$3bAOBCPma5fgKb71KSqHBR$2VBuPqS0WykEXoe2Z9/tDyc60UprfT/Z9K0siw53tBE=',\n",
       " 'last_login': None,\n",
       " 'is_superuser': False,\n",
       " 'is_staff': False,\n",
       " 'is_active': True,\n",
       " 'date_joined': datetime.datetime(2024, 7, 16, 21, 55, 8, 105017, tzinfo=datetime.timezone.utc),\n",
       " 'codigo': '43694255431512',\n",
       " 'telefone': '32984735439',\n",
       " 'email': 'algum@gmail.com',\n",
       " 'pessoa_usuario_id': 6,\n",
       " 'usuariogenerico_ptr_id': 6,\n",
       " 'razao_social': 'Bingos Dingos LTDA',\n",
       " 'nome_fantasia': 'Bingos o Dingo'}"
      ]
     },
     "execution_count": 20,
     "metadata": {},
     "output_type": "execute_result"
    }
   ],
   "execution_count": 20
  },
  {
   "metadata": {},
   "cell_type": "markdown",
   "source": "Imagine você tem um queryset de `UsuarioGenerico` mas você quer separar as pessoas físicas das pessoas jurídicas.",
   "id": "22314282ce53f9b"
  },
  {
   "metadata": {
    "ExecuteTime": {
     "end_time": "2024-07-16T21:55:09.276088Z",
     "start_time": "2024-07-16T21:55:09.273581Z"
    }
   },
   "cell_type": "code",
   "source": "qs = UsuarioGenerico.usuarios.all()",
   "id": "2eb3c220a6eecd87",
   "outputs": [],
   "execution_count": 21
  },
  {
   "metadata": {
    "ExecuteTime": {
     "end_time": "2024-07-16T21:55:09.284040Z",
     "start_time": "2024-07-16T21:55:09.277119Z"
    }
   },
   "cell_type": "code",
   "source": [
    "pessoas_fisicas = qs.as_usuarios_pessoa_fisica()\n",
    "pessoas_fisicas[0].nome"
   ],
   "id": "a606eefa5054c2d8",
   "outputs": [
    {
     "data": {
      "text/plain": [
       "'Eduardo'"
      ]
     },
     "execution_count": 22,
     "metadata": {},
     "output_type": "execute_result"
    }
   ],
   "execution_count": 22
  },
  {
   "metadata": {},
   "cell_type": "markdown",
   "source": "Para um único objeto",
   "id": "f2c4d7142af4d92"
  },
  {
   "metadata": {
    "ExecuteTime": {
     "end_time": "2024-07-16T21:55:09.290918Z",
     "start_time": "2024-07-16T21:55:09.284040Z"
    }
   },
   "cell_type": "code",
   "source": [
    "if qs[0].is_pessoa_fisica():\n",
    "    print(qs[0].as_usuario_pessoa_fisica())\n",
    "else:\n",
    "    print(qs[0].as_usuario_pessoa_juridica())"
   ],
   "id": "e7b4159f4231f65e",
   "outputs": [
    {
     "name": "stdout",
     "output_type": "stream",
     "text": [
      "<UsuarioGenericoPessoaFisica: {codigo=11484174518, scope=Scope object (1)}>\n"
     ]
    }
   ],
   "execution_count": 23
  },
  {
   "metadata": {
    "ExecuteTime": {
     "end_time": "2024-07-16T21:55:09.300187Z",
     "start_time": "2024-07-16T21:55:09.290918Z"
    }
   },
   "cell_type": "code",
   "source": [
    "pessoas_fisicas = qs.as_usuarios_pessoa_fisica()\n",
    "pd.DataFrame(pessoas_fisicas.simple())"
   ],
   "id": "fc5f0c90735cf471",
   "outputs": [
    {
     "data": {
      "text/plain": [
       "      telefone                      email     nome       sobrenome  \\\n",
       "0  32999781208  eduardocdesouza@gmail.com  Eduardo     C. de Souza   \n",
       "1  32999781209            dem@hotmail.com    Bingo           Dingo   \n",
       "2  32999781209          coringa@gmail.com  Coringa  , O Brincalhão   \n",
       "\n",
       "  data_nascimento  scope          cpf  \n",
       "0      2006-07-15      1  11484174518  \n",
       "1            None      2  51283834235  \n",
       "2            None      3  37705858797  "
      ],
      "text/html": [
       "<div>\n",
       "<style scoped>\n",
       "    .dataframe tbody tr th:only-of-type {\n",
       "        vertical-align: middle;\n",
       "    }\n",
       "\n",
       "    .dataframe tbody tr th {\n",
       "        vertical-align: top;\n",
       "    }\n",
       "\n",
       "    .dataframe thead th {\n",
       "        text-align: right;\n",
       "    }\n",
       "</style>\n",
       "<table border=\"1\" class=\"dataframe\">\n",
       "  <thead>\n",
       "    <tr style=\"text-align: right;\">\n",
       "      <th></th>\n",
       "      <th>telefone</th>\n",
       "      <th>email</th>\n",
       "      <th>nome</th>\n",
       "      <th>sobrenome</th>\n",
       "      <th>data_nascimento</th>\n",
       "      <th>scope</th>\n",
       "      <th>cpf</th>\n",
       "    </tr>\n",
       "  </thead>\n",
       "  <tbody>\n",
       "    <tr>\n",
       "      <th>0</th>\n",
       "      <td>32999781208</td>\n",
       "      <td>eduardocdesouza@gmail.com</td>\n",
       "      <td>Eduardo</td>\n",
       "      <td>C. de Souza</td>\n",
       "      <td>2006-07-15</td>\n",
       "      <td>1</td>\n",
       "      <td>11484174518</td>\n",
       "    </tr>\n",
       "    <tr>\n",
       "      <th>1</th>\n",
       "      <td>32999781209</td>\n",
       "      <td>dem@hotmail.com</td>\n",
       "      <td>Bingo</td>\n",
       "      <td>Dingo</td>\n",
       "      <td>None</td>\n",
       "      <td>2</td>\n",
       "      <td>51283834235</td>\n",
       "    </tr>\n",
       "    <tr>\n",
       "      <th>2</th>\n",
       "      <td>32999781209</td>\n",
       "      <td>coringa@gmail.com</td>\n",
       "      <td>Coringa</td>\n",
       "      <td>, O Brincalhão</td>\n",
       "      <td>None</td>\n",
       "      <td>3</td>\n",
       "      <td>37705858797</td>\n",
       "    </tr>\n",
       "  </tbody>\n",
       "</table>\n",
       "</div>"
      ]
     },
     "execution_count": 24,
     "metadata": {},
     "output_type": "execute_result"
    }
   ],
   "execution_count": 24
  },
  {
   "metadata": {
    "ExecuteTime": {
     "end_time": "2024-07-16T21:55:09.309486Z",
     "start_time": "2024-07-16T21:55:09.301197Z"
    }
   },
   "cell_type": "code",
   "source": [
    "pessoas_juridicas = qs.as_usuarios_pessoa_juridica()\n",
    "pd.DataFrame(pessoas_juridicas.simple())"
   ],
   "id": "4d950ffa18544ebd",
   "outputs": [
    {
     "data": {
      "text/plain": [
       "      telefone            email        razao_social       nome_fantasia  \\\n",
       "0  31984735439     mr@gmail.com        Escocia LTDA  Escocesa Especular   \n",
       "1  32984735439  algum@gmail.com  Bingos Dingos LTDA      Bingos o Dingo   \n",
       "\n",
       "   scope            cnpj  \n",
       "0      1  12911507000186  \n",
       "1      1  43694255431512  "
      ],
      "text/html": [
       "<div>\n",
       "<style scoped>\n",
       "    .dataframe tbody tr th:only-of-type {\n",
       "        vertical-align: middle;\n",
       "    }\n",
       "\n",
       "    .dataframe tbody tr th {\n",
       "        vertical-align: top;\n",
       "    }\n",
       "\n",
       "    .dataframe thead th {\n",
       "        text-align: right;\n",
       "    }\n",
       "</style>\n",
       "<table border=\"1\" class=\"dataframe\">\n",
       "  <thead>\n",
       "    <tr style=\"text-align: right;\">\n",
       "      <th></th>\n",
       "      <th>telefone</th>\n",
       "      <th>email</th>\n",
       "      <th>razao_social</th>\n",
       "      <th>nome_fantasia</th>\n",
       "      <th>scope</th>\n",
       "      <th>cnpj</th>\n",
       "    </tr>\n",
       "  </thead>\n",
       "  <tbody>\n",
       "    <tr>\n",
       "      <th>0</th>\n",
       "      <td>31984735439</td>\n",
       "      <td>mr@gmail.com</td>\n",
       "      <td>Escocia LTDA</td>\n",
       "      <td>Escocesa Especular</td>\n",
       "      <td>1</td>\n",
       "      <td>12911507000186</td>\n",
       "    </tr>\n",
       "    <tr>\n",
       "      <th>1</th>\n",
       "      <td>32984735439</td>\n",
       "      <td>algum@gmail.com</td>\n",
       "      <td>Bingos Dingos LTDA</td>\n",
       "      <td>Bingos o Dingo</td>\n",
       "      <td>1</td>\n",
       "      <td>43694255431512</td>\n",
       "    </tr>\n",
       "  </tbody>\n",
       "</table>\n",
       "</div>"
      ]
     },
     "execution_count": 25,
     "metadata": {},
     "output_type": "execute_result"
    }
   ],
   "execution_count": 25
  },
  {
   "metadata": {},
   "cell_type": "markdown",
   "source": "Alternativamente",
   "id": "d72512876f90d3c1"
  },
  {
   "metadata": {
    "ExecuteTime": {
     "end_time": "2024-07-16T21:55:09.318876Z",
     "start_time": "2024-07-16T21:55:09.310002Z"
    }
   },
   "cell_type": "code",
   "source": [
    "pessoas_fisicas = UsuarioGenericoPessoaFisica.usuarios.from_usuarios_queryset(qs)\n",
    "pd.DataFrame(pessoas_fisicas.simple())"
   ],
   "id": "6a11ab461acfd469",
   "outputs": [
    {
     "data": {
      "text/plain": [
       "      telefone                      email     nome       sobrenome  \\\n",
       "0  32999781208  eduardocdesouza@gmail.com  Eduardo     C. de Souza   \n",
       "1  32999781209            dem@hotmail.com    Bingo           Dingo   \n",
       "2  32999781209          coringa@gmail.com  Coringa  , O Brincalhão   \n",
       "\n",
       "  data_nascimento  scope          cpf  \n",
       "0      2006-07-15      1  11484174518  \n",
       "1            None      2  51283834235  \n",
       "2            None      3  37705858797  "
      ],
      "text/html": [
       "<div>\n",
       "<style scoped>\n",
       "    .dataframe tbody tr th:only-of-type {\n",
       "        vertical-align: middle;\n",
       "    }\n",
       "\n",
       "    .dataframe tbody tr th {\n",
       "        vertical-align: top;\n",
       "    }\n",
       "\n",
       "    .dataframe thead th {\n",
       "        text-align: right;\n",
       "    }\n",
       "</style>\n",
       "<table border=\"1\" class=\"dataframe\">\n",
       "  <thead>\n",
       "    <tr style=\"text-align: right;\">\n",
       "      <th></th>\n",
       "      <th>telefone</th>\n",
       "      <th>email</th>\n",
       "      <th>nome</th>\n",
       "      <th>sobrenome</th>\n",
       "      <th>data_nascimento</th>\n",
       "      <th>scope</th>\n",
       "      <th>cpf</th>\n",
       "    </tr>\n",
       "  </thead>\n",
       "  <tbody>\n",
       "    <tr>\n",
       "      <th>0</th>\n",
       "      <td>32999781208</td>\n",
       "      <td>eduardocdesouza@gmail.com</td>\n",
       "      <td>Eduardo</td>\n",
       "      <td>C. de Souza</td>\n",
       "      <td>2006-07-15</td>\n",
       "      <td>1</td>\n",
       "      <td>11484174518</td>\n",
       "    </tr>\n",
       "    <tr>\n",
       "      <th>1</th>\n",
       "      <td>32999781209</td>\n",
       "      <td>dem@hotmail.com</td>\n",
       "      <td>Bingo</td>\n",
       "      <td>Dingo</td>\n",
       "      <td>None</td>\n",
       "      <td>2</td>\n",
       "      <td>51283834235</td>\n",
       "    </tr>\n",
       "    <tr>\n",
       "      <th>2</th>\n",
       "      <td>32999781209</td>\n",
       "      <td>coringa@gmail.com</td>\n",
       "      <td>Coringa</td>\n",
       "      <td>, O Brincalhão</td>\n",
       "      <td>None</td>\n",
       "      <td>3</td>\n",
       "      <td>37705858797</td>\n",
       "    </tr>\n",
       "  </tbody>\n",
       "</table>\n",
       "</div>"
      ]
     },
     "execution_count": 26,
     "metadata": {},
     "output_type": "execute_result"
    }
   ],
   "execution_count": 26
  },
  {
   "metadata": {
    "ExecuteTime": {
     "end_time": "2024-07-16T21:55:09.324955Z",
     "start_time": "2024-07-16T21:55:09.319885Z"
    }
   },
   "cell_type": "code",
   "source": [
    "try:\n",
    "    print(qs[0].as_usuario_pessoa_fisica())\n",
    "except TypeError as e:\n",
    "    print(e)"
   ],
   "id": "ae3ef8caa8b2f58d",
   "outputs": [
    {
     "name": "stdout",
     "output_type": "stream",
     "text": [
      "<UsuarioGenericoPessoaFisica: {codigo=11484174518, scope=Scope object (1)}>\n"
     ]
    }
   ],
   "execution_count": 27
  },
  {
   "metadata": {
    "ExecuteTime": {
     "end_time": "2024-07-16T21:55:09.329505Z",
     "start_time": "2024-07-16T21:55:09.325467Z"
    }
   },
   "cell_type": "code",
   "source": [
    "try:\n",
    "    print(qs[0].as_usuario_pessoa_juridica())\n",
    "except TypeError as e:\n",
    "    print(e)"
   ],
   "id": "13603b24043f0d3b",
   "outputs": [
    {
     "name": "stdout",
     "output_type": "stream",
     "text": [
      "O usuário não pode ser convertido pois a pessoa 11484174518 não é uma pessoa jurídica.\n"
     ]
    }
   ],
   "execution_count": 28
  },
  {
   "metadata": {},
   "cell_type": "markdown",
   "source": "Basicamente isso exemplifica como trabalhar com um usuário. Em caso de herança o manager e queryset também deverão ser herdados.",
   "id": "5ec7b5f5d9a6096"
  },
  {
   "metadata": {
    "ExecuteTime": {
     "end_time": "2024-07-16T21:55:09.671894Z",
     "start_time": "2024-07-16T21:55:09.330514Z"
    }
   },
   "cell_type": "code",
   "source": [
    "coringa = UsuarioGenericoPessoaFisica.usuarios.criar_usuario(\n",
    "    cpf='37705858797',\n",
    "    scope=Scope.scopes.default_scope(),\n",
    "    password='senha$#$doiasdf2345',\n",
    "    email='coringa@gmail.com',\n",
    "    telefone='32999781209',\n",
    "    nome='Coringa',\n",
    "    sobrenome=', O Brincalhão'\n",
    ")"
   ],
   "id": "106472a10e9c4c49",
   "outputs": [],
   "execution_count": 29
  }
 ],
 "metadata": {
  "kernelspec": {
   "display_name": "Python 3",
   "language": "python",
   "name": "python3"
  },
  "language_info": {
   "codemirror_mode": {
    "name": "ipython",
    "version": 2
   },
   "file_extension": ".py",
   "mimetype": "text/x-python",
   "name": "python",
   "nbconvert_exporter": "python",
   "pygments_lexer": "ipython2",
   "version": "2.7.6"
  }
 },
 "nbformat": 4,
 "nbformat_minor": 5
}
