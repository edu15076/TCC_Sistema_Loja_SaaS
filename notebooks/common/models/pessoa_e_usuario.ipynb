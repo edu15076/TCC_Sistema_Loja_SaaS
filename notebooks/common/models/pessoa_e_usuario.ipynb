{
 "cells": [
  {
   "metadata": {
    "ExecuteTime": {
     "end_time": "2024-05-23T17:28:33.603913Z",
     "start_time": "2024-05-23T17:28:33.173820Z"
    }
   },
   "cell_type": "code",
   "source": [
    "import sys\n",
    "\n",
    "from util.django import restart_django\n",
    "\n",
    "sys.path.append(\"../../src\")\n",
    "\n",
    "restart_django(imprimir_versoes=True)"
   ],
   "id": "initial_id",
   "outputs": [
    {
     "name": "stdout",
     "output_type": "stream",
     "text": [
      "Python 3.12.1 (tags/v3.12.1:2305ca5, Dec  7 2023, 22:03:25) [MSC v.1937 64 bit (AMD64)] on win32\n",
      "Django 5.0.4\n"
     ]
    }
   ],
   "execution_count": 1
  },
  {
   "metadata": {},
   "cell_type": "markdown",
   "source": "Esse notebook tem como objetivo exemplificar o uso das classes de pessoas e usuários do app common",
   "id": "404e38323ec17956"
  },
  {
   "metadata": {
    "ExecuteTime": {
     "end_time": "2024-05-23T17:28:34.019929Z",
     "start_time": "2024-05-23T17:28:33.604922Z"
    }
   },
   "cell_type": "code",
   "source": [
    "from common.models import *\n",
    "from datetime import date\n",
    "import pandas as pd\n",
    "from django.core.exceptions import ValidationError"
   ],
   "id": "bf689ea02ee1bfaf",
   "outputs": [],
   "execution_count": 2
  },
  {
   "metadata": {},
   "cell_type": "markdown",
   "source": "## Pessoa",
   "id": "c01c89095e566e22"
  },
  {
   "metadata": {},
   "cell_type": "markdown",
   "source": [
    "Ao chamar o `save` de qualquer subclasse de pessoa `full_clean` é chamado, de forma que os campos sempre são validados antes de serem salvos. Nesse caso o príncipal campo sendo válidado é o `cpf`.\n",
    "\n",
    "Todos os campos de pessoa física são apresentados nesse exemplo."
   ],
   "id": "cbe4ec0f9708f759"
  },
  {
   "metadata": {
    "ExecuteTime": {
     "end_time": "2024-05-23T17:28:34.024916Z",
     "start_time": "2024-05-23T17:28:34.019929Z"
    }
   },
   "cell_type": "code",
   "source": [
    "bindo = PessoaFisica(cpf='11484174510', nome='Eduardo', sobrenome='C. de Souza', data_nascimento=date(2006, 7, 15))\n",
    "try:\n",
    "    bindo.save()\n",
    "    print('bindo foi salvo no banco de dados')\n",
    "except ValidationError as e:\n",
    "    print(f'bindo não foi salvo pois: {e.args[0]}')"
   ],
   "id": "432a60c1b970fc3a",
   "outputs": [
    {
     "name": "stdout",
     "output_type": "stream",
     "text": [
      "bindo não foi salvo pois: {'codigo': [ValidationError(['CPF inválido'])]}\n"
     ]
    }
   ],
   "execution_count": 3
  },
  {
   "metadata": {
    "ExecuteTime": {
     "end_time": "2024-05-23T17:28:34.068694Z",
     "start_time": "2024-05-23T17:28:34.026406Z"
    }
   },
   "cell_type": "code",
   "source": [
    "bindo = PessoaFisica(cpf='59247136170812', nome='Eduardo', sobrenome='C. de Souza', data_nascimento=date(2006, 7, 15))\n",
    "try:\n",
    "    bindo.save()\n",
    "    print('bindo foi salvo no banco de dados')\n",
    "except ValidationError as e:\n",
    "    print(f'bindo não foi salvo pois: {e.args[0]}')"
   ],
   "id": "3ecd07dfd0e7c294",
   "outputs": [
    {
     "name": "stdout",
     "output_type": "stream",
     "text": [
      "bindo não foi salvo pois: {'__all__': [ValidationError(['O codigo de PessoaFisica deve ser um cpf'])]}\n"
     ]
    }
   ],
   "execution_count": 4
  },
  {
   "metadata": {
    "ExecuteTime": {
     "end_time": "2024-05-23T17:28:34.088032Z",
     "start_time": "2024-05-23T17:28:34.069703Z"
    }
   },
   "cell_type": "code",
   "source": [
    "bindo = PessoaFisica(cpf='11484174518', nome='Eduardo', sobrenome='C. de Souza', data_nascimento=date(2006, 7, 15))\n",
    "try:\n",
    "    bindo.save()\n",
    "    print('bindo foi salvo no banco de dados')\n",
    "except ValidationError as e:\n",
    "    print(f'bindo não foi salvo pois: {e.args[0]}')"
   ],
   "id": "c44937344852b4d3",
   "outputs": [
    {
     "name": "stdout",
     "output_type": "stream",
     "text": [
      "bindo foi salvo no banco de dados\n"
     ]
    }
   ],
   "execution_count": 5
  },
  {
   "metadata": {},
   "cell_type": "markdown",
   "source": "Também podemos usar o método `create` para criar uma pessoa - naturalmente `full_clean` continua sendo chamado antes de salvar.",
   "id": "6955df37fd3fdf0f"
  },
  {
   "metadata": {
    "ExecuteTime": {
     "end_time": "2024-05-23T17:28:34.097486Z",
     "start_time": "2024-05-23T17:28:34.089044Z"
    }
   },
   "cell_type": "code",
   "source": "PessoaFisica.pessoas.create(cpf='66666666666', nome='Coisa', sobrenome='Ruim', data_nascimento=date(2006, 6, 6))",
   "id": "9f78bc9e24dcd41",
   "outputs": [
    {
     "data": {
      "text/plain": [
       "66666666666"
      ]
     },
     "execution_count": 6,
     "metadata": {},
     "output_type": "execute_result"
    }
   ],
   "execution_count": 6
  },
  {
   "metadata": {},
   "cell_type": "markdown",
   "source": "Podemos resgatar `bindo` por meio da chave primária de `Pessoa`, por consequência também chave primária das subclasses de `Pessoa`, `codigo`. Todavia para `PessoaFisica` podemos chamá-la por `cpf` na criação e na edição `cpf` sempre é um campo annotado, além disso `cpf` possuí métodos getter e setter que modificam o `codigo`.",
   "id": "d32b9ef742c6b001"
  },
  {
   "metadata": {
    "ExecuteTime": {
     "end_time": "2024-05-23T17:28:34.108193Z",
     "start_time": "2024-05-23T17:28:34.098492Z"
    }
   },
   "cell_type": "code",
   "source": "pd.DataFrame(PessoaFisica.pessoas.simple().filter(cpf='11484174518'))",
   "id": "2838817624d0c6da",
   "outputs": [
    {
     "data": {
      "text/plain": [
       "      nome    sobrenome data_nascimento          cpf\n",
       "0  Eduardo  C. de Souza      2006-07-15  11484174518"
      ],
      "text/html": [
       "<div>\n",
       "<style scoped>\n",
       "    .dataframe tbody tr th:only-of-type {\n",
       "        vertical-align: middle;\n",
       "    }\n",
       "\n",
       "    .dataframe tbody tr th {\n",
       "        vertical-align: top;\n",
       "    }\n",
       "\n",
       "    .dataframe thead th {\n",
       "        text-align: right;\n",
       "    }\n",
       "</style>\n",
       "<table border=\"1\" class=\"dataframe\">\n",
       "  <thead>\n",
       "    <tr style=\"text-align: right;\">\n",
       "      <th></th>\n",
       "      <th>nome</th>\n",
       "      <th>sobrenome</th>\n",
       "      <th>data_nascimento</th>\n",
       "      <th>cpf</th>\n",
       "    </tr>\n",
       "  </thead>\n",
       "  <tbody>\n",
       "    <tr>\n",
       "      <th>0</th>\n",
       "      <td>Eduardo</td>\n",
       "      <td>C. de Souza</td>\n",
       "      <td>2006-07-15</td>\n",
       "      <td>11484174518</td>\n",
       "    </tr>\n",
       "  </tbody>\n",
       "</table>\n",
       "</div>"
      ]
     },
     "execution_count": 7,
     "metadata": {},
     "output_type": "execute_result"
    }
   ],
   "execution_count": 7
  },
  {
   "metadata": {
    "ExecuteTime": {
     "end_time": "2024-05-23T17:28:34.117147Z",
     "start_time": "2024-05-23T17:28:34.109208Z"
    }
   },
   "cell_type": "code",
   "source": "pd.DataFrame(PessoaFisica.pessoas.filter(cpf='11484174518').values())",
   "id": "751dae8f3fae9b36",
   "outputs": [
    {
     "data": {
      "text/plain": [
       "        codigo    pessoa_id     nome    sobrenome data_nascimento          cpf\n",
       "0  11484174518  11484174518  Eduardo  C. de Souza      2006-07-15  11484174518"
      ],
      "text/html": [
       "<div>\n",
       "<style scoped>\n",
       "    .dataframe tbody tr th:only-of-type {\n",
       "        vertical-align: middle;\n",
       "    }\n",
       "\n",
       "    .dataframe tbody tr th {\n",
       "        vertical-align: top;\n",
       "    }\n",
       "\n",
       "    .dataframe thead th {\n",
       "        text-align: right;\n",
       "    }\n",
       "</style>\n",
       "<table border=\"1\" class=\"dataframe\">\n",
       "  <thead>\n",
       "    <tr style=\"text-align: right;\">\n",
       "      <th></th>\n",
       "      <th>codigo</th>\n",
       "      <th>pessoa_id</th>\n",
       "      <th>nome</th>\n",
       "      <th>sobrenome</th>\n",
       "      <th>data_nascimento</th>\n",
       "      <th>cpf</th>\n",
       "    </tr>\n",
       "  </thead>\n",
       "  <tbody>\n",
       "    <tr>\n",
       "      <th>0</th>\n",
       "      <td>11484174518</td>\n",
       "      <td>11484174518</td>\n",
       "      <td>Eduardo</td>\n",
       "      <td>C. de Souza</td>\n",
       "      <td>2006-07-15</td>\n",
       "      <td>11484174518</td>\n",
       "    </tr>\n",
       "  </tbody>\n",
       "</table>\n",
       "</div>"
      ]
     },
     "execution_count": 8,
     "metadata": {},
     "output_type": "execute_result"
    }
   ],
   "execution_count": 8
  },
  {
   "metadata": {},
   "cell_type": "markdown",
   "source": "Note que o método `simple` pode ser util, mas não retorna a instância de pessoa física, além de perder outros campos de relacionamentos. Talvez seja, em alguns casos em que a eficiência deve ser priorizada, utilizar o método `only`.",
   "id": "f7a02a61a964ad23"
  },
  {
   "metadata": {
    "ExecuteTime": {
     "end_time": "2024-05-23T17:28:34.123658Z",
     "start_time": "2024-05-23T17:28:34.117147Z"
    }
   },
   "cell_type": "code",
   "source": "isinstance(PessoaFisica.pessoas.simple().filter(cpf='11484174518')[0], dict)",
   "id": "ae0194c5a5d6b369",
   "outputs": [
    {
     "data": {
      "text/plain": [
       "True"
      ]
     },
     "execution_count": 9,
     "metadata": {},
     "output_type": "execute_result"
    }
   ],
   "execution_count": 9
  },
  {
   "metadata": {
    "ExecuteTime": {
     "end_time": "2024-05-23T17:28:34.131024Z",
     "start_time": "2024-05-23T17:28:34.125670Z"
    }
   },
   "cell_type": "code",
   "source": "isinstance(PessoaFisica.pessoas.filter(cpf='11484174518')[0], PessoaFisica)",
   "id": "95b7aaf31c9777ce",
   "outputs": [
    {
     "data": {
      "text/plain": [
       "True"
      ]
     },
     "execution_count": 10,
     "metadata": {},
     "output_type": "execute_result"
    }
   ],
   "execution_count": 10
  },
  {
   "metadata": {},
   "cell_type": "markdown",
   "source": "Note que `codigo` é `editable=False`, logo não deve ser alterado, embora exista essa possibilidade. Caso altere `codigo` outra linha de `Pessoa` será criada, isso ocasionará erros imprevisíveis e assustadores.",
   "id": "38e27869413e7b87"
  },
  {
   "metadata": {},
   "cell_type": "markdown",
   "source": "Trabalhar com `PessoaJuridica` é análogo a trabalhar com `PessoaFisica`, exceto que o codinome de `codigo` é `cnpj` e não possuí o campo `data_nascimento`, obviamente a verificação do `codigo` verifica se é um `cnpj` válido. Portanto, não será detalhado.",
   "id": "babb58de0243dc62"
  },
  {
   "metadata": {},
   "cell_type": "markdown",
   "source": [
    "## UsuarioGenerico\n",
    "\n",
    "O `UsuarioGenerico` estabelece uma relação com `PessoaUsuario` que define o escopo do usuário. De forma simplória, uma `Pessoa` pode estar associada a vários usuários, enquanto um usuário está associado a somente uma pessoa, pois o usuário pode existir em diferentes escopos sob mesmo `codigo`, ou seja, sendo a mesma `Pessoa`. No entanto, não é recomendado usar `UsuarioGenerico` em sua forma pura, mas sim com um proxy. O usuário que é uma pessoa jurídica deve usar `UsuarioGenericoPessoJuridica` e o que é uma pessoa física `UsuarioGenericoPessoaFisica`. Esses proxys visam simular a herança de pessoa, embora ela não exista, de modo a simplificar o trabalho."
   ],
   "id": "6dc240290a83b60d"
  },
  {
   "metadata": {},
   "cell_type": "markdown",
   "source": [
    "### Da criação de novos usuários\n",
    "\n",
    "A criação de novos usuários será pelas classes proxy de `UsuarioGenericoPessoaFisica` ou `UsuarioGenericoPessoaJuridica`, é altamente recomendado o uso do método `criar_usuario` e `criar_superusuario`, alternativamente é possível usar o builder. Isso quando feito em código, quando usando o form, deve herdar dos forms que serão feitos no common.\n",
    "\n",
    "Tanto no `criar_usuario` como como será no form, a senha é haseada e os dados inseridos validados. Portanto, não utilize métodos alternativos e mandrakes para a criação de usuários, pois eles podem não ser validados ou salvar a senha bruta, ambos seriam péssimos."
   ],
   "id": "9356598e6b532c96"
  },
  {
   "metadata": {
    "ExecuteTime": {
     "end_time": "2024-05-23T17:28:34.474349Z",
     "start_time": "2024-05-23T17:28:34.131024Z"
    }
   },
   "cell_type": "code",
   "source": [
    "escocesa_ltda = UsuarioGenericoPessoaJuridica.usuarios.criar_usuario(\n",
    "    cnpj='12911507000186',\n",
    "    password='espelho',\n",
    "    email='mr@gmail.com',\n",
    "    telefone='31984735439',\n",
    "    razao_social='Escocia LTDA',\n",
    "    nome_fantasia='Escocesa Especular'\n",
    ")"
   ],
   "id": "67efae257fbb0f09",
   "outputs": [],
   "execution_count": 11
  },
  {
   "metadata": {},
   "cell_type": "markdown",
   "source": "Ou",
   "id": "4ee3f77cb336e786"
  },
  {
   "metadata": {
    "ExecuteTime": {
     "end_time": "2024-05-23T17:28:34.812979Z",
     "start_time": "2024-05-23T17:28:34.475355Z"
    }
   },
   "cell_type": "code",
   "source": [
    "builder = UsuarioGenericoPessoaJuridica.usuarios.create_builder()\n",
    "builder.cnpj = '43694255431512'\n",
    "builder.password = 'bingos'\n",
    "builder.email = 'algum@gmail.com'\n",
    "builder.telefone = '32984735439'\n",
    "builder.razao_social = 'Bingos Dingos LTDA'\n",
    "builder.nome_fantasia = 'Bingos o Dingo'\n",
    "bingos_dingos = builder.build_usuario()"
   ],
   "id": "6c8f12562f549a0",
   "outputs": [],
   "execution_count": 12
  },
  {
   "metadata": {},
   "cell_type": "markdown",
   "source": "Criando um escopo para um grupo de usuários",
   "id": "9648d4639b84232c"
  },
  {
   "metadata": {
    "ExecuteTime": {
     "end_time": "2024-05-23T17:28:34.816695Z",
     "start_time": "2024-05-23T17:28:34.813484Z"
    }
   },
   "cell_type": "code",
   "source": "from scope_auth.models import Scope",
   "id": "3144cc423c0536fd",
   "outputs": [],
   "execution_count": 13
  },
  {
   "metadata": {
    "ExecuteTime": {
     "end_time": "2024-05-23T17:28:34.821896Z",
     "start_time": "2024-05-23T17:28:34.817710Z"
    }
   },
   "cell_type": "code",
   "source": "outro_escopo = Scope.scopes.create()",
   "id": "2e0c63702a9287d3",
   "outputs": [],
   "execution_count": 14
  },
  {
   "metadata": {
    "ExecuteTime": {
     "end_time": "2024-05-23T17:28:35.170386Z",
     "start_time": "2024-05-23T17:28:34.821896Z"
    }
   },
   "cell_type": "code",
   "source": [
    "bindo = UsuarioGenericoPessoaFisica.usuarios.criar_usuario(\n",
    "    cpf='51283834235',\n",
    "    scope=outro_escopo,\n",
    "    password='bingosdingos@1234',\n",
    "    email='bindo@gmail.com',\n",
    "    telefone='32999781209',\n",
    "    nome='Bindo',\n",
    "    sobrenome='Dingo'\n",
    ")"
   ],
   "id": "9f247943fe57a7f9",
   "outputs": [],
   "execution_count": 15
  },
  {
   "metadata": {},
   "cell_type": "markdown",
   "source": "Alterando o usuário `bindo`, modificando os dados de pessoa e os dados de usuário utilizando o proxy",
   "id": "9dc155dec62ef006"
  },
  {
   "metadata": {
    "ExecuteTime": {
     "end_time": "2024-05-23T17:28:35.176667Z",
     "start_time": "2024-05-23T17:28:35.171393Z"
    }
   },
   "cell_type": "code",
   "source": [
    "bindo.nome = 'Bingo'\n",
    "bindo.email = 'dem@hotmail.com'\n",
    "bindo.save()"
   ],
   "id": "ac63cb6f6273c6a5",
   "outputs": [],
   "execution_count": 16
  },
  {
   "metadata": {},
   "cell_type": "markdown",
   "source": "Somente criando outro usuário em mais um escopo",
   "id": "b8e6b5b8cdf6154b"
  },
  {
   "metadata": {
    "ExecuteTime": {
     "end_time": "2024-05-23T17:28:35.510766Z",
     "start_time": "2024-05-23T17:28:35.177675Z"
    }
   },
   "cell_type": "code",
   "source": [
    "mais_um_escopo = Scope.scopes.create()\n",
    "\n",
    "coringa = UsuarioGenericoPessoaFisica.usuarios.criar_usuario(\n",
    "    cpf='37705858797',\n",
    "    scope=mais_um_escopo,\n",
    "    password='senha$#$doiasdf2345',\n",
    "    email='coringa@gmail.com',\n",
    "    telefone='32999781209',\n",
    "    nome='Coringa',\n",
    "    sobrenome=', O Brincalhão'\n",
    ")"
   ],
   "id": "7201d7ebc7af7faa",
   "outputs": [],
   "execution_count": 17
  },
  {
   "metadata": {},
   "cell_type": "markdown",
   "source": [
    "### Resgatando usuários do banco de dados\n",
    "\n",
    "Ao resgatar usuários do banco de dados nem sempre será possível recuperá-lo como instância de um dos `proxy`, ou não será possível recuperar um queryset dessa maneira. Portanto, mostraremos como resgatar os dados pelos `proxy` e como realizar a coerção de um queryset da classe base ou de uma instância da classe base para os proxys."
   ],
   "id": "381b49cb18abdf6a"
  },
  {
   "metadata": {},
   "cell_type": "markdown",
   "source": [
    "É importante saber que os proxys já filtram pelos usuários de pessoa física e de pessoa jurídica.\n",
    "\n",
    "Os campos de pessoa física e pessoa jurídica são anotados no queryset logo após ser criado, os campos de scope e pessoa são anotados nas superclasses. Também são fornecidas properties e setters para membros de pessoa. Os métodos de `clean` e `save` chamam tambem os de pessoa e pessoa_usuario, conforme em:\n",
    "\n",
    "```python\n",
    "bindo.nome = 'Bingo'\n",
    "bindo.email = 'dem@hotmail.com'\n",
    "bindo.save()\n",
    "```"
   ],
   "id": "cbeeb3744d3035ea"
  },
  {
   "metadata": {
    "ExecuteTime": {
     "end_time": "2024-05-23T17:28:35.520422Z",
     "start_time": "2024-05-23T17:28:35.510766Z"
    }
   },
   "cell_type": "code",
   "source": "pd.DataFrame(UsuarioGenericoPessoaJuridica.usuarios.simple())",
   "id": "1b8d1fad5ce1d901",
   "outputs": [
    {
     "data": {
      "text/plain": [
       "      telefone            email  scope        razao_social  \\\n",
       "0  31984735439     mr@gmail.com      1        Escocia LTDA   \n",
       "1  32984735439  algum@gmail.com      1  Bingos Dingos LTDA   \n",
       "\n",
       "        nome_fantasia            cnpj  \n",
       "0  Escocesa Especular  12911507000186  \n",
       "1      Bingos o Dingo  43694255431512  "
      ],
      "text/html": [
       "<div>\n",
       "<style scoped>\n",
       "    .dataframe tbody tr th:only-of-type {\n",
       "        vertical-align: middle;\n",
       "    }\n",
       "\n",
       "    .dataframe tbody tr th {\n",
       "        vertical-align: top;\n",
       "    }\n",
       "\n",
       "    .dataframe thead th {\n",
       "        text-align: right;\n",
       "    }\n",
       "</style>\n",
       "<table border=\"1\" class=\"dataframe\">\n",
       "  <thead>\n",
       "    <tr style=\"text-align: right;\">\n",
       "      <th></th>\n",
       "      <th>telefone</th>\n",
       "      <th>email</th>\n",
       "      <th>scope</th>\n",
       "      <th>razao_social</th>\n",
       "      <th>nome_fantasia</th>\n",
       "      <th>cnpj</th>\n",
       "    </tr>\n",
       "  </thead>\n",
       "  <tbody>\n",
       "    <tr>\n",
       "      <th>0</th>\n",
       "      <td>31984735439</td>\n",
       "      <td>mr@gmail.com</td>\n",
       "      <td>1</td>\n",
       "      <td>Escocia LTDA</td>\n",
       "      <td>Escocesa Especular</td>\n",
       "      <td>12911507000186</td>\n",
       "    </tr>\n",
       "    <tr>\n",
       "      <th>1</th>\n",
       "      <td>32984735439</td>\n",
       "      <td>algum@gmail.com</td>\n",
       "      <td>1</td>\n",
       "      <td>Bingos Dingos LTDA</td>\n",
       "      <td>Bingos o Dingo</td>\n",
       "      <td>43694255431512</td>\n",
       "    </tr>\n",
       "  </tbody>\n",
       "</table>\n",
       "</div>"
      ]
     },
     "execution_count": 18,
     "metadata": {},
     "output_type": "execute_result"
    }
   ],
   "execution_count": 18
  },
  {
   "metadata": {},
   "cell_type": "markdown",
   "source": "Filtrando por escopo",
   "id": "9c2a062418c6d25c"
  },
  {
   "metadata": {
    "ExecuteTime": {
     "end_time": "2024-05-23T17:28:35.531201Z",
     "start_time": "2024-05-23T17:28:35.521430Z"
    }
   },
   "cell_type": "code",
   "source": "pd.DataFrame(UsuarioGenericoPessoa.usuarios.filter(scope=outro_escopo).values())",
   "id": "deac49434026f7c5",
   "outputs": [
    {
     "data": {
      "text/plain": [
       "   id                                           password last_login  \\\n",
       "0   3  pbkdf2_sha256$720000$7muU9IjYdye8AXUoPo1ZAr$OD...       None   \n",
       "\n",
       "   is_superuser  is_staff  is_active                      date_joined  \\\n",
       "0         False     False       True 2024-05-23 17:28:34.832838+00:00   \n",
       "\n",
       "   pessoa_usuario_id     telefone            email       codigo  scope  \\\n",
       "0                  3  32999781209  dem@hotmail.com  51283834235      2   \n",
       "\n",
       "        pessoa  \n",
       "0  51283834235  "
      ],
      "text/html": [
       "<div>\n",
       "<style scoped>\n",
       "    .dataframe tbody tr th:only-of-type {\n",
       "        vertical-align: middle;\n",
       "    }\n",
       "\n",
       "    .dataframe tbody tr th {\n",
       "        vertical-align: top;\n",
       "    }\n",
       "\n",
       "    .dataframe thead th {\n",
       "        text-align: right;\n",
       "    }\n",
       "</style>\n",
       "<table border=\"1\" class=\"dataframe\">\n",
       "  <thead>\n",
       "    <tr style=\"text-align: right;\">\n",
       "      <th></th>\n",
       "      <th>id</th>\n",
       "      <th>password</th>\n",
       "      <th>last_login</th>\n",
       "      <th>is_superuser</th>\n",
       "      <th>is_staff</th>\n",
       "      <th>is_active</th>\n",
       "      <th>date_joined</th>\n",
       "      <th>pessoa_usuario_id</th>\n",
       "      <th>telefone</th>\n",
       "      <th>email</th>\n",
       "      <th>codigo</th>\n",
       "      <th>scope</th>\n",
       "      <th>pessoa</th>\n",
       "    </tr>\n",
       "  </thead>\n",
       "  <tbody>\n",
       "    <tr>\n",
       "      <th>0</th>\n",
       "      <td>3</td>\n",
       "      <td>pbkdf2_sha256$720000$7muU9IjYdye8AXUoPo1ZAr$OD...</td>\n",
       "      <td>None</td>\n",
       "      <td>False</td>\n",
       "      <td>False</td>\n",
       "      <td>True</td>\n",
       "      <td>2024-05-23 17:28:34.832838+00:00</td>\n",
       "      <td>3</td>\n",
       "      <td>32999781209</td>\n",
       "      <td>dem@hotmail.com</td>\n",
       "      <td>51283834235</td>\n",
       "      <td>2</td>\n",
       "      <td>51283834235</td>\n",
       "    </tr>\n",
       "  </tbody>\n",
       "</table>\n",
       "</div>"
      ]
     },
     "execution_count": 19,
     "metadata": {},
     "output_type": "execute_result"
    }
   ],
   "execution_count": 19
  },
  {
   "metadata": {},
   "cell_type": "markdown",
   "source": "Pegando uma instância por `cnpj` e `scope`",
   "id": "2c17a7eefb3de7ce"
  },
  {
   "metadata": {
    "ExecuteTime": {
     "end_time": "2024-05-23T17:28:35.540902Z",
     "start_time": "2024-05-23T17:28:35.532280Z"
    }
   },
   "cell_type": "code",
   "source": "UsuarioGenericoPessoaJuridica.usuarios.get(cnpj='43694255431512', scope=Scope.scopes.default_scope()).__dict__",
   "id": "d4edf34227d8d30a",
   "outputs": [
    {
     "data": {
      "text/plain": [
       "{'_state': <django.db.models.base.ModelState at 0x26169e252b0>,\n",
       " 'id': 2,\n",
       " 'password': 'pbkdf2_sha256$720000$vc9F9znHuZcYozVSnWma8x$JFRVD3D9NnUoxChfSjRsYtmxLLajfntwFa5NH6NMZpM=',\n",
       " 'last_login': None,\n",
       " 'is_superuser': False,\n",
       " 'is_staff': False,\n",
       " 'is_active': True,\n",
       " 'date_joined': datetime.datetime(2024, 5, 23, 17, 28, 34, 481627, tzinfo=datetime.timezone.utc),\n",
       " 'pessoa_usuario_id': 2,\n",
       " 'telefone': '32984735439',\n",
       " 'email': 'algum@gmail.com'}"
      ]
     },
     "execution_count": 20,
     "metadata": {},
     "output_type": "execute_result"
    }
   ],
   "execution_count": 20
  },
  {
   "metadata": {},
   "cell_type": "markdown",
   "source": "Imagine você tem um queryset de `UsuarioGenerico` mas não te interessam as pessoas jurídicas, somente as físicas. Todavia, para punir os que tentaram burlar o sistema, você quer saber quais são as pessoas jurídicas que estavam no queryset e não deveriam estar ali.",
   "id": "22314282ce53f9b"
  },
  {
   "metadata": {
    "ExecuteTime": {
     "end_time": "2024-05-23T17:28:35.544334Z",
     "start_time": "2024-05-23T17:28:35.541909Z"
    }
   },
   "cell_type": "code",
   "source": "qs = UsuarioGenerico.usuarios.all()",
   "id": "2eb3c220a6eecd87",
   "outputs": [],
   "execution_count": 21
  },
  {
   "metadata": {
    "ExecuteTime": {
     "end_time": "2024-05-23T17:28:35.554563Z",
     "start_time": "2024-05-23T17:28:35.545572Z"
    }
   },
   "cell_type": "code",
   "source": [
    "pessoas_fisicas = qs.as_usuarios_pessoa_fisica()\n",
    "pd.DataFrame(pessoas_fisicas.simple())"
   ],
   "id": "fc5f0c90735cf471",
   "outputs": [
    {
     "data": {
      "text/plain": [
       "      telefone              email  scope     nome       sobrenome  \\\n",
       "0  32999781209    dem@hotmail.com      2    Bingo           Dingo   \n",
       "1  32999781209  coringa@gmail.com      3  Coringa  , O Brincalhão   \n",
       "\n",
       "  data_nascimento          cpf  \n",
       "0            None  51283834235  \n",
       "1            None  37705858797  "
      ],
      "text/html": [
       "<div>\n",
       "<style scoped>\n",
       "    .dataframe tbody tr th:only-of-type {\n",
       "        vertical-align: middle;\n",
       "    }\n",
       "\n",
       "    .dataframe tbody tr th {\n",
       "        vertical-align: top;\n",
       "    }\n",
       "\n",
       "    .dataframe thead th {\n",
       "        text-align: right;\n",
       "    }\n",
       "</style>\n",
       "<table border=\"1\" class=\"dataframe\">\n",
       "  <thead>\n",
       "    <tr style=\"text-align: right;\">\n",
       "      <th></th>\n",
       "      <th>telefone</th>\n",
       "      <th>email</th>\n",
       "      <th>scope</th>\n",
       "      <th>nome</th>\n",
       "      <th>sobrenome</th>\n",
       "      <th>data_nascimento</th>\n",
       "      <th>cpf</th>\n",
       "    </tr>\n",
       "  </thead>\n",
       "  <tbody>\n",
       "    <tr>\n",
       "      <th>0</th>\n",
       "      <td>32999781209</td>\n",
       "      <td>dem@hotmail.com</td>\n",
       "      <td>2</td>\n",
       "      <td>Bingo</td>\n",
       "      <td>Dingo</td>\n",
       "      <td>None</td>\n",
       "      <td>51283834235</td>\n",
       "    </tr>\n",
       "    <tr>\n",
       "      <th>1</th>\n",
       "      <td>32999781209</td>\n",
       "      <td>coringa@gmail.com</td>\n",
       "      <td>3</td>\n",
       "      <td>Coringa</td>\n",
       "      <td>, O Brincalhão</td>\n",
       "      <td>None</td>\n",
       "      <td>37705858797</td>\n",
       "    </tr>\n",
       "  </tbody>\n",
       "</table>\n",
       "</div>"
      ]
     },
     "execution_count": 22,
     "metadata": {},
     "output_type": "execute_result"
    }
   ],
   "execution_count": 22
  },
  {
   "metadata": {
    "ExecuteTime": {
     "end_time": "2024-05-23T17:28:35.564328Z",
     "start_time": "2024-05-23T17:28:35.555572Z"
    }
   },
   "cell_type": "code",
   "source": [
    "pessoas_juridicas = qs.as_usuarios_pessoa_juridica()\n",
    "pd.DataFrame(pessoas_juridicas.simple())"
   ],
   "id": "4d950ffa18544ebd",
   "outputs": [
    {
     "data": {
      "text/plain": [
       "      telefone            email  scope        razao_social  \\\n",
       "0  31984735439     mr@gmail.com      1        Escocia LTDA   \n",
       "1  32984735439  algum@gmail.com      1  Bingos Dingos LTDA   \n",
       "\n",
       "        nome_fantasia            cnpj  \n",
       "0  Escocesa Especular  12911507000186  \n",
       "1      Bingos o Dingo  43694255431512  "
      ],
      "text/html": [
       "<div>\n",
       "<style scoped>\n",
       "    .dataframe tbody tr th:only-of-type {\n",
       "        vertical-align: middle;\n",
       "    }\n",
       "\n",
       "    .dataframe tbody tr th {\n",
       "        vertical-align: top;\n",
       "    }\n",
       "\n",
       "    .dataframe thead th {\n",
       "        text-align: right;\n",
       "    }\n",
       "</style>\n",
       "<table border=\"1\" class=\"dataframe\">\n",
       "  <thead>\n",
       "    <tr style=\"text-align: right;\">\n",
       "      <th></th>\n",
       "      <th>telefone</th>\n",
       "      <th>email</th>\n",
       "      <th>scope</th>\n",
       "      <th>razao_social</th>\n",
       "      <th>nome_fantasia</th>\n",
       "      <th>cnpj</th>\n",
       "    </tr>\n",
       "  </thead>\n",
       "  <tbody>\n",
       "    <tr>\n",
       "      <th>0</th>\n",
       "      <td>31984735439</td>\n",
       "      <td>mr@gmail.com</td>\n",
       "      <td>1</td>\n",
       "      <td>Escocia LTDA</td>\n",
       "      <td>Escocesa Especular</td>\n",
       "      <td>12911507000186</td>\n",
       "    </tr>\n",
       "    <tr>\n",
       "      <th>1</th>\n",
       "      <td>32984735439</td>\n",
       "      <td>algum@gmail.com</td>\n",
       "      <td>1</td>\n",
       "      <td>Bingos Dingos LTDA</td>\n",
       "      <td>Bingos o Dingo</td>\n",
       "      <td>43694255431512</td>\n",
       "    </tr>\n",
       "  </tbody>\n",
       "</table>\n",
       "</div>"
      ]
     },
     "execution_count": 23,
     "metadata": {},
     "output_type": "execute_result"
    }
   ],
   "execution_count": 23
  },
  {
   "metadata": {},
   "cell_type": "markdown",
   "source": "Alternativamente",
   "id": "d72512876f90d3c1"
  },
  {
   "metadata": {
    "ExecuteTime": {
     "end_time": "2024-05-23T17:28:35.574363Z",
     "start_time": "2024-05-23T17:28:35.565333Z"
    }
   },
   "cell_type": "code",
   "source": [
    "pessoas_fisicas = UsuarioGenericoPessoaFisica.usuarios.from_usuarios_queryset(qs)\n",
    "pd.DataFrame(pessoas_fisicas.simple())"
   ],
   "id": "6a11ab461acfd469",
   "outputs": [
    {
     "data": {
      "text/plain": [
       "      telefone              email  scope     nome       sobrenome  \\\n",
       "0  32999781209    dem@hotmail.com      2    Bingo           Dingo   \n",
       "1  32999781209  coringa@gmail.com      3  Coringa  , O Brincalhão   \n",
       "\n",
       "  data_nascimento          cpf  \n",
       "0            None  51283834235  \n",
       "1            None  37705858797  "
      ],
      "text/html": [
       "<div>\n",
       "<style scoped>\n",
       "    .dataframe tbody tr th:only-of-type {\n",
       "        vertical-align: middle;\n",
       "    }\n",
       "\n",
       "    .dataframe tbody tr th {\n",
       "        vertical-align: top;\n",
       "    }\n",
       "\n",
       "    .dataframe thead th {\n",
       "        text-align: right;\n",
       "    }\n",
       "</style>\n",
       "<table border=\"1\" class=\"dataframe\">\n",
       "  <thead>\n",
       "    <tr style=\"text-align: right;\">\n",
       "      <th></th>\n",
       "      <th>telefone</th>\n",
       "      <th>email</th>\n",
       "      <th>scope</th>\n",
       "      <th>nome</th>\n",
       "      <th>sobrenome</th>\n",
       "      <th>data_nascimento</th>\n",
       "      <th>cpf</th>\n",
       "    </tr>\n",
       "  </thead>\n",
       "  <tbody>\n",
       "    <tr>\n",
       "      <th>0</th>\n",
       "      <td>32999781209</td>\n",
       "      <td>dem@hotmail.com</td>\n",
       "      <td>2</td>\n",
       "      <td>Bingo</td>\n",
       "      <td>Dingo</td>\n",
       "      <td>None</td>\n",
       "      <td>51283834235</td>\n",
       "    </tr>\n",
       "    <tr>\n",
       "      <th>1</th>\n",
       "      <td>32999781209</td>\n",
       "      <td>coringa@gmail.com</td>\n",
       "      <td>3</td>\n",
       "      <td>Coringa</td>\n",
       "      <td>, O Brincalhão</td>\n",
       "      <td>None</td>\n",
       "      <td>37705858797</td>\n",
       "    </tr>\n",
       "  </tbody>\n",
       "</table>\n",
       "</div>"
      ]
     },
     "execution_count": 24,
     "metadata": {},
     "output_type": "execute_result"
    }
   ],
   "execution_count": 24
  },
  {
   "metadata": {
    "ExecuteTime": {
     "end_time": "2024-05-23T17:28:35.580689Z",
     "start_time": "2024-05-23T17:28:35.575375Z"
    }
   },
   "cell_type": "code",
   "source": [
    "try:\n",
    "    print(qs[0].as_usuario_pessoa_fisica())\n",
    "except TypeError as e:\n",
    "    print(e)"
   ],
   "id": "ae3ef8caa8b2f58d",
   "outputs": [
    {
     "name": "stdout",
     "output_type": "stream",
     "text": [
      "O usuário não pode ser convertido pois a pessoa 12911507000186 não é uma pessoa física.\n"
     ]
    }
   ],
   "execution_count": 25
  },
  {
   "metadata": {
    "ExecuteTime": {
     "end_time": "2024-05-23T17:28:35.587209Z",
     "start_time": "2024-05-23T17:28:35.581700Z"
    }
   },
   "cell_type": "code",
   "source": [
    "try:\n",
    "    print(qs[0].as_usuario_pessoa_juridica())\n",
    "except TypeError as e:\n",
    "    print(e)"
   ],
   "id": "13603b24043f0d3b",
   "outputs": [
    {
     "name": "stdout",
     "output_type": "stream",
     "text": [
      "<UsuarioGenerico: {codigo=12911507000186, scope=Scope object (1)}>\n"
     ]
    }
   ],
   "execution_count": 26
  },
  {
   "metadata": {},
   "cell_type": "markdown",
   "source": "Basicamente isso exemplifica como trabalhar com um usuário. Em caso de herança o manager e queryset também deverão ser herdados. ",
   "id": "5ec7b5f5d9a6096"
  },
  {
   "metadata": {
    "ExecuteTime": {
     "end_time": "2024-05-23T17:28:35.590507Z",
     "start_time": "2024-05-23T17:28:35.588217Z"
    }
   },
   "cell_type": "code",
   "source": "from loja.models import Funcionario, Loja",
   "id": "51214e121ba6be1a",
   "outputs": [],
   "execution_count": 27
  },
  {
   "metadata": {
    "ExecuteTime": {
     "end_time": "2024-05-23T17:28:35.600033Z",
     "start_time": "2024-05-23T17:28:35.593515Z"
    }
   },
   "cell_type": "code",
   "source": [
    "loja = Loja.lojas.create()\n",
    "loja2 = Loja.lojas.create()"
   ],
   "id": "22b036b2bfab0608",
   "outputs": [],
   "execution_count": 28
  },
  {
   "metadata": {
    "ExecuteTime": {
     "end_time": "2024-05-23T17:28:35.945259Z",
     "start_time": "2024-05-23T17:28:35.601040Z"
    }
   },
   "cell_type": "code",
   "source": [
    "funcionario = Funcionario.funcionarios.criar_funcionario(\n",
    "    cpf='85103333864',\n",
    "    loja=loja2,\n",
    "    password='senha$#$doiasdf2345r',\n",
    "    email='hahahhahahah@gmail.com',\n",
    "    telefone='32999781209',\n",
    "    nome='Batman',\n",
    "    sobrenome=', O Mau'\n",
    ")"
   ],
   "id": "bbc871983f9b07ba",
   "outputs": [],
   "execution_count": 29
  },
  {
   "metadata": {
    "ExecuteTime": {
     "end_time": "2024-05-23T17:28:36.278473Z",
     "start_time": "2024-05-23T17:28:35.946277Z"
    }
   },
   "cell_type": "code",
   "source": [
    "funcionario = Funcionario.funcionarios.criar_funcionario(\n",
    "    cpf='55508842080',\n",
    "    loja=loja2,\n",
    "    password='senha$#$doiasdf2345r',\n",
    "    email='hahahhahahah@gmail.com',\n",
    "    telefone='32999781209',\n",
    "    nome='Batman',\n",
    "    sobrenome=', O Mau'\n",
    ")"
   ],
   "id": "4366cf54047325d5",
   "outputs": [],
   "execution_count": 30
  },
  {
   "metadata": {
    "ExecuteTime": {
     "end_time": "2024-05-23T17:28:36.290570Z",
     "start_time": "2024-05-23T17:28:36.278473Z"
    }
   },
   "cell_type": "code",
   "source": "print(Funcionario.funcionarios.all().values())",
   "id": "e61533397f83e665",
   "outputs": [
    {
     "name": "stdout",
     "output_type": "stream",
     "text": [
      "<FuncionarioQuerySet [{'id': 5, 'password': 'pbkdf2_sha256$720000$MoFqcOhGv3avwAd1s9pYRi$fRnSdFJF1x134srwNmu0FzV2cagsAgPr51MkUXRiAyA=', 'last_login': None, 'is_superuser': False, 'is_staff': False, 'is_active': True, 'date_joined': datetime.datetime(2024, 5, 23, 17, 28, 35, 607459, tzinfo=datetime.timezone.utc), 'pessoa_usuario_id': 5, 'telefone': '32999781209', 'email': 'hahahhahahah@gmail.com', 'usuario_id': 5, 'pessoa': '85103333864', 'nome': 'Batman', 'sobrenome': ', O Mau', 'data_nascimento': None, 'cpf': '85103333864', 'scope': 5, 'loja': 5}, {'id': 6, 'password': 'pbkdf2_sha256$720000$ykekuG1YfnKjzyKQn4BysX$ChFX8f6165k2zMSKdvU2ydjdItvPgfV8IujDkxXFwWM=', 'last_login': None, 'is_superuser': False, 'is_staff': False, 'is_active': True, 'date_joined': datetime.datetime(2024, 5, 23, 17, 28, 35, 951948, tzinfo=datetime.timezone.utc), 'pessoa_usuario_id': 6, 'telefone': '32999781209', 'email': 'hahahhahahah@gmail.com', 'usuario_id': 6, 'pessoa': '55508842080', 'nome': 'Batman', 'sobrenome': ', O Mau', 'data_nascimento': None, 'cpf': '55508842080', 'scope': 5, 'loja': 5}]>\n"
     ]
    }
   ],
   "execution_count": 31
  },
  {
   "metadata": {
    "ExecuteTime": {
     "end_time": "2024-05-23T17:38:41.798284Z",
     "start_time": "2024-05-23T17:38:41.792581Z"
    }
   },
   "cell_type": "code",
   "source": [
    "from django.contrib.postgres.aggregates import ArrayAgg\n",
    "\n",
    "qs = PessoaUsuario.objects.all()\n",
    "qs.values('scope').annotate(\n",
    "    pessoas=ArrayAgg('pessoa')\n",
    ")"
   ],
   "id": "c9bba621d40fff6",
   "outputs": [
    {
     "data": {
      "text/plain": [
       "<QuerySet [{'scope': 1, 'pessoas': ['12911507000186', '43694255431512']}, {'scope': 2, 'pessoas': ['51283834235']}, {'scope': 3, 'pessoas': ['37705858797']}, {'scope': 5, 'pessoas': ['85103333864', '55508842080']}]>"
      ]
     },
     "execution_count": 64,
     "metadata": {},
     "output_type": "execute_result"
    }
   ],
   "execution_count": 64
  },
  {
   "metadata": {
    "ExecuteTime": {
     "end_time": "2024-05-23T17:29:22.744468Z",
     "start_time": "2024-05-23T17:29:22.437859Z"
    }
   },
   "cell_type": "code",
   "source": "PessoaUsuario.codigos.pessoas_per_scope()",
   "id": "aa3bd569bfe14497",
   "outputs": [
    {
     "ename": "FieldError",
     "evalue": "Cannot resolve keyword '*' into field. Choices are: codigo, pessoa_fisica, pessoa_juridica, scopes",
     "output_type": "error",
     "traceback": [
      "\u001B[1;31m---------------------------------------------------------------------------\u001B[0m",
      "\u001B[1;31mFieldError\u001B[0m                                Traceback (most recent call last)",
      "File \u001B[1;32mC:\\main\\Programs\\CEFETEPTNM\\TCC_Sistema_Loja_SaaS\\venv\\Lib\\site-packages\\django\\db\\models\\sql\\query.py:1890\u001B[0m, in \u001B[0;36mQuery.setup_joins.<locals>.transform\u001B[1;34m(field, alias, name, previous)\u001B[0m\n\u001B[0;32m   1889\u001B[0m     wrapped \u001B[38;5;241m=\u001B[39m previous(field, alias)\n\u001B[1;32m-> 1890\u001B[0m     \u001B[38;5;28;01mreturn\u001B[39;00m \u001B[38;5;28;43mself\u001B[39;49m\u001B[38;5;241;43m.\u001B[39;49m\u001B[43mtry_transform\u001B[49m\u001B[43m(\u001B[49m\u001B[43mwrapped\u001B[49m\u001B[43m,\u001B[49m\u001B[43m \u001B[49m\u001B[43mname\u001B[49m\u001B[43m)\u001B[49m\n\u001B[0;32m   1891\u001B[0m \u001B[38;5;28;01mexcept\u001B[39;00m FieldError:\n\u001B[0;32m   1892\u001B[0m     \u001B[38;5;66;03m# FieldError is raised if the transform doesn't exist.\u001B[39;00m\n",
      "File \u001B[1;32mC:\\main\\Programs\\CEFETEPTNM\\TCC_Sistema_Loja_SaaS\\venv\\Lib\\site-packages\\django\\db\\models\\sql\\query.py:1427\u001B[0m, in \u001B[0;36mQuery.try_transform\u001B[1;34m(self, lhs, name)\u001B[0m\n\u001B[0;32m   1426\u001B[0m     suggestion \u001B[38;5;241m=\u001B[39m \u001B[38;5;124m\"\u001B[39m\u001B[38;5;124m.\u001B[39m\u001B[38;5;124m\"\u001B[39m\n\u001B[1;32m-> 1427\u001B[0m \u001B[38;5;28;01mraise\u001B[39;00m FieldError(\n\u001B[0;32m   1428\u001B[0m     \u001B[38;5;124m\"\u001B[39m\u001B[38;5;124mUnsupported lookup \u001B[39m\u001B[38;5;124m'\u001B[39m\u001B[38;5;132;01m%s\u001B[39;00m\u001B[38;5;124m'\u001B[39m\u001B[38;5;124m for \u001B[39m\u001B[38;5;132;01m%s\u001B[39;00m\u001B[38;5;124m or join on the field not \u001B[39m\u001B[38;5;124m\"\u001B[39m\n\u001B[0;32m   1429\u001B[0m     \u001B[38;5;124m\"\u001B[39m\u001B[38;5;124mpermitted\u001B[39m\u001B[38;5;132;01m%s\u001B[39;00m\u001B[38;5;124m\"\u001B[39m \u001B[38;5;241m%\u001B[39m (name, output_field\u001B[38;5;241m.\u001B[39m\u001B[38;5;18m__name__\u001B[39m, suggestion)\n\u001B[0;32m   1430\u001B[0m )\n",
      "\u001B[1;31mFieldError\u001B[0m: Unsupported lookup '*' for CharField or join on the field not permitted.",
      "\nDuring handling of the above exception, another exception occurred:\n",
      "\u001B[1;31mFieldError\u001B[0m                                Traceback (most recent call last)",
      "Cell \u001B[1;32mIn[33], line 1\u001B[0m\n\u001B[1;32m----> 1\u001B[0m \u001B[43mPessoaUsuario\u001B[49m\u001B[38;5;241;43m.\u001B[39;49m\u001B[43mcodigos\u001B[49m\u001B[38;5;241;43m.\u001B[39;49m\u001B[43mpessoas_per_scope\u001B[49m\u001B[43m(\u001B[49m\u001B[43m)\u001B[49m\n",
      "File \u001B[1;32mC:\\main\\Programs\\CEFETEPTNM\\TCC_Sistema_Loja_SaaS\\src\\common\\models\\pessoa_usuario.py:18\u001B[0m, in \u001B[0;36mPessoaUsuarioManager.pessoas_per_scope\u001B[1;34m(self)\u001B[0m\n\u001B[0;32m     17\u001B[0m \u001B[38;5;28;01mdef\u001B[39;00m \u001B[38;5;21mpessoas_per_scope\u001B[39m(\u001B[38;5;28mself\u001B[39m):\n\u001B[1;32m---> 18\u001B[0m     \u001B[38;5;28;43mself\u001B[39;49m\u001B[38;5;241;43m.\u001B[39;49m\u001B[43mvalues\u001B[49m\u001B[43m(\u001B[49m\u001B[38;5;124;43m'\u001B[39;49m\u001B[38;5;124;43mscope\u001B[39;49m\u001B[38;5;124;43m'\u001B[39;49m\u001B[43m)\u001B[49m\u001B[38;5;241;43m.\u001B[39;49m\u001B[43mannotate\u001B[49m\u001B[43m(\u001B[49m\n\u001B[0;32m     19\u001B[0m \u001B[43m        \u001B[49m\u001B[43mpessoas\u001B[49m\u001B[38;5;241;43m=\u001B[39;49m\u001B[43mJSONBAgg\u001B[49m\u001B[43m(\u001B[49m\u001B[38;5;124;43m\"\u001B[39;49m\u001B[38;5;124;43mpessoa__*\u001B[39;49m\u001B[38;5;124;43m\"\u001B[39;49m\u001B[43m)\u001B[49m\n\u001B[0;32m     20\u001B[0m \u001B[43m    \u001B[49m\u001B[43m)\u001B[49m\u001B[38;5;241m.\u001B[39mvalues(\u001B[38;5;124m'\u001B[39m\u001B[38;5;124mscope\u001B[39m\u001B[38;5;124m'\u001B[39m, \u001B[38;5;124m'\u001B[39m\u001B[38;5;124mpessoas\u001B[39m\u001B[38;5;124m'\u001B[39m)\n",
      "File \u001B[1;32mC:\\main\\Programs\\CEFETEPTNM\\TCC_Sistema_Loja_SaaS\\venv\\Lib\\site-packages\\django\\db\\models\\query.py:1630\u001B[0m, in \u001B[0;36mQuerySet.annotate\u001B[1;34m(self, *args, **kwargs)\u001B[0m\n\u001B[0;32m   1625\u001B[0m \u001B[38;5;250m\u001B[39m\u001B[38;5;124;03m\"\"\"\u001B[39;00m\n\u001B[0;32m   1626\u001B[0m \u001B[38;5;124;03mReturn a query set in which the returned objects have been annotated\u001B[39;00m\n\u001B[0;32m   1627\u001B[0m \u001B[38;5;124;03mwith extra data or aggregations.\u001B[39;00m\n\u001B[0;32m   1628\u001B[0m \u001B[38;5;124;03m\"\"\"\u001B[39;00m\n\u001B[0;32m   1629\u001B[0m \u001B[38;5;28mself\u001B[39m\u001B[38;5;241m.\u001B[39m_not_support_combined_queries(\u001B[38;5;124m\"\u001B[39m\u001B[38;5;124mannotate\u001B[39m\u001B[38;5;124m\"\u001B[39m)\n\u001B[1;32m-> 1630\u001B[0m \u001B[38;5;28;01mreturn\u001B[39;00m \u001B[38;5;28;43mself\u001B[39;49m\u001B[38;5;241;43m.\u001B[39;49m\u001B[43m_annotate\u001B[49m\u001B[43m(\u001B[49m\u001B[43margs\u001B[49m\u001B[43m,\u001B[49m\u001B[43m \u001B[49m\u001B[43mkwargs\u001B[49m\u001B[43m,\u001B[49m\u001B[43m \u001B[49m\u001B[43mselect\u001B[49m\u001B[38;5;241;43m=\u001B[39;49m\u001B[38;5;28;43;01mTrue\u001B[39;49;00m\u001B[43m)\u001B[49m\n",
      "File \u001B[1;32mC:\\main\\Programs\\CEFETEPTNM\\TCC_Sistema_Loja_SaaS\\venv\\Lib\\site-packages\\django\\db\\models\\query.py:1680\u001B[0m, in \u001B[0;36mQuerySet._annotate\u001B[1;34m(self, args, kwargs, select)\u001B[0m\n\u001B[0;32m   1678\u001B[0m         clone\u001B[38;5;241m.\u001B[39mquery\u001B[38;5;241m.\u001B[39madd_filtered_relation(annotation, alias)\n\u001B[0;32m   1679\u001B[0m     \u001B[38;5;28;01melse\u001B[39;00m:\n\u001B[1;32m-> 1680\u001B[0m         \u001B[43mclone\u001B[49m\u001B[38;5;241;43m.\u001B[39;49m\u001B[43mquery\u001B[49m\u001B[38;5;241;43m.\u001B[39;49m\u001B[43madd_annotation\u001B[49m\u001B[43m(\u001B[49m\n\u001B[0;32m   1681\u001B[0m \u001B[43m            \u001B[49m\u001B[43mannotation\u001B[49m\u001B[43m,\u001B[49m\n\u001B[0;32m   1682\u001B[0m \u001B[43m            \u001B[49m\u001B[43malias\u001B[49m\u001B[43m,\u001B[49m\n\u001B[0;32m   1683\u001B[0m \u001B[43m            \u001B[49m\u001B[43mselect\u001B[49m\u001B[38;5;241;43m=\u001B[39;49m\u001B[43mselect\u001B[49m\u001B[43m,\u001B[49m\n\u001B[0;32m   1684\u001B[0m \u001B[43m        \u001B[49m\u001B[43m)\u001B[49m\n\u001B[0;32m   1685\u001B[0m \u001B[38;5;28;01mfor\u001B[39;00m alias, annotation \u001B[38;5;129;01min\u001B[39;00m clone\u001B[38;5;241m.\u001B[39mquery\u001B[38;5;241m.\u001B[39mannotations\u001B[38;5;241m.\u001B[39mitems():\n\u001B[0;32m   1686\u001B[0m     \u001B[38;5;28;01mif\u001B[39;00m alias \u001B[38;5;129;01min\u001B[39;00m annotations \u001B[38;5;129;01mand\u001B[39;00m annotation\u001B[38;5;241m.\u001B[39mcontains_aggregate:\n",
      "File \u001B[1;32mC:\\main\\Programs\\CEFETEPTNM\\TCC_Sistema_Loja_SaaS\\venv\\Lib\\site-packages\\django\\db\\models\\sql\\query.py:1198\u001B[0m, in \u001B[0;36mQuery.add_annotation\u001B[1;34m(self, annotation, alias, select)\u001B[0m\n\u001B[0;32m   1196\u001B[0m \u001B[38;5;250m\u001B[39m\u001B[38;5;124;03m\"\"\"Add a single annotation expression to the Query.\"\"\"\u001B[39;00m\n\u001B[0;32m   1197\u001B[0m \u001B[38;5;28mself\u001B[39m\u001B[38;5;241m.\u001B[39mcheck_alias(alias)\n\u001B[1;32m-> 1198\u001B[0m annotation \u001B[38;5;241m=\u001B[39m \u001B[43mannotation\u001B[49m\u001B[38;5;241;43m.\u001B[39;49m\u001B[43mresolve_expression\u001B[49m\u001B[43m(\u001B[49m\u001B[38;5;28;43mself\u001B[39;49m\u001B[43m,\u001B[49m\u001B[43m \u001B[49m\u001B[43mallow_joins\u001B[49m\u001B[38;5;241;43m=\u001B[39;49m\u001B[38;5;28;43;01mTrue\u001B[39;49;00m\u001B[43m,\u001B[49m\u001B[43m \u001B[49m\u001B[43mreuse\u001B[49m\u001B[38;5;241;43m=\u001B[39;49m\u001B[38;5;28;43;01mNone\u001B[39;49;00m\u001B[43m)\u001B[49m\n\u001B[0;32m   1199\u001B[0m \u001B[38;5;28;01mif\u001B[39;00m select:\n\u001B[0;32m   1200\u001B[0m     \u001B[38;5;28mself\u001B[39m\u001B[38;5;241m.\u001B[39mappend_annotation_mask([alias])\n",
      "File \u001B[1;32mC:\\main\\Programs\\CEFETEPTNM\\TCC_Sistema_Loja_SaaS\\venv\\Lib\\site-packages\\django\\contrib\\postgres\\aggregates\\mixins.py:14\u001B[0m, in \u001B[0;36mOrderableAggMixin.resolve_expression\u001B[1;34m(self, *args, **kwargs)\u001B[0m\n\u001B[0;32m     12\u001B[0m \u001B[38;5;28;01mdef\u001B[39;00m \u001B[38;5;21mresolve_expression\u001B[39m(\u001B[38;5;28mself\u001B[39m, \u001B[38;5;241m*\u001B[39margs, \u001B[38;5;241m*\u001B[39m\u001B[38;5;241m*\u001B[39mkwargs):\n\u001B[0;32m     13\u001B[0m     \u001B[38;5;28mself\u001B[39m\u001B[38;5;241m.\u001B[39morder_by \u001B[38;5;241m=\u001B[39m \u001B[38;5;28mself\u001B[39m\u001B[38;5;241m.\u001B[39morder_by\u001B[38;5;241m.\u001B[39mresolve_expression(\u001B[38;5;241m*\u001B[39margs, \u001B[38;5;241m*\u001B[39m\u001B[38;5;241m*\u001B[39mkwargs)\n\u001B[1;32m---> 14\u001B[0m     \u001B[38;5;28;01mreturn\u001B[39;00m \u001B[38;5;28;43msuper\u001B[39;49m\u001B[43m(\u001B[49m\u001B[43m)\u001B[49m\u001B[38;5;241;43m.\u001B[39;49m\u001B[43mresolve_expression\u001B[49m\u001B[43m(\u001B[49m\u001B[38;5;241;43m*\u001B[39;49m\u001B[43margs\u001B[49m\u001B[43m,\u001B[49m\u001B[43m \u001B[49m\u001B[38;5;241;43m*\u001B[39;49m\u001B[38;5;241;43m*\u001B[39;49m\u001B[43mkwargs\u001B[49m\u001B[43m)\u001B[49m\n",
      "File \u001B[1;32mC:\\main\\Programs\\CEFETEPTNM\\TCC_Sistema_Loja_SaaS\\venv\\Lib\\site-packages\\django\\db\\models\\aggregates.py:65\u001B[0m, in \u001B[0;36mAggregate.resolve_expression\u001B[1;34m(self, query, allow_joins, reuse, summarize, for_save)\u001B[0m\n\u001B[0;32m     61\u001B[0m \u001B[38;5;28;01mdef\u001B[39;00m \u001B[38;5;21mresolve_expression\u001B[39m(\n\u001B[0;32m     62\u001B[0m     \u001B[38;5;28mself\u001B[39m, query\u001B[38;5;241m=\u001B[39m\u001B[38;5;28;01mNone\u001B[39;00m, allow_joins\u001B[38;5;241m=\u001B[39m\u001B[38;5;28;01mTrue\u001B[39;00m, reuse\u001B[38;5;241m=\u001B[39m\u001B[38;5;28;01mNone\u001B[39;00m, summarize\u001B[38;5;241m=\u001B[39m\u001B[38;5;28;01mFalse\u001B[39;00m, for_save\u001B[38;5;241m=\u001B[39m\u001B[38;5;28;01mFalse\u001B[39;00m\n\u001B[0;32m     63\u001B[0m ):\n\u001B[0;32m     64\u001B[0m     \u001B[38;5;66;03m# Aggregates are not allowed in UPDATE queries, so ignore for_save\u001B[39;00m\n\u001B[1;32m---> 65\u001B[0m     c \u001B[38;5;241m=\u001B[39m \u001B[38;5;28;43msuper\u001B[39;49m\u001B[43m(\u001B[49m\u001B[43m)\u001B[49m\u001B[38;5;241;43m.\u001B[39;49m\u001B[43mresolve_expression\u001B[49m\u001B[43m(\u001B[49m\u001B[43mquery\u001B[49m\u001B[43m,\u001B[49m\u001B[43m \u001B[49m\u001B[43mallow_joins\u001B[49m\u001B[43m,\u001B[49m\u001B[43m \u001B[49m\u001B[43mreuse\u001B[49m\u001B[43m,\u001B[49m\u001B[43m \u001B[49m\u001B[43msummarize\u001B[49m\u001B[43m)\u001B[49m\n\u001B[0;32m     66\u001B[0m     c\u001B[38;5;241m.\u001B[39mfilter \u001B[38;5;241m=\u001B[39m c\u001B[38;5;241m.\u001B[39mfilter \u001B[38;5;129;01mand\u001B[39;00m c\u001B[38;5;241m.\u001B[39mfilter\u001B[38;5;241m.\u001B[39mresolve_expression(\n\u001B[0;32m     67\u001B[0m         query, allow_joins, reuse, summarize\n\u001B[0;32m     68\u001B[0m     )\n\u001B[0;32m     69\u001B[0m     \u001B[38;5;28;01mif\u001B[39;00m summarize:\n\u001B[0;32m     70\u001B[0m         \u001B[38;5;66;03m# Summarized aggregates cannot refer to summarized aggregates.\u001B[39;00m\n",
      "File \u001B[1;32mC:\\main\\Programs\\CEFETEPTNM\\TCC_Sistema_Loja_SaaS\\venv\\Lib\\site-packages\\django\\db\\models\\expressions.py:975\u001B[0m, in \u001B[0;36mFunc.resolve_expression\u001B[1;34m(self, query, allow_joins, reuse, summarize, for_save)\u001B[0m\n\u001B[0;32m    973\u001B[0m c\u001B[38;5;241m.\u001B[39mis_summary \u001B[38;5;241m=\u001B[39m summarize\n\u001B[0;32m    974\u001B[0m \u001B[38;5;28;01mfor\u001B[39;00m pos, arg \u001B[38;5;129;01min\u001B[39;00m \u001B[38;5;28menumerate\u001B[39m(c\u001B[38;5;241m.\u001B[39msource_expressions):\n\u001B[1;32m--> 975\u001B[0m     c\u001B[38;5;241m.\u001B[39msource_expressions[pos] \u001B[38;5;241m=\u001B[39m \u001B[43marg\u001B[49m\u001B[38;5;241;43m.\u001B[39;49m\u001B[43mresolve_expression\u001B[49m\u001B[43m(\u001B[49m\n\u001B[0;32m    976\u001B[0m \u001B[43m        \u001B[49m\u001B[43mquery\u001B[49m\u001B[43m,\u001B[49m\u001B[43m \u001B[49m\u001B[43mallow_joins\u001B[49m\u001B[43m,\u001B[49m\u001B[43m \u001B[49m\u001B[43mreuse\u001B[49m\u001B[43m,\u001B[49m\u001B[43m \u001B[49m\u001B[43msummarize\u001B[49m\u001B[43m,\u001B[49m\u001B[43m \u001B[49m\u001B[43mfor_save\u001B[49m\n\u001B[0;32m    977\u001B[0m \u001B[43m    \u001B[49m\u001B[43m)\u001B[49m\n\u001B[0;32m    978\u001B[0m \u001B[38;5;28;01mreturn\u001B[39;00m c\n",
      "File \u001B[1;32mC:\\main\\Programs\\CEFETEPTNM\\TCC_Sistema_Loja_SaaS\\venv\\Lib\\site-packages\\django\\db\\models\\expressions.py:854\u001B[0m, in \u001B[0;36mF.resolve_expression\u001B[1;34m(self, query, allow_joins, reuse, summarize, for_save)\u001B[0m\n\u001B[0;32m    851\u001B[0m \u001B[38;5;28;01mdef\u001B[39;00m \u001B[38;5;21mresolve_expression\u001B[39m(\n\u001B[0;32m    852\u001B[0m     \u001B[38;5;28mself\u001B[39m, query\u001B[38;5;241m=\u001B[39m\u001B[38;5;28;01mNone\u001B[39;00m, allow_joins\u001B[38;5;241m=\u001B[39m\u001B[38;5;28;01mTrue\u001B[39;00m, reuse\u001B[38;5;241m=\u001B[39m\u001B[38;5;28;01mNone\u001B[39;00m, summarize\u001B[38;5;241m=\u001B[39m\u001B[38;5;28;01mFalse\u001B[39;00m, for_save\u001B[38;5;241m=\u001B[39m\u001B[38;5;28;01mFalse\u001B[39;00m\n\u001B[0;32m    853\u001B[0m ):\n\u001B[1;32m--> 854\u001B[0m     \u001B[38;5;28;01mreturn\u001B[39;00m \u001B[43mquery\u001B[49m\u001B[38;5;241;43m.\u001B[39;49m\u001B[43mresolve_ref\u001B[49m\u001B[43m(\u001B[49m\u001B[38;5;28;43mself\u001B[39;49m\u001B[38;5;241;43m.\u001B[39;49m\u001B[43mname\u001B[49m\u001B[43m,\u001B[49m\u001B[43m \u001B[49m\u001B[43mallow_joins\u001B[49m\u001B[43m,\u001B[49m\u001B[43m \u001B[49m\u001B[43mreuse\u001B[49m\u001B[43m,\u001B[49m\u001B[43m \u001B[49m\u001B[43msummarize\u001B[49m\u001B[43m)\u001B[49m\n",
      "File \u001B[1;32mC:\\main\\Programs\\CEFETEPTNM\\TCC_Sistema_Loja_SaaS\\venv\\Lib\\site-packages\\django\\db\\models\\sql\\query.py:2030\u001B[0m, in \u001B[0;36mQuery.resolve_ref\u001B[1;34m(self, name, allow_joins, reuse, summarize)\u001B[0m\n\u001B[0;32m   2025\u001B[0m     \u001B[38;5;28;01mraise\u001B[39;00m FieldError(\n\u001B[0;32m   2026\u001B[0m         \u001B[38;5;124m\"\u001B[39m\u001B[38;5;124mReferencing multicolumn fields with F() objects isn\u001B[39m\u001B[38;5;124m'\u001B[39m\u001B[38;5;124mt supported\u001B[39m\u001B[38;5;124m\"\u001B[39m\n\u001B[0;32m   2027\u001B[0m     )\n\u001B[0;32m   2028\u001B[0m \u001B[38;5;66;03m# Verify that the last lookup in name is a field or a transform:\u001B[39;00m\n\u001B[0;32m   2029\u001B[0m \u001B[38;5;66;03m# transform_function() raises FieldError if not.\u001B[39;00m\n\u001B[1;32m-> 2030\u001B[0m transform \u001B[38;5;241m=\u001B[39m \u001B[43mjoin_info\u001B[49m\u001B[38;5;241;43m.\u001B[39;49m\u001B[43mtransform_function\u001B[49m\u001B[43m(\u001B[49m\u001B[43mtargets\u001B[49m\u001B[43m[\u001B[49m\u001B[38;5;241;43m0\u001B[39;49m\u001B[43m]\u001B[49m\u001B[43m,\u001B[49m\u001B[43m \u001B[49m\u001B[43mfinal_alias\u001B[49m\u001B[43m)\u001B[49m\n\u001B[0;32m   2031\u001B[0m \u001B[38;5;28;01mif\u001B[39;00m reuse \u001B[38;5;129;01mis\u001B[39;00m \u001B[38;5;129;01mnot\u001B[39;00m \u001B[38;5;28;01mNone\u001B[39;00m:\n\u001B[0;32m   2032\u001B[0m     reuse\u001B[38;5;241m.\u001B[39mupdate(join_list)\n",
      "File \u001B[1;32mC:\\main\\Programs\\CEFETEPTNM\\TCC_Sistema_Loja_SaaS\\venv\\Lib\\site-packages\\django\\db\\models\\sql\\query.py:1894\u001B[0m, in \u001B[0;36mQuery.setup_joins.<locals>.transform\u001B[1;34m(field, alias, name, previous)\u001B[0m\n\u001B[0;32m   1891\u001B[0m \u001B[38;5;28;01mexcept\u001B[39;00m FieldError:\n\u001B[0;32m   1892\u001B[0m     \u001B[38;5;66;03m# FieldError is raised if the transform doesn't exist.\u001B[39;00m\n\u001B[0;32m   1893\u001B[0m     \u001B[38;5;28;01mif\u001B[39;00m \u001B[38;5;28misinstance\u001B[39m(final_field, Field) \u001B[38;5;129;01mand\u001B[39;00m last_field_exception:\n\u001B[1;32m-> 1894\u001B[0m         \u001B[38;5;28;01mraise\u001B[39;00m last_field_exception\n\u001B[0;32m   1895\u001B[0m     \u001B[38;5;28;01melse\u001B[39;00m:\n\u001B[0;32m   1896\u001B[0m         \u001B[38;5;28;01mraise\u001B[39;00m\n",
      "File \u001B[1;32mC:\\main\\Programs\\CEFETEPTNM\\TCC_Sistema_Loja_SaaS\\venv\\Lib\\site-packages\\django\\db\\models\\sql\\query.py:1867\u001B[0m, in \u001B[0;36mQuery.setup_joins\u001B[1;34m(self, names, opts, alias, can_reuse, allow_many)\u001B[0m\n\u001B[0;32m   1865\u001B[0m \u001B[38;5;28;01mfor\u001B[39;00m pivot \u001B[38;5;129;01min\u001B[39;00m \u001B[38;5;28mrange\u001B[39m(\u001B[38;5;28mlen\u001B[39m(names), \u001B[38;5;241m0\u001B[39m, \u001B[38;5;241m-\u001B[39m\u001B[38;5;241m1\u001B[39m):\n\u001B[0;32m   1866\u001B[0m     \u001B[38;5;28;01mtry\u001B[39;00m:\n\u001B[1;32m-> 1867\u001B[0m         path, final_field, targets, rest \u001B[38;5;241m=\u001B[39m \u001B[38;5;28;43mself\u001B[39;49m\u001B[38;5;241;43m.\u001B[39;49m\u001B[43mnames_to_path\u001B[49m\u001B[43m(\u001B[49m\n\u001B[0;32m   1868\u001B[0m \u001B[43m            \u001B[49m\u001B[43mnames\u001B[49m\u001B[43m[\u001B[49m\u001B[43m:\u001B[49m\u001B[43mpivot\u001B[49m\u001B[43m]\u001B[49m\u001B[43m,\u001B[49m\n\u001B[0;32m   1869\u001B[0m \u001B[43m            \u001B[49m\u001B[43mopts\u001B[49m\u001B[43m,\u001B[49m\n\u001B[0;32m   1870\u001B[0m \u001B[43m            \u001B[49m\u001B[43mallow_many\u001B[49m\u001B[43m,\u001B[49m\n\u001B[0;32m   1871\u001B[0m \u001B[43m            \u001B[49m\u001B[43mfail_on_missing\u001B[49m\u001B[38;5;241;43m=\u001B[39;49m\u001B[38;5;28;43;01mTrue\u001B[39;49;00m\u001B[43m,\u001B[49m\n\u001B[0;32m   1872\u001B[0m \u001B[43m        \u001B[49m\u001B[43m)\u001B[49m\n\u001B[0;32m   1873\u001B[0m     \u001B[38;5;28;01mexcept\u001B[39;00m FieldError \u001B[38;5;28;01mas\u001B[39;00m exc:\n\u001B[0;32m   1874\u001B[0m         \u001B[38;5;28;01mif\u001B[39;00m pivot \u001B[38;5;241m==\u001B[39m \u001B[38;5;241m1\u001B[39m:\n\u001B[0;32m   1875\u001B[0m             \u001B[38;5;66;03m# The first item cannot be a lookup, so it's safe\u001B[39;00m\n\u001B[0;32m   1876\u001B[0m             \u001B[38;5;66;03m# to raise the field error here.\u001B[39;00m\n",
      "File \u001B[1;32mC:\\main\\Programs\\CEFETEPTNM\\TCC_Sistema_Loja_SaaS\\venv\\Lib\\site-packages\\django\\db\\models\\sql\\query.py:1772\u001B[0m, in \u001B[0;36mQuery.names_to_path\u001B[1;34m(self, names, opts, allow_many, fail_on_missing)\u001B[0m\n\u001B[0;32m   1764\u001B[0m     \u001B[38;5;28;01mif\u001B[39;00m pos \u001B[38;5;241m==\u001B[39m \u001B[38;5;241m-\u001B[39m\u001B[38;5;241m1\u001B[39m \u001B[38;5;129;01mor\u001B[39;00m fail_on_missing:\n\u001B[0;32m   1765\u001B[0m         available \u001B[38;5;241m=\u001B[39m \u001B[38;5;28msorted\u001B[39m(\n\u001B[0;32m   1766\u001B[0m             [\n\u001B[0;32m   1767\u001B[0m                 \u001B[38;5;241m*\u001B[39mget_field_names_from_opts(opts),\n\u001B[1;32m   (...)\u001B[0m\n\u001B[0;32m   1770\u001B[0m             ]\n\u001B[0;32m   1771\u001B[0m         )\n\u001B[1;32m-> 1772\u001B[0m         \u001B[38;5;28;01mraise\u001B[39;00m FieldError(\n\u001B[0;32m   1773\u001B[0m             \u001B[38;5;124m\"\u001B[39m\u001B[38;5;124mCannot resolve keyword \u001B[39m\u001B[38;5;124m'\u001B[39m\u001B[38;5;132;01m%s\u001B[39;00m\u001B[38;5;124m'\u001B[39m\u001B[38;5;124m into field. \u001B[39m\u001B[38;5;124m\"\u001B[39m\n\u001B[0;32m   1774\u001B[0m             \u001B[38;5;124m\"\u001B[39m\u001B[38;5;124mChoices are: \u001B[39m\u001B[38;5;132;01m%s\u001B[39;00m\u001B[38;5;124m\"\u001B[39m \u001B[38;5;241m%\u001B[39m (name, \u001B[38;5;124m\"\u001B[39m\u001B[38;5;124m, \u001B[39m\u001B[38;5;124m\"\u001B[39m\u001B[38;5;241m.\u001B[39mjoin(available))\n\u001B[0;32m   1775\u001B[0m         )\n\u001B[0;32m   1776\u001B[0m     \u001B[38;5;28;01mbreak\u001B[39;00m\n\u001B[0;32m   1777\u001B[0m \u001B[38;5;66;03m# Check if we need any joins for concrete inheritance cases (the\u001B[39;00m\n\u001B[0;32m   1778\u001B[0m \u001B[38;5;66;03m# field lives in parent, but we are currently in one of its\u001B[39;00m\n\u001B[0;32m   1779\u001B[0m \u001B[38;5;66;03m# children)\u001B[39;00m\n",
      "\u001B[1;31mFieldError\u001B[0m: Cannot resolve keyword '*' into field. Choices are: codigo, pessoa_fisica, pessoa_juridica, scopes"
     ]
    }
   ],
   "execution_count": 33
  },
  {
   "metadata": {
    "ExecuteTime": {
     "end_time": "2024-05-23T17:28:36.909067Z",
     "start_time": "2024-05-23T17:28:36.294858Z"
    }
   },
   "cell_type": "code",
   "source": "Funcionario.funcionarios.get(loja=loja)",
   "id": "49084a2058322a05",
   "outputs": [
    {
     "ename": "DoesNotExist",
     "evalue": "Funcionario matching query does not exist.",
     "output_type": "error",
     "traceback": [
      "\u001B[1;31m---------------------------------------------------------------------------\u001B[0m",
      "\u001B[1;31mDoesNotExist\u001B[0m                              Traceback (most recent call last)",
      "Cell \u001B[1;32mIn[32], line 1\u001B[0m\n\u001B[1;32m----> 1\u001B[0m \u001B[43mFuncionario\u001B[49m\u001B[38;5;241;43m.\u001B[39;49m\u001B[43mfuncionarios\u001B[49m\u001B[38;5;241;43m.\u001B[39;49m\u001B[43mget\u001B[49m\u001B[43m(\u001B[49m\u001B[43mloja\u001B[49m\u001B[38;5;241;43m=\u001B[39;49m\u001B[43mloja\u001B[49m\u001B[43m)\u001B[49m\n",
      "File \u001B[1;32mC:\\main\\Programs\\CEFETEPTNM\\TCC_Sistema_Loja_SaaS\\venv\\Lib\\site-packages\\django\\db\\models\\manager.py:87\u001B[0m, in \u001B[0;36mBaseManager._get_queryset_methods.<locals>.create_method.<locals>.manager_method\u001B[1;34m(self, *args, **kwargs)\u001B[0m\n\u001B[0;32m     85\u001B[0m \u001B[38;5;129m@wraps\u001B[39m(method)\n\u001B[0;32m     86\u001B[0m \u001B[38;5;28;01mdef\u001B[39;00m \u001B[38;5;21mmanager_method\u001B[39m(\u001B[38;5;28mself\u001B[39m, \u001B[38;5;241m*\u001B[39margs, \u001B[38;5;241m*\u001B[39m\u001B[38;5;241m*\u001B[39mkwargs):\n\u001B[1;32m---> 87\u001B[0m     \u001B[38;5;28;01mreturn\u001B[39;00m \u001B[38;5;28;43mgetattr\u001B[39;49m\u001B[43m(\u001B[49m\u001B[38;5;28;43mself\u001B[39;49m\u001B[38;5;241;43m.\u001B[39;49m\u001B[43mget_queryset\u001B[49m\u001B[43m(\u001B[49m\u001B[43m)\u001B[49m\u001B[43m,\u001B[49m\u001B[43m \u001B[49m\u001B[43mname\u001B[49m\u001B[43m)\u001B[49m\u001B[43m(\u001B[49m\u001B[38;5;241;43m*\u001B[39;49m\u001B[43margs\u001B[49m\u001B[43m,\u001B[49m\u001B[43m \u001B[49m\u001B[38;5;241;43m*\u001B[39;49m\u001B[38;5;241;43m*\u001B[39;49m\u001B[43mkwargs\u001B[49m\u001B[43m)\u001B[49m\n",
      "File \u001B[1;32mC:\\main\\Programs\\CEFETEPTNM\\TCC_Sistema_Loja_SaaS\\venv\\Lib\\site-packages\\django\\db\\models\\query.py:649\u001B[0m, in \u001B[0;36mQuerySet.get\u001B[1;34m(self, *args, **kwargs)\u001B[0m\n\u001B[0;32m    647\u001B[0m     \u001B[38;5;28;01mreturn\u001B[39;00m clone\u001B[38;5;241m.\u001B[39m_result_cache[\u001B[38;5;241m0\u001B[39m]\n\u001B[0;32m    648\u001B[0m \u001B[38;5;28;01mif\u001B[39;00m \u001B[38;5;129;01mnot\u001B[39;00m num:\n\u001B[1;32m--> 649\u001B[0m     \u001B[38;5;28;01mraise\u001B[39;00m \u001B[38;5;28mself\u001B[39m\u001B[38;5;241m.\u001B[39mmodel\u001B[38;5;241m.\u001B[39mDoesNotExist(\n\u001B[0;32m    650\u001B[0m         \u001B[38;5;124m\"\u001B[39m\u001B[38;5;132;01m%s\u001B[39;00m\u001B[38;5;124m matching query does not exist.\u001B[39m\u001B[38;5;124m\"\u001B[39m \u001B[38;5;241m%\u001B[39m \u001B[38;5;28mself\u001B[39m\u001B[38;5;241m.\u001B[39mmodel\u001B[38;5;241m.\u001B[39m_meta\u001B[38;5;241m.\u001B[39mobject_name\n\u001B[0;32m    651\u001B[0m     )\n\u001B[0;32m    652\u001B[0m \u001B[38;5;28;01mraise\u001B[39;00m \u001B[38;5;28mself\u001B[39m\u001B[38;5;241m.\u001B[39mmodel\u001B[38;5;241m.\u001B[39mMultipleObjectsReturned(\n\u001B[0;32m    653\u001B[0m     \u001B[38;5;124m\"\u001B[39m\u001B[38;5;124mget() returned more than one \u001B[39m\u001B[38;5;132;01m%s\u001B[39;00m\u001B[38;5;124m -- it returned \u001B[39m\u001B[38;5;132;01m%s\u001B[39;00m\u001B[38;5;124m!\u001B[39m\u001B[38;5;124m\"\u001B[39m\n\u001B[0;32m    654\u001B[0m     \u001B[38;5;241m%\u001B[39m (\n\u001B[1;32m   (...)\u001B[0m\n\u001B[0;32m    657\u001B[0m     )\n\u001B[0;32m    658\u001B[0m )\n",
      "\u001B[1;31mDoesNotExist\u001B[0m: Funcionario matching query does not exist."
     ]
    }
   ],
   "execution_count": 32
  },
  {
   "metadata": {},
   "cell_type": "code",
   "source": [
    "funcionario.loja = loja2\n",
    "funcionario.save()\n",
    "funcionario"
   ],
   "id": "73fa9f49075829d5",
   "outputs": [],
   "execution_count": null
  },
  {
   "metadata": {},
   "cell_type": "code",
   "source": [
    "from django.db.models import OuterRef, Subquery\n",
    "\n",
    "funcionarios = Funcionario.funcionarios.filter(loja=OuterRef('pk'))"
   ],
   "id": "72bde158116559f9",
   "outputs": [],
   "execution_count": null
  },
  {
   "metadata": {},
   "cell_type": "code",
   "source": [
    "from django.db.models import F\n",
    "\n",
    "# Loja.lojas.values('pk').annotate(funcionarios=F('scope__unique_per_scope__usuario__funcionario_loja'))\n",
    "Loja.lojas.values('pk').annotate(funcionarios=funcionarios.values('pk'))\n"
   ],
   "id": "786b1910ab630752",
   "outputs": [],
   "execution_count": null
  },
  {
   "metadata": {},
   "cell_type": "code",
   "source": [
    "funcionarios = Funcionario.funcionarios.filter(loja=OuterRef('pk'))\n",
    "funcionarios_subquery = funcionarios.values('pk')\n",
    "\n",
    "lojas = Loja.lojas.values('scope')\n",
    "funcionarios = Funcionario.funcionarios.values('cpf')\n",
    "\n",
    "result = lojas.filter\n",
    "\n",
    "print(Loja.lojas.annotate(funcionarios=Subquery(funcionarios_subquery.values('pk'))).query)"
   ],
   "id": "922882f30ad95ec6",
   "outputs": [],
   "execution_count": null
  },
  {
   "metadata": {},
   "cell_type": "code",
   "source": "Loja.lojas.funcionarios_por_loja().values()",
   "id": "95db1e6ac8e15cad",
   "outputs": [],
   "execution_count": null
  },
  {
   "metadata": {},
   "cell_type": "code",
   "source": "Loja.lojas.values()",
   "id": "26e29cbfbc20c70f",
   "outputs": [],
   "execution_count": null
  },
  {
   "metadata": {},
   "cell_type": "code",
   "source": "loja.funcionarios",
   "id": "cd129ede7eeb1f78",
   "outputs": [],
   "execution_count": null
  }
 ],
 "metadata": {
  "kernelspec": {
   "display_name": "Python 3",
   "language": "python",
   "name": "python3"
  },
  "language_info": {
   "codemirror_mode": {
    "name": "ipython",
    "version": 2
   },
   "file_extension": ".py",
   "mimetype": "text/x-python",
   "name": "python",
   "nbconvert_exporter": "python",
   "pygments_lexer": "ipython2",
   "version": "2.7.6"
  }
 },
 "nbformat": 4,
 "nbformat_minor": 5
}
