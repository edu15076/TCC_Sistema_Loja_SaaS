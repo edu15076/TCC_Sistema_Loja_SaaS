{
 "cells": [
  {
   "cell_type": "code",
   "execution_count": 4,
   "metadata": {},
   "outputs": [
    {
     "name": "stdout",
     "output_type": "stream",
     "text": [
      "Python 3.12.3 (main, Apr 27 2024, 19:00:21) [GCC 11.4.0] on linux\n",
      "Django 5.0.4\n"
     ]
    }
   ],
   "source": [
    "import sys\n",
    "\n",
    "sys.path.append(\"../../../src\")\n",
    "\n",
    "from util.django import restart_django\n",
    "\n",
    "restart_django(imprimir_versoes=True)"
   ]
  },
  {
   "cell_type": "markdown",
   "metadata": {},
   "source": [
    "Para agilizar o desenvolvimento, o projeto conta com algumas `generic views`. Neste notebook há uma apresentação sobre as views genéricas responsaveis por lidar com listas de objetos que podem ser filtrados. Essas view estão disponiveis para importação em `util.views`, sendo atualmente dois tipos, a `filter_list.FilterListView`, que exibe uma lista de objetos que podem ser filtrados, e a `edit_list.CreateOrUpdateListView`, que herda da classe `FilterListView`, mencionada anteriormente, e permite editar essa lista de objetos."
   ]
  },
  {
   "cell_type": "markdown",
   "metadata": {},
   "source": [
    "## FilterListView"
   ]
  },
  {
   "cell_type": "code",
   "execution_count": 18,
   "metadata": {},
   "outputs": [],
   "source": [
    "from util.views.filter_list import FilterListView\n",
    "from django import forms\n",
    "from common.models import PessoaFisica"
   ]
  },
  {
   "cell_type": "markdown",
   "metadata": {},
   "source": [
    "A partir dessa view é possivel criar visualizações semelhantes ao que `ListView` cria mas com o acréscimo de mecânismos para filtrar a visualização. Essa filtragem pode ser feita através da definição do atributo `filter_form`, ele define um formulário que será exibido no template, através de \"*context_name*.filter_form\", e permitirá filtragens através do método GET. É **necessário** definir, na classe do formulário que será usado como `filter_form`, o atributo `filter_arguments` que pode ser um vetor informando as labels que serão usadas para filtrar ou um dicionário, para o mesmo propósito mas que é capaz de mapear a label do form (chave do dicionário) para o atributo do model (valor do dicionário). Além disso, se deseja que o formulário possa também ordenar os dados, defina o atributo `order_arguments`, um vetor informando o nome das labels usadas para ordenar."
   ]
  },
  {
   "cell_type": "code",
   "execution_count": 16,
   "metadata": {},
   "outputs": [],
   "source": [
    "class ExemploForm(forms.Form):\n",
    "    nome = forms.CharField(label=\"Your name\", max_length=100)\n",
    "    ORDER_CHOICES = [\n",
    "        ('data_nascimento', 'Mais novos'),\n",
    "        ('-data_nascimento', 'Mais velhors'),\n",
    "    ]\n",
    "    idade = forms.ChoiceField(choices=ORDER_CHOICES)\n",
    "\n",
    "    filter_arguments = ['nome']\n",
    "    order_arguments = ['idade']\n",
    "\n",
    "class ExemploView(FilterListView):\n",
    "    model = PessoaFisica\n",
    "    filter_form = ExemploForm\n",
    "    url_filter_kwargs = {\n",
    "        'scope':'escopo',\n",
    "    }"
   ]
  },
  {
   "cell_type": "markdown",
   "metadata": {},
   "source": [
    "Além de usar o `filter_form`, como é possivel ver no exemplo acima, é possivel definir argumentos a serem recuperados da url com o intuito de filtrar os dados. Essa configurção é feita pelo dicionário, os lista, `url_filter_kwargs`, definido na view. Como dicionário, `url_filter_kwargs` deve conter com chave o atributo do modelo filtrado e como valor o nome do argumento da url, uma notação alternativa e mais simples é definir `url_filter_kwargs` como um lista contendo uma string que equivale ao atributo do modelo filtrado e ao nome do argumento.\n",
    "\n",
    "Para o exemplo acima, a url poderia ser definida por `path('pessoa/<escopo>/', ExemploView.as_view())`."
   ]
  },
  {
   "cell_type": "markdown",
   "metadata": {},
   "source": [
    "Por fim, há mais um atributo na view relacionado ao usuário, o `user_attribute_name` indica o nome do atributo que faz referencia ao usuário no modelo. Se definido, o queryset será filtrado pelo usuário que está acessando."
   ]
  },
  {
   "cell_type": "markdown",
   "metadata": {},
   "source": [
    "## CreateOrUpdateListView"
   ]
  },
  {
   "cell_type": "code",
   "execution_count": 9,
   "metadata": {},
   "outputs": [],
   "source": [
    "from util.views.edit_list import CreateOrUpdateListView"
   ]
  },
  {
   "cell_type": "markdown",
   "metadata": {},
   "source": [
    "Essa classe permite adcionar ou editar um elemento da lista, além de poder filtra-la, isso é possivel porque ela herda, sobretudo, de `FilterListView` `ModelFormMixin`. Ela não exige, ou oferece, nenhum argumento adcional ao que as superclasses já oferecem mas requer o uso de `re_path` para determinar a rota da url. Essa url deve ser definida usando um padrão que informa que os argumento `pk` ou `slug` podem ser opcionais, assim permitindo criar um objeto quando ele não são passados ou atualizar o objeto, quando passados. O padrão é o seguinte: `(/(?P<pk>\\d+))?`."
   ]
  },
  {
   "cell_type": "code",
   "execution_count": 13,
   "metadata": {},
   "outputs": [],
   "source": [
    "class Exemplo2View(CreateOrUpdateListView):\n",
    "    model = PessoaFisica\n",
    "    filter_form = ExemploForm\n",
    "    url_filter_kwargs = {\n",
    "        'scope':'escopo',\n",
    "    }"
   ]
  },
  {
   "cell_type": "markdown",
   "metadata": {},
   "source": [
    "Para o exemplo acima, podemos usar uma url como a seguinte:\n",
    "\n",
    "```\n",
    "re_path(r'^pessoas/(?P<escopo>\\w+)(/(?P<pk>\\d+))?/$', Exemplo2View.as_view())\n",
    "```"
   ]
  }
 ],
 "metadata": {
  "kernelspec": {
   "display_name": "venv",
   "language": "python",
   "name": "python3"
  },
  "language_info": {
   "codemirror_mode": {
    "name": "ipython",
    "version": 3
   },
   "file_extension": ".py",
   "mimetype": "text/x-python",
   "name": "python",
   "nbconvert_exporter": "python",
   "pygments_lexer": "ipython3",
   "version": "3.12.3"
  }
 },
 "nbformat": 4,
 "nbformat_minor": 2
}
